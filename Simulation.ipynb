{
 "cells": [
  {
   "cell_type": "markdown",
   "source": [
    "# Double Pendulum Simulation"
   ],
   "metadata": {
    "collapsed": false
   },
   "id": "39d59d776500346e"
  },
  {
   "cell_type": "markdown",
   "source": [
    "![](/Users/Ian/Documents/Study/ComputerScience/Maxima/MS327/Python/Dynamics_Python/Unit6_Lagrangian_Mechanics/Double_Pendulum/Resources/Double_Pendulum.png)"
   ],
   "metadata": {
    "collapsed": false
   },
   "id": "c71cf293a34fc177"
  },
  {
   "cell_type": "code",
   "execution_count": 1,
   "id": "initial_id",
   "metadata": {
    "collapsed": true,
    "ExecuteTime": {
     "end_time": "2023-12-05T05:37:57.483462Z",
     "start_time": "2023-12-05T05:37:55.959005Z"
    }
   },
   "outputs": [
    {
     "name": "stdout",
     "output_type": "stream",
     "text": [
      "eqn1: Eq(omega1(t), Derivative(theta1(t), t))\n",
      "<class 'sympy.core.relational.Equality'>\n",
      "\n",
      "eqn2: Eq(omega2(t), Derivative(theta2(t), t))\n",
      "<class 'sympy.core.relational.Equality'>\n",
      "\n",
      "eqn3: Eq(Derivative(omega1(t), t), (g*m1*sin(theta1(t)) + g*m2*sin(theta1(t) - 2*theta2(t))/2 + g*m2*sin(theta1(t))/2 + l1*m2*omega1(t)**2*sin(2*theta1(t) - 2*theta2(t))/2 + l2*m2*omega2(t)**2*sin(theta1(t) - theta2(t)))/(l1*(-m1 + m2*cos(theta1(t) - theta2(t))**2 - m2)))\n",
      "<class 'sympy.core.relational.Equality'>\n",
      "\n",
      "eqn4: Eq(Derivative(omega2(t), t), ((m1 + m2)*(g*sin(theta2(t)) - l1*omega1(t)**2*sin(theta1(t) - theta2(t))) - (g*m1*sin(theta1(t)) + g*m2*sin(theta1(t)) + l2*m2*omega2(t)**2*sin(theta1(t) - theta2(t)))*cos(theta1(t) - theta2(t)))/(l2*(-m1 + m2*cos(theta1(t) - theta2(t))**2 - m2)))\n",
      "<class 'sympy.core.relational.Equality'>\n"
     ]
    }
   ],
   "source": [
    "from sympy import symbols, Function, Derivative, sympify, Matrix, Eq\n",
    "import numpy as np\n",
    "import matplotlib.pyplot as plt\n",
    "from scipy.integrate import odeint\n",
    "from DoublePendulum import DoublePendulum"
   ]
  },
  {
   "cell_type": "code",
   "execution_count": 2,
   "outputs": [],
   "source": [
    "# Define sympy variables and functions\n",
    "l1, l2, m1, m2, g, t = symbols(\"l1 l2 m1 m2 g t\", positive=True, real=True)\n",
    "theta1 = Function('theta1')(t)\n",
    "theta2 = Function('theta2')(t)\n",
    "omega1 = Function('omega1')(t)\n",
    "omega2 = Function('omega2')(t)"
   ],
   "metadata": {
    "collapsed": false,
    "ExecuteTime": {
     "end_time": "2023-12-05T05:37:57.488581Z",
     "start_time": "2023-12-05T05:37:57.486058Z"
    }
   },
   "id": "b00279749ba74b93"
  },
  {
   "cell_type": "code",
   "execution_count": 3,
   "outputs": [],
   "source": [
    "# Read equations of motion\n",
    "with open(\"equations.txt\", \"r\") as f:\n",
    "    lines = f.readlines()\n",
    "delimiter = \"#\" * 30\n",
    "equations = [sympify(line.strip()) for line in lines if line.strip() != delimiter]\n",
    "\n",
    "# Declare equations\n",
    "eqn1, eqn2, eqn3, eqn4 = equations"
   ],
   "metadata": {
    "collapsed": false,
    "ExecuteTime": {
     "end_time": "2023-12-05T05:37:57.523812Z",
     "start_time": "2023-12-05T05:37:57.490196Z"
    }
   },
   "id": "5b041cad08a7b6bc"
  },
  {
   "cell_type": "markdown",
   "source": [
    "We derived the equations of motion in `Derivation.ipynb`\n",
    "\n",
    "See [diego.assencio](https://diego.assencio.com/?index=1500c66ae7ab27bb0106467c68feebc6#mjx-eqn-post_1500c66ae7ab27bb0106467c68feebc6_first_order_eq_theta_omega)"
   ],
   "metadata": {
    "collapsed": false
   },
   "id": "10cc13b7a7003998"
  },
  {
   "cell_type": "code",
   "execution_count": 4,
   "outputs": [
    {
     "data": {
      "text/plain": "Eq(Matrix([\n[               omega1(t)],\n[               omega2(t)],\n[Derivative(omega1(t), t)],\n[Derivative(omega2(t), t)]]), Matrix([\n[                                                                                                                                                                                                                                                             Derivative(theta1(t), t)],\n[                                                                                                                                                                                                                                                             Derivative(theta2(t), t)],\n[           (g*m1*sin(theta1(t)) + g*m2*sin(theta1(t) - 2*theta2(t))/2 + g*m2*sin(theta1(t))/2 + l1*m2*sin(2*theta1(t) - 2*theta2(t))*Derivative(theta1(t), t)**2/2 + l2*m2*sin(theta1(t) - theta2(t))*Derivative(theta2(t), t)**2)/(l1*(-m1 + m2*cos(theta1(t) - theta2(t))**2 - m2))],\n[((m1 + m2)*(g*sin(theta2(t)) - l1*sin(theta1(t) - theta2(t))*Derivative(theta1(t), t)**2) - (g*m1*sin(theta1(t)) + g*m2*sin(theta1(t)) + l2*m2*sin(theta1(t) - theta2(t))*Derivative(theta2(t), t)**2)*cos(theta1(t) - theta2(t)))/(l2*(-m1 + m2*cos(theta1(t) - theta2(t))**2 - m2))]]))",
      "text/latex": "$\\displaystyle \\left[\\begin{matrix}\\omega_{1}{\\left(t \\right)}\\\\\\omega_{2}{\\left(t \\right)}\\\\\\frac{d}{d t} \\omega_{1}{\\left(t \\right)}\\\\\\frac{d}{d t} \\omega_{2}{\\left(t \\right)}\\end{matrix}\\right] = \\left[\\begin{matrix}\\frac{d}{d t} \\theta_{1}{\\left(t \\right)}\\\\\\frac{d}{d t} \\theta_{2}{\\left(t \\right)}\\\\\\frac{g m_{1} \\sin{\\left(\\theta_{1}{\\left(t \\right)} \\right)} + \\frac{g m_{2} \\sin{\\left(\\theta_{1}{\\left(t \\right)} - 2 \\theta_{2}{\\left(t \\right)} \\right)}}{2} + \\frac{g m_{2} \\sin{\\left(\\theta_{1}{\\left(t \\right)} \\right)}}{2} + \\frac{l_{1} m_{2} \\sin{\\left(2 \\theta_{1}{\\left(t \\right)} - 2 \\theta_{2}{\\left(t \\right)} \\right)} \\left(\\frac{d}{d t} \\theta_{1}{\\left(t \\right)}\\right)^{2}}{2} + l_{2} m_{2} \\sin{\\left(\\theta_{1}{\\left(t \\right)} - \\theta_{2}{\\left(t \\right)} \\right)} \\left(\\frac{d}{d t} \\theta_{2}{\\left(t \\right)}\\right)^{2}}{l_{1} \\left(- m_{1} + m_{2} \\cos^{2}{\\left(\\theta_{1}{\\left(t \\right)} - \\theta_{2}{\\left(t \\right)} \\right)} - m_{2}\\right)}\\\\\\frac{\\left(m_{1} + m_{2}\\right) \\left(g \\sin{\\left(\\theta_{2}{\\left(t \\right)} \\right)} - l_{1} \\sin{\\left(\\theta_{1}{\\left(t \\right)} - \\theta_{2}{\\left(t \\right)} \\right)} \\left(\\frac{d}{d t} \\theta_{1}{\\left(t \\right)}\\right)^{2}\\right) - \\left(g m_{1} \\sin{\\left(\\theta_{1}{\\left(t \\right)} \\right)} + g m_{2} \\sin{\\left(\\theta_{1}{\\left(t \\right)} \\right)} + l_{2} m_{2} \\sin{\\left(\\theta_{1}{\\left(t \\right)} - \\theta_{2}{\\left(t \\right)} \\right)} \\left(\\frac{d}{d t} \\theta_{2}{\\left(t \\right)}\\right)^{2}\\right) \\cos{\\left(\\theta_{1}{\\left(t \\right)} - \\theta_{2}{\\left(t \\right)} \\right)}}{l_{2} \\left(- m_{1} + m_{2} \\cos^{2}{\\left(\\theta_{1}{\\left(t \\right)} - \\theta_{2}{\\left(t \\right)} \\right)} - m_{2}\\right)}\\end{matrix}\\right]$"
     },
     "metadata": {},
     "output_type": "display_data"
    }
   ],
   "source": [
    "LHS = Matrix([[eqn1.lhs], [eqn2.lhs], [eqn3.lhs], [eqn4.lhs]])\n",
    "RHS = Matrix([[eqn1.rhs], [eqn2.rhs], [eqn3.rhs], [eqn4.rhs]])\n",
    "\n",
    "MAT_EQ = Eq(LHS, RHS)\n",
    "display(MAT_EQ)"
   ],
   "metadata": {
    "collapsed": false,
    "ExecuteTime": {
     "end_time": "2023-12-05T05:37:57.633957Z",
     "start_time": "2023-12-05T05:37:57.526362Z"
    }
   },
   "id": "74f9c422f3142843"
  },
  {
   "cell_type": "markdown",
   "source": [
    "----\n",
    "&nbsp;\n",
    "Set unity parameters such that, \n",
    "\n",
    "$$m_1=m_2=1\\text{kg}$$\n",
    "$$l_1=l_2=1\\text{m}$$"
   ],
   "metadata": {
    "collapsed": false
   },
   "id": "8f3998e5ccc7d18e"
  },
  {
   "cell_type": "code",
   "execution_count": 5,
   "outputs": [],
   "source": [
    "# Define parameters\n",
    "params = {\n",
    "    m1: 1,    # mass1\n",
    "    m2: 1,    # mass2\n",
    "    l1: 1,    # length1\n",
    "    l2: 1,    # length2\n",
    "    g : 9.81  # acceleration due to gravity\n",
    "}"
   ],
   "metadata": {
    "collapsed": false,
    "ExecuteTime": {
     "end_time": "2023-12-05T05:37:57.638836Z",
     "start_time": "2023-12-05T05:37:57.636123Z"
    }
   },
   "id": "f050d4295524d038"
  },
  {
   "cell_type": "markdown",
   "source": [
    "----\n",
    "&nbsp;\n",
    "## Double Pendulums"
   ],
   "metadata": {
    "collapsed": false
   },
   "id": "df275756dc43147"
  },
  {
   "cell_type": "code",
   "execution_count": 6,
   "outputs": [],
   "source": [
    "init_values = [0, 45, 0, 0]\n",
    "time = [0, 20, 500]"
   ],
   "metadata": {
    "collapsed": false,
    "ExecuteTime": {
     "end_time": "2023-12-05T05:38:00.017862Z",
     "start_time": "2023-12-05T05:38:00.009775Z"
    }
   },
   "id": "ef18077d2d8865a4"
  },
  {
   "cell_type": "code",
   "execution_count": 7,
   "outputs": [
    {
     "name": "stdout",
     "output_type": "stream",
     "text": [
      "(g*m1*sin(theta1(t)) + 0.5*g*m2*sin(theta1(t) - 2*theta2(t)) + 0.5*g*m2*sin(theta1(t)) + 0.5*l1*m2*omega1(t)**2*sin(2*theta1(t) - 2*theta2(t)) + l2*m2*omega2(t)**2*sin(theta1(t) - theta2(t)))/(l1*(-m1 + m2*cos(theta1(t) - theta2(t))**2 - m2))\n",
      "((m1 + m2)*(g*sin(theta2(t)) - l1*omega1(t)**2*sin(theta1(t) - theta2(t))) - (g*m1*sin(theta1(t)) + g*m2*sin(theta1(t)) + l2*m2*omega2(t)**2*sin(theta1(t) - theta2(t)))*cos(theta1(t) - theta2(t)))/(l2*(-m1 + m2*cos(theta1(t) - theta2(t))**2 - m2))\n"
     ]
    },
    {
     "ename": "NameError",
     "evalue": "name 'theta1' is not defined",
     "output_type": "error",
     "traceback": [
      "\u001B[0;31m---------------------------------------------------------------------------\u001B[0m",
      "\u001B[0;31mNameError\u001B[0m                                 Traceback (most recent call last)",
      "\u001B[0;32m/var/folders/s9/z74lxq2n7d9ct45y9_ffymd00000gn/T/ipykernel_16313/3481126719.py\u001B[0m in \u001B[0;36m<module>\u001B[0;34m\u001B[0m\n\u001B[0;32m----> 1\u001B[0;31m \u001B[0mpendulum1\u001B[0m \u001B[0;34m=\u001B[0m \u001B[0mDoublePendulum\u001B[0m\u001B[0;34m(\u001B[0m\u001B[0mparameters\u001B[0m\u001B[0;34m=\u001B[0m\u001B[0mparams\u001B[0m\u001B[0;34m,\u001B[0m \u001B[0minitial_conditions\u001B[0m\u001B[0;34m=\u001B[0m\u001B[0minit_values\u001B[0m\u001B[0;34m,\u001B[0m \u001B[0mtime_vector\u001B[0m\u001B[0;34m=\u001B[0m\u001B[0mtime\u001B[0m\u001B[0;34m)\u001B[0m\u001B[0;34m\u001B[0m\u001B[0;34m\u001B[0m\u001B[0m\n\u001B[0m",
      "\u001B[0;32m~/Documents/Study/ComputerScience/Maxima/MS327/Python/Dynamics_Python/Unit6_Lagrangian_Mechanics/Double_Pendulum/DoublePendulum.py\u001B[0m in \u001B[0;36m__init__\u001B[0;34m(self, parameters, initial_conditions, time_vector, integrator, **integrator_args)\u001B[0m\n\u001B[1;32m     77\u001B[0m             ]\n\u001B[1;32m     78\u001B[0m \u001B[0;34m\u001B[0m\u001B[0m\n\u001B[0;32m---> 79\u001B[0;31m         \u001B[0mself\u001B[0m\u001B[0;34m.\u001B[0m\u001B[0msol\u001B[0m \u001B[0;34m=\u001B[0m \u001B[0mself\u001B[0m\u001B[0;34m.\u001B[0m\u001B[0m_solve_ode\u001B[0m\u001B[0;34m(\u001B[0m\u001B[0mintegrator\u001B[0m\u001B[0;34m,\u001B[0m \u001B[0msystem\u001B[0m\u001B[0;34m,\u001B[0m \u001B[0;34m**\u001B[0m\u001B[0mintegrator_args\u001B[0m\u001B[0;34m)\u001B[0m\u001B[0;34m\u001B[0m\u001B[0;34m\u001B[0m\u001B[0m\n\u001B[0m\u001B[1;32m     80\u001B[0m \u001B[0;34m\u001B[0m\u001B[0m\n\u001B[1;32m     81\u001B[0m     \u001B[0;32mdef\u001B[0m \u001B[0m_solve_ode\u001B[0m\u001B[0;34m(\u001B[0m\u001B[0mself\u001B[0m\u001B[0;34m,\u001B[0m \u001B[0mintegrator\u001B[0m\u001B[0;34m,\u001B[0m \u001B[0msystem\u001B[0m\u001B[0;34m,\u001B[0m \u001B[0;34m**\u001B[0m\u001B[0mintegrator_args\u001B[0m\u001B[0;34m)\u001B[0m\u001B[0;34m:\u001B[0m\u001B[0;34m\u001B[0m\u001B[0;34m\u001B[0m\u001B[0m\n",
      "\u001B[0;32m~/Documents/Study/ComputerScience/Maxima/MS327/Python/Dynamics_Python/Unit6_Lagrangian_Mechanics/Double_Pendulum/DoublePendulum.py\u001B[0m in \u001B[0;36m_solve_ode\u001B[0;34m(self, integrator, system, **integrator_args)\u001B[0m\n\u001B[1;32m     84\u001B[0m             \u001B[0;31m# Specific arguments can be passed through integrator_args\u001B[0m\u001B[0;34m\u001B[0m\u001B[0;34m\u001B[0m\u001B[0m\n\u001B[1;32m     85\u001B[0m             \u001B[0;31m# For example, could pass atol, rtol, etc.\u001B[0m\u001B[0;34m\u001B[0m\u001B[0;34m\u001B[0m\u001B[0m\n\u001B[0;32m---> 86\u001B[0;31m             \u001B[0msol\u001B[0m \u001B[0;34m=\u001B[0m \u001B[0mintegrator\u001B[0m\u001B[0;34m(\u001B[0m\u001B[0msystem\u001B[0m\u001B[0;34m,\u001B[0m \u001B[0mself\u001B[0m\u001B[0;34m.\u001B[0m\u001B[0minitial_conditions\u001B[0m\u001B[0;34m,\u001B[0m \u001B[0mself\u001B[0m\u001B[0;34m.\u001B[0m\u001B[0mtime\u001B[0m\u001B[0;34m,\u001B[0m \u001B[0;34m**\u001B[0m\u001B[0mintegrator_args\u001B[0m\u001B[0;34m)\u001B[0m\u001B[0;34m\u001B[0m\u001B[0;34m\u001B[0m\u001B[0m\n\u001B[0m\u001B[1;32m     87\u001B[0m         \u001B[0;32melse\u001B[0m\u001B[0;34m:\u001B[0m\u001B[0;34m\u001B[0m\u001B[0;34m\u001B[0m\u001B[0m\n\u001B[1;32m     88\u001B[0m             \u001B[0;31m# Add more branches for other integrators as needed\u001B[0m\u001B[0;34m\u001B[0m\u001B[0;34m\u001B[0m\u001B[0m\n",
      "\u001B[0;32m~/opt/anaconda3/lib/python3.9/site-packages/scipy/integrate/odepack.py\u001B[0m in \u001B[0;36modeint\u001B[0;34m(func, y0, t, args, Dfun, col_deriv, full_output, ml, mu, rtol, atol, tcrit, h0, hmax, hmin, ixpr, mxstep, mxhnil, mxordn, mxords, printmessg, tfirst)\u001B[0m\n\u001B[1;32m    239\u001B[0m     \u001B[0mt\u001B[0m \u001B[0;34m=\u001B[0m \u001B[0mcopy\u001B[0m\u001B[0;34m(\u001B[0m\u001B[0mt\u001B[0m\u001B[0;34m)\u001B[0m\u001B[0;34m\u001B[0m\u001B[0;34m\u001B[0m\u001B[0m\n\u001B[1;32m    240\u001B[0m     \u001B[0my0\u001B[0m \u001B[0;34m=\u001B[0m \u001B[0mcopy\u001B[0m\u001B[0;34m(\u001B[0m\u001B[0my0\u001B[0m\u001B[0;34m)\u001B[0m\u001B[0;34m\u001B[0m\u001B[0;34m\u001B[0m\u001B[0m\n\u001B[0;32m--> 241\u001B[0;31m     output = _odepack.odeint(func, y0, t, args, Dfun, col_deriv, ml, mu,\n\u001B[0m\u001B[1;32m    242\u001B[0m                              \u001B[0mfull_output\u001B[0m\u001B[0;34m,\u001B[0m \u001B[0mrtol\u001B[0m\u001B[0;34m,\u001B[0m \u001B[0matol\u001B[0m\u001B[0;34m,\u001B[0m \u001B[0mtcrit\u001B[0m\u001B[0;34m,\u001B[0m \u001B[0mh0\u001B[0m\u001B[0;34m,\u001B[0m \u001B[0mhmax\u001B[0m\u001B[0;34m,\u001B[0m \u001B[0mhmin\u001B[0m\u001B[0;34m,\u001B[0m\u001B[0;34m\u001B[0m\u001B[0;34m\u001B[0m\u001B[0m\n\u001B[1;32m    243\u001B[0m                              \u001B[0mixpr\u001B[0m\u001B[0;34m,\u001B[0m \u001B[0mmxstep\u001B[0m\u001B[0;34m,\u001B[0m \u001B[0mmxhnil\u001B[0m\u001B[0;34m,\u001B[0m \u001B[0mmxordn\u001B[0m\u001B[0;34m,\u001B[0m \u001B[0mmxords\u001B[0m\u001B[0;34m,\u001B[0m\u001B[0;34m\u001B[0m\u001B[0;34m\u001B[0m\u001B[0m\n",
      "\u001B[0;32m~/Documents/Study/ComputerScience/Maxima/MS327/Python/Dynamics_Python/Unit6_Lagrangian_Mechanics/Double_Pendulum/DoublePendulum.py\u001B[0m in \u001B[0;36msystem\u001B[0;34m(y, t)\u001B[0m\n\u001B[1;32m     73\u001B[0m                 \u001B[0meqn1_func\u001B[0m\u001B[0;34m(\u001B[0m\u001B[0mth1\u001B[0m\u001B[0;34m,\u001B[0m \u001B[0mth2\u001B[0m\u001B[0;34m,\u001B[0m \u001B[0mw1\u001B[0m\u001B[0;34m,\u001B[0m \u001B[0mw2\u001B[0m\u001B[0;34m,\u001B[0m \u001B[0mt\u001B[0m\u001B[0;34m)\u001B[0m\u001B[0;34m,\u001B[0m\u001B[0;34m\u001B[0m\u001B[0;34m\u001B[0m\u001B[0m\n\u001B[1;32m     74\u001B[0m                 \u001B[0meqn2_func\u001B[0m\u001B[0;34m(\u001B[0m\u001B[0mth1\u001B[0m\u001B[0;34m,\u001B[0m \u001B[0mth2\u001B[0m\u001B[0;34m,\u001B[0m \u001B[0mw1\u001B[0m\u001B[0;34m,\u001B[0m \u001B[0mw2\u001B[0m\u001B[0;34m,\u001B[0m \u001B[0mt\u001B[0m\u001B[0;34m)\u001B[0m\u001B[0;34m,\u001B[0m\u001B[0;34m\u001B[0m\u001B[0;34m\u001B[0m\u001B[0m\n\u001B[0;32m---> 75\u001B[0;31m                 \u001B[0meqn3_func\u001B[0m\u001B[0;34m(\u001B[0m\u001B[0mth1\u001B[0m\u001B[0;34m,\u001B[0m \u001B[0mth2\u001B[0m\u001B[0;34m,\u001B[0m \u001B[0mw1\u001B[0m\u001B[0;34m,\u001B[0m \u001B[0mw2\u001B[0m\u001B[0;34m,\u001B[0m \u001B[0mt\u001B[0m\u001B[0;34m)\u001B[0m\u001B[0;34m,\u001B[0m\u001B[0;34m\u001B[0m\u001B[0;34m\u001B[0m\u001B[0m\n\u001B[0m\u001B[1;32m     76\u001B[0m                 \u001B[0meqn4_func\u001B[0m\u001B[0;34m(\u001B[0m\u001B[0mth1\u001B[0m\u001B[0;34m,\u001B[0m \u001B[0mth2\u001B[0m\u001B[0;34m,\u001B[0m \u001B[0mw1\u001B[0m\u001B[0;34m,\u001B[0m \u001B[0mw2\u001B[0m\u001B[0;34m,\u001B[0m \u001B[0mt\u001B[0m\u001B[0;34m)\u001B[0m\u001B[0;34m\u001B[0m\u001B[0;34m\u001B[0m\u001B[0m\n\u001B[1;32m     77\u001B[0m             ]\n",
      "\u001B[0;32m<lambdifygenerated-3>\u001B[0m in \u001B[0;36m_lambdifygenerated\u001B[0;34m(_Dummy_31, _Dummy_30, _Dummy_33, _Dummy_32, t)\u001B[0m\n\u001B[1;32m      1\u001B[0m \u001B[0;32mdef\u001B[0m \u001B[0m_lambdifygenerated\u001B[0m\u001B[0;34m(\u001B[0m\u001B[0m_Dummy_31\u001B[0m\u001B[0;34m,\u001B[0m \u001B[0m_Dummy_30\u001B[0m\u001B[0;34m,\u001B[0m \u001B[0m_Dummy_33\u001B[0m\u001B[0;34m,\u001B[0m \u001B[0m_Dummy_32\u001B[0m\u001B[0;34m,\u001B[0m \u001B[0mt\u001B[0m\u001B[0;34m)\u001B[0m\u001B[0;34m:\u001B[0m\u001B[0;34m\u001B[0m\u001B[0;34m\u001B[0m\u001B[0m\n\u001B[0;32m----> 2\u001B[0;31m     \u001B[0;32mreturn\u001B[0m \u001B[0;34m(\u001B[0m\u001B[0mg\u001B[0m\u001B[0;34m*\u001B[0m\u001B[0mm1\u001B[0m\u001B[0;34m*\u001B[0m\u001B[0msin\u001B[0m\u001B[0;34m(\u001B[0m\u001B[0mtheta1\u001B[0m\u001B[0;34m(\u001B[0m\u001B[0mt\u001B[0m\u001B[0;34m)\u001B[0m\u001B[0;34m)\u001B[0m \u001B[0;34m+\u001B[0m \u001B[0;36m0.5\u001B[0m\u001B[0;34m*\u001B[0m\u001B[0mg\u001B[0m\u001B[0;34m*\u001B[0m\u001B[0mm2\u001B[0m\u001B[0;34m*\u001B[0m\u001B[0msin\u001B[0m\u001B[0;34m(\u001B[0m\u001B[0mtheta1\u001B[0m\u001B[0;34m(\u001B[0m\u001B[0mt\u001B[0m\u001B[0;34m)\u001B[0m \u001B[0;34m-\u001B[0m \u001B[0;36m2\u001B[0m\u001B[0;34m*\u001B[0m\u001B[0mtheta2\u001B[0m\u001B[0;34m(\u001B[0m\u001B[0mt\u001B[0m\u001B[0;34m)\u001B[0m\u001B[0;34m)\u001B[0m \u001B[0;34m+\u001B[0m \u001B[0;36m0.5\u001B[0m\u001B[0;34m*\u001B[0m\u001B[0mg\u001B[0m\u001B[0;34m*\u001B[0m\u001B[0mm2\u001B[0m\u001B[0;34m*\u001B[0m\u001B[0msin\u001B[0m\u001B[0;34m(\u001B[0m\u001B[0mtheta1\u001B[0m\u001B[0;34m(\u001B[0m\u001B[0mt\u001B[0m\u001B[0;34m)\u001B[0m\u001B[0;34m)\u001B[0m \u001B[0;34m+\u001B[0m \u001B[0;36m0.5\u001B[0m\u001B[0;34m*\u001B[0m\u001B[0ml1\u001B[0m\u001B[0;34m*\u001B[0m\u001B[0mm2\u001B[0m\u001B[0;34m*\u001B[0m\u001B[0momega1\u001B[0m\u001B[0;34m(\u001B[0m\u001B[0mt\u001B[0m\u001B[0;34m)\u001B[0m\u001B[0;34m**\u001B[0m\u001B[0;36m2\u001B[0m\u001B[0;34m*\u001B[0m\u001B[0msin\u001B[0m\u001B[0;34m(\u001B[0m\u001B[0;36m2\u001B[0m\u001B[0;34m*\u001B[0m\u001B[0mtheta1\u001B[0m\u001B[0;34m(\u001B[0m\u001B[0mt\u001B[0m\u001B[0;34m)\u001B[0m \u001B[0;34m-\u001B[0m \u001B[0;36m2\u001B[0m\u001B[0;34m*\u001B[0m\u001B[0mtheta2\u001B[0m\u001B[0;34m(\u001B[0m\u001B[0mt\u001B[0m\u001B[0;34m)\u001B[0m\u001B[0;34m)\u001B[0m \u001B[0;34m+\u001B[0m \u001B[0ml2\u001B[0m\u001B[0;34m*\u001B[0m\u001B[0mm2\u001B[0m\u001B[0;34m*\u001B[0m\u001B[0momega2\u001B[0m\u001B[0;34m(\u001B[0m\u001B[0mt\u001B[0m\u001B[0;34m)\u001B[0m\u001B[0;34m**\u001B[0m\u001B[0;36m2\u001B[0m\u001B[0;34m*\u001B[0m\u001B[0msin\u001B[0m\u001B[0;34m(\u001B[0m\u001B[0mtheta1\u001B[0m\u001B[0;34m(\u001B[0m\u001B[0mt\u001B[0m\u001B[0;34m)\u001B[0m \u001B[0;34m-\u001B[0m \u001B[0mtheta2\u001B[0m\u001B[0;34m(\u001B[0m\u001B[0mt\u001B[0m\u001B[0;34m)\u001B[0m\u001B[0;34m)\u001B[0m\u001B[0;34m)\u001B[0m\u001B[0;34m/\u001B[0m\u001B[0;34m(\u001B[0m\u001B[0ml1\u001B[0m\u001B[0;34m*\u001B[0m\u001B[0;34m(\u001B[0m\u001B[0;34m-\u001B[0m\u001B[0mm1\u001B[0m \u001B[0;34m+\u001B[0m \u001B[0mm2\u001B[0m\u001B[0;34m*\u001B[0m\u001B[0mcos\u001B[0m\u001B[0;34m(\u001B[0m\u001B[0mtheta1\u001B[0m\u001B[0;34m(\u001B[0m\u001B[0mt\u001B[0m\u001B[0;34m)\u001B[0m \u001B[0;34m-\u001B[0m \u001B[0mtheta2\u001B[0m\u001B[0;34m(\u001B[0m\u001B[0mt\u001B[0m\u001B[0;34m)\u001B[0m\u001B[0;34m)\u001B[0m\u001B[0;34m**\u001B[0m\u001B[0;36m2\u001B[0m \u001B[0;34m-\u001B[0m \u001B[0mm2\u001B[0m\u001B[0;34m)\u001B[0m\u001B[0;34m)\u001B[0m\u001B[0;34m\u001B[0m\u001B[0;34m\u001B[0m\u001B[0m\n\u001B[0m",
      "\u001B[0;31mNameError\u001B[0m: name 'theta1' is not defined"
     ]
    }
   ],
   "source": [
    "pendulum1 = DoublePendulum(parameters=params, initial_conditions=init_values, time_vector=time)"
   ],
   "metadata": {
    "collapsed": false,
    "ExecuteTime": {
     "end_time": "2023-12-05T05:38:02.473426Z",
     "start_time": "2023-12-05T05:38:02.337862Z"
    }
   },
   "id": "49a7409c1b80a7b7"
  },
  {
   "cell_type": "code",
   "execution_count": 8,
   "outputs": [
    {
     "ename": "NameError",
     "evalue": "name 'pendulum1' is not defined",
     "output_type": "error",
     "traceback": [
      "\u001B[0;31m---------------------------------------------------------------------------\u001B[0m",
      "\u001B[0;31mNameError\u001B[0m                                 Traceback (most recent call last)",
      "\u001B[0;32m/var/folders/s9/z74lxq2n7d9ct45y9_ffymd00000gn/T/ipykernel_15484/686387266.py\u001B[0m in \u001B[0;36m<module>\u001B[0;34m\u001B[0m\n\u001B[0;32m----> 1\u001B[0;31m \u001B[0mpendulum1\u001B[0m\u001B[0;34m.\u001B[0m\u001B[0mtime_graph\u001B[0m\u001B[0;34m(\u001B[0m\u001B[0;34m)\u001B[0m\u001B[0;34m\u001B[0m\u001B[0;34m\u001B[0m\u001B[0m\n\u001B[0m",
      "\u001B[0;31mNameError\u001B[0m: name 'pendulum1' is not defined"
     ]
    }
   ],
   "source": [
    "pendulum1.time_graph()"
   ],
   "metadata": {
    "collapsed": false,
    "ExecuteTime": {
     "end_time": "2023-12-05T04:28:41.117184Z",
     "start_time": "2023-12-05T04:28:41.106534Z"
    }
   },
   "id": "27a56da65a7475c"
  },
  {
   "cell_type": "code",
   "execution_count": null,
   "outputs": [],
   "source": [],
   "metadata": {
    "collapsed": false
   },
   "id": "dc06758bf14be195"
  }
 ],
 "metadata": {
  "kernelspec": {
   "display_name": "Python 3",
   "language": "python",
   "name": "python3"
  },
  "language_info": {
   "codemirror_mode": {
    "name": "ipython",
    "version": 2
   },
   "file_extension": ".py",
   "mimetype": "text/x-python",
   "name": "python",
   "nbconvert_exporter": "python",
   "pygments_lexer": "ipython2",
   "version": "2.7.6"
  }
 },
 "nbformat": 4,
 "nbformat_minor": 5
}
