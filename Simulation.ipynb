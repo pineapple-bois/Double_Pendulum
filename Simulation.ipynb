{
 "cells": [
  {
   "cell_type": "markdown",
   "source": [
    "# Double Pendulum Simulation"
   ],
   "metadata": {
    "collapsed": false
   },
   "id": "39d59d776500346e"
  },
  {
   "cell_type": "markdown",
   "source": [
    "![](Double_Pendulum.png)"
   ],
   "metadata": {
    "collapsed": false
   },
   "id": "c71cf293a34fc177"
  },
  {
   "cell_type": "code",
   "execution_count": 1,
   "id": "initial_id",
   "metadata": {
    "collapsed": true,
    "ExecuteTime": {
     "end_time": "2023-12-06T14:17:10.042575Z",
     "start_time": "2023-12-06T14:17:01.028920Z"
    }
   },
   "outputs": [],
   "source": [
    "import sympy as sp\n",
    "import numpy as np\n",
    "import matplotlib.pyplot as plt\n",
    "from scipy.integrate import odeint\n",
    "from DoublePendulum import DoublePendulum, eq1, eq2, eq3, eq4"
   ]
  },
  {
   "cell_type": "markdown",
   "source": [
    "We derived the equations of motion from first principles in `Derivation.ipynb`\n",
    "\n",
    "See [diego.assencio](https://diego.assencio.com/?index=1500c66ae7ab27bb0106467c68feebc6#mjx-eqn-post_1500c66ae7ab27bb0106467c68feebc6_first_order_eq_theta_omega)"
   ],
   "metadata": {
    "collapsed": false
   },
   "id": "10cc13b7a7003998"
  },
  {
   "cell_type": "code",
   "execution_count": 2,
   "outputs": [
    {
     "data": {
      "text/plain": "Eq(Matrix([\n[               omega1(t)],\n[               omega2(t)],\n[Derivative(omega1(t), t)],\n[Derivative(omega2(t), t)]]), Matrix([\n[                                                                                                                                                                                                                                                             Derivative(theta1(t), t)],\n[                                                                                                                                                                                                                                                             Derivative(theta2(t), t)],\n[           (g*m1*sin(theta1(t)) + g*m2*sin(theta1(t) - 2*theta2(t))/2 + g*m2*sin(theta1(t))/2 + l1*m2*sin(2*theta1(t) - 2*theta2(t))*Derivative(theta1(t), t)**2/2 + l2*m2*sin(theta1(t) - theta2(t))*Derivative(theta2(t), t)**2)/(l1*(-m1 + m2*cos(theta1(t) - theta2(t))**2 - m2))],\n[((m1 + m2)*(g*sin(theta2(t)) - l1*sin(theta1(t) - theta2(t))*Derivative(theta1(t), t)**2) - (g*m1*sin(theta1(t)) + g*m2*sin(theta1(t)) + l2*m2*sin(theta1(t) - theta2(t))*Derivative(theta2(t), t)**2)*cos(theta1(t) - theta2(t)))/(l2*(-m1 + m2*cos(theta1(t) - theta2(t))**2 - m2))]]))",
      "text/latex": "$\\displaystyle \\left[\\begin{matrix}\\omega_{1}{\\left(t \\right)}\\\\\\omega_{2}{\\left(t \\right)}\\\\\\frac{d}{d t} \\omega_{1}{\\left(t \\right)}\\\\\\frac{d}{d t} \\omega_{2}{\\left(t \\right)}\\end{matrix}\\right] = \\left[\\begin{matrix}\\frac{d}{d t} \\theta_{1}{\\left(t \\right)}\\\\\\frac{d}{d t} \\theta_{2}{\\left(t \\right)}\\\\\\frac{g m_{1} \\sin{\\left(\\theta_{1}{\\left(t \\right)} \\right)} + \\frac{g m_{2} \\sin{\\left(\\theta_{1}{\\left(t \\right)} - 2 \\theta_{2}{\\left(t \\right)} \\right)}}{2} + \\frac{g m_{2} \\sin{\\left(\\theta_{1}{\\left(t \\right)} \\right)}}{2} + \\frac{l_{1} m_{2} \\sin{\\left(2 \\theta_{1}{\\left(t \\right)} - 2 \\theta_{2}{\\left(t \\right)} \\right)} \\left(\\frac{d}{d t} \\theta_{1}{\\left(t \\right)}\\right)^{2}}{2} + l_{2} m_{2} \\sin{\\left(\\theta_{1}{\\left(t \\right)} - \\theta_{2}{\\left(t \\right)} \\right)} \\left(\\frac{d}{d t} \\theta_{2}{\\left(t \\right)}\\right)^{2}}{l_{1} \\left(- m_{1} + m_{2} \\cos^{2}{\\left(\\theta_{1}{\\left(t \\right)} - \\theta_{2}{\\left(t \\right)} \\right)} - m_{2}\\right)}\\\\\\frac{\\left(m_{1} + m_{2}\\right) \\left(g \\sin{\\left(\\theta_{2}{\\left(t \\right)} \\right)} - l_{1} \\sin{\\left(\\theta_{1}{\\left(t \\right)} - \\theta_{2}{\\left(t \\right)} \\right)} \\left(\\frac{d}{d t} \\theta_{1}{\\left(t \\right)}\\right)^{2}\\right) - \\left(g m_{1} \\sin{\\left(\\theta_{1}{\\left(t \\right)} \\right)} + g m_{2} \\sin{\\left(\\theta_{1}{\\left(t \\right)} \\right)} + l_{2} m_{2} \\sin{\\left(\\theta_{1}{\\left(t \\right)} - \\theta_{2}{\\left(t \\right)} \\right)} \\left(\\frac{d}{d t} \\theta_{2}{\\left(t \\right)}\\right)^{2}\\right) \\cos{\\left(\\theta_{1}{\\left(t \\right)} - \\theta_{2}{\\left(t \\right)} \\right)}}{l_{2} \\left(- m_{1} + m_{2} \\cos^{2}{\\left(\\theta_{1}{\\left(t \\right)} - \\theta_{2}{\\left(t \\right)} \\right)} - m_{2}\\right)}\\end{matrix}\\right]$"
     },
     "metadata": {},
     "output_type": "display_data"
    }
   ],
   "source": [
    "LHS = sp.Matrix([[eq1.lhs], [eq2.lhs], [eq3.lhs], [eq4.lhs]])\n",
    "RHS = sp.Matrix([[eq1.rhs], [eq2.rhs], [eq3.rhs], [eq4.rhs]])\n",
    "MAT_EQ = sp.Eq(LHS, RHS)\n",
    "display(MAT_EQ)"
   ],
   "metadata": {
    "collapsed": false,
    "ExecuteTime": {
     "end_time": "2023-12-06T14:17:26.821003Z",
     "start_time": "2023-12-06T14:17:26.817903Z"
    }
   },
   "id": "74f9c422f3142843"
  },
  {
   "cell_type": "markdown",
   "source": [
    "----\n",
    "&nbsp;\n",
    "Set unity parameters such that, \n",
    "\n",
    "$$m_1=m_2=1\\text{kg}$$\n",
    "$$l_1=l_2=1\\text{m}$$"
   ],
   "metadata": {
    "collapsed": false
   },
   "id": "8f3998e5ccc7d18e"
  },
  {
   "cell_type": "code",
   "execution_count": 3,
   "outputs": [],
   "source": [
    "# Define parameters\n",
    "params = {\n",
    "    'm1': 1,    # mass1\n",
    "    'm2': 1,    # mass2\n",
    "    'l1': 1,    # length1\n",
    "    'l2': 1,    # length2\n",
    "    'g' : 9.81  # acceleration due to gravity\n",
    "}"
   ],
   "metadata": {
    "collapsed": false,
    "ExecuteTime": {
     "end_time": "2023-12-06T14:17:29.946429Z",
     "start_time": "2023-12-06T14:17:29.937677Z"
    }
   },
   "id": "f050d4295524d038"
  },
  {
   "cell_type": "markdown",
   "source": [
    "----\n",
    "&nbsp;\n",
    "## Double Pendulums"
   ],
   "metadata": {
    "collapsed": false
   },
   "id": "df275756dc43147"
  },
  {
   "cell_type": "code",
   "execution_count": 4,
   "outputs": [],
   "source": [
    "init_values = [0, 45, 0, 0]\n",
    "time = [0, 20, 500]"
   ],
   "metadata": {
    "collapsed": false,
    "ExecuteTime": {
     "end_time": "2023-12-06T14:17:32.414799Z",
     "start_time": "2023-12-06T14:17:32.406399Z"
    }
   },
   "id": "ef18077d2d8865a4"
  },
  {
   "cell_type": "code",
   "execution_count": 5,
   "outputs": [
    {
     "name": "stdout",
     "output_type": "stream",
     "text": [
      "(g*m1*sin(theta1(t)) + g*m2*sin(theta1(t) - 2*theta2(t))/2 + g*m2*sin(theta1(t))/2 + l1*m2*omega1(t)**2*sin(2*theta1(t) - 2*theta2(t))/2 + l2*m2*omega2(t)**2*sin(theta1(t) - theta2(t)))/(l1*(-m1 + m2*cos(theta1(t) - theta2(t))**2 - m2))\n",
      "((m1 + m2)*(g*sin(theta2(t)) - l1*omega1(t)**2*sin(theta1(t) - theta2(t))) - (g*m1*sin(theta1(t)) + g*m2*sin(theta1(t)) + l2*m2*omega2(t)**2*sin(theta1(t) - theta2(t)))*cos(theta1(t) - theta2(t)))/(l2*(-m1 + m2*cos(theta1(t) - theta2(t))**2 - m2))\n"
     ]
    },
    {
     "ename": "TypeError",
     "evalue": "Cannot convert expression to float",
     "output_type": "error",
     "traceback": [
      "\u001B[0;31m---------------------------------------------------------------------------\u001B[0m",
      "\u001B[0;31mTypeError\u001B[0m                                 Traceback (most recent call last)",
      "\u001B[0;32m/var/folders/s9/z74lxq2n7d9ct45y9_ffymd00000gn/T/ipykernel_85897/3481126719.py\u001B[0m in \u001B[0;36m<module>\u001B[0;34m\u001B[0m\n\u001B[0;32m----> 1\u001B[0;31m \u001B[0mpendulum1\u001B[0m \u001B[0;34m=\u001B[0m \u001B[0mDoublePendulum\u001B[0m\u001B[0;34m(\u001B[0m\u001B[0mparameters\u001B[0m\u001B[0;34m=\u001B[0m\u001B[0mparams\u001B[0m\u001B[0;34m,\u001B[0m \u001B[0minitial_conditions\u001B[0m\u001B[0;34m=\u001B[0m\u001B[0minit_values\u001B[0m\u001B[0;34m,\u001B[0m \u001B[0mtime_vector\u001B[0m\u001B[0;34m=\u001B[0m\u001B[0mtime\u001B[0m\u001B[0;34m)\u001B[0m\u001B[0;34m\u001B[0m\u001B[0;34m\u001B[0m\u001B[0m\n\u001B[0m",
      "\u001B[0;32m~/Documents/Study/ComputerScience/Maxima/MS327/Python/Dynamics_Python/Unit6_Lagrangian_Mechanics/Double_Pendulum/derivation.py\u001B[0m in \u001B[0;36m__init__\u001B[0;34m(self, parameters, initial_conditions, time_vector, integrator, **integrator_args)\u001B[0m\n\u001B[1;32m    294\u001B[0m             ]\n\u001B[1;32m    295\u001B[0m \u001B[0;34m\u001B[0m\u001B[0m\n\u001B[0;32m--> 296\u001B[0;31m         \u001B[0mself\u001B[0m\u001B[0;34m.\u001B[0m\u001B[0msol\u001B[0m \u001B[0;34m=\u001B[0m \u001B[0mself\u001B[0m\u001B[0;34m.\u001B[0m\u001B[0m_solve_ode\u001B[0m\u001B[0;34m(\u001B[0m\u001B[0mintegrator\u001B[0m\u001B[0;34m,\u001B[0m \u001B[0msystem\u001B[0m\u001B[0;34m,\u001B[0m \u001B[0;34m**\u001B[0m\u001B[0mintegrator_args\u001B[0m\u001B[0;34m)\u001B[0m\u001B[0;34m\u001B[0m\u001B[0;34m\u001B[0m\u001B[0m\n\u001B[0m\u001B[1;32m    297\u001B[0m \u001B[0;34m\u001B[0m\u001B[0m\n\u001B[1;32m    298\u001B[0m     \u001B[0;32mdef\u001B[0m \u001B[0m_solve_ode\u001B[0m\u001B[0;34m(\u001B[0m\u001B[0mself\u001B[0m\u001B[0;34m,\u001B[0m \u001B[0mintegrator\u001B[0m\u001B[0;34m,\u001B[0m \u001B[0msystem\u001B[0m\u001B[0;34m,\u001B[0m \u001B[0;34m**\u001B[0m\u001B[0mintegrator_args\u001B[0m\u001B[0;34m)\u001B[0m\u001B[0;34m:\u001B[0m\u001B[0;34m\u001B[0m\u001B[0;34m\u001B[0m\u001B[0m\n",
      "\u001B[0;32m~/Documents/Study/ComputerScience/Maxima/MS327/Python/Dynamics_Python/Unit6_Lagrangian_Mechanics/Double_Pendulum/derivation.py\u001B[0m in \u001B[0;36m_solve_ode\u001B[0;34m(self, integrator, system, **integrator_args)\u001B[0m\n\u001B[1;32m    308\u001B[0m             \u001B[0;31m# Specific arguments can be passed through integrator_args\u001B[0m\u001B[0;34m\u001B[0m\u001B[0;34m\u001B[0m\u001B[0m\n\u001B[1;32m    309\u001B[0m             \u001B[0;31m# For example, could pass atol, rtol, etc.\u001B[0m\u001B[0;34m\u001B[0m\u001B[0;34m\u001B[0m\u001B[0m\n\u001B[0;32m--> 310\u001B[0;31m             \u001B[0msol\u001B[0m \u001B[0;34m=\u001B[0m \u001B[0mintegrator\u001B[0m\u001B[0;34m(\u001B[0m\u001B[0msystem\u001B[0m\u001B[0;34m,\u001B[0m \u001B[0mself\u001B[0m\u001B[0;34m.\u001B[0m\u001B[0minitial_conditions\u001B[0m\u001B[0;34m,\u001B[0m \u001B[0mself\u001B[0m\u001B[0;34m.\u001B[0m\u001B[0mtime\u001B[0m\u001B[0;34m,\u001B[0m \u001B[0;34m**\u001B[0m\u001B[0mintegrator_args\u001B[0m\u001B[0;34m)\u001B[0m\u001B[0;34m\u001B[0m\u001B[0;34m\u001B[0m\u001B[0m\n\u001B[0m\u001B[1;32m    311\u001B[0m         \u001B[0;32melse\u001B[0m\u001B[0;34m:\u001B[0m\u001B[0;34m\u001B[0m\u001B[0;34m\u001B[0m\u001B[0m\n\u001B[1;32m    312\u001B[0m             \u001B[0;31m# Add more branches for other integrators as needed\u001B[0m\u001B[0;34m\u001B[0m\u001B[0;34m\u001B[0m\u001B[0m\n",
      "\u001B[0;32m~/opt/anaconda3/lib/python3.9/site-packages/scipy/integrate/odepack.py\u001B[0m in \u001B[0;36modeint\u001B[0;34m(func, y0, t, args, Dfun, col_deriv, full_output, ml, mu, rtol, atol, tcrit, h0, hmax, hmin, ixpr, mxstep, mxhnil, mxordn, mxords, printmessg, tfirst)\u001B[0m\n\u001B[1;32m    239\u001B[0m     \u001B[0mt\u001B[0m \u001B[0;34m=\u001B[0m \u001B[0mcopy\u001B[0m\u001B[0;34m(\u001B[0m\u001B[0mt\u001B[0m\u001B[0;34m)\u001B[0m\u001B[0;34m\u001B[0m\u001B[0;34m\u001B[0m\u001B[0m\n\u001B[1;32m    240\u001B[0m     \u001B[0my0\u001B[0m \u001B[0;34m=\u001B[0m \u001B[0mcopy\u001B[0m\u001B[0;34m(\u001B[0m\u001B[0my0\u001B[0m\u001B[0;34m)\u001B[0m\u001B[0;34m\u001B[0m\u001B[0;34m\u001B[0m\u001B[0m\n\u001B[0;32m--> 241\u001B[0;31m     output = _odepack.odeint(func, y0, t, args, Dfun, col_deriv, ml, mu,\n\u001B[0m\u001B[1;32m    242\u001B[0m                              \u001B[0mfull_output\u001B[0m\u001B[0;34m,\u001B[0m \u001B[0mrtol\u001B[0m\u001B[0;34m,\u001B[0m \u001B[0matol\u001B[0m\u001B[0;34m,\u001B[0m \u001B[0mtcrit\u001B[0m\u001B[0;34m,\u001B[0m \u001B[0mh0\u001B[0m\u001B[0;34m,\u001B[0m \u001B[0mhmax\u001B[0m\u001B[0;34m,\u001B[0m \u001B[0mhmin\u001B[0m\u001B[0;34m,\u001B[0m\u001B[0;34m\u001B[0m\u001B[0;34m\u001B[0m\u001B[0m\n\u001B[1;32m    243\u001B[0m                              \u001B[0mixpr\u001B[0m\u001B[0;34m,\u001B[0m \u001B[0mmxstep\u001B[0m\u001B[0;34m,\u001B[0m \u001B[0mmxhnil\u001B[0m\u001B[0;34m,\u001B[0m \u001B[0mmxordn\u001B[0m\u001B[0;34m,\u001B[0m \u001B[0mmxords\u001B[0m\u001B[0;34m,\u001B[0m\u001B[0;34m\u001B[0m\u001B[0;34m\u001B[0m\u001B[0m\n",
      "\u001B[0;32m~/opt/anaconda3/lib/python3.9/site-packages/sympy/core/expr.py\u001B[0m in \u001B[0;36m__float__\u001B[0;34m(self)\u001B[0m\n\u001B[1;32m    343\u001B[0m         \u001B[0;32mif\u001B[0m \u001B[0mresult\u001B[0m\u001B[0;34m.\u001B[0m\u001B[0mis_number\u001B[0m \u001B[0;32mand\u001B[0m \u001B[0mresult\u001B[0m\u001B[0;34m.\u001B[0m\u001B[0mas_real_imag\u001B[0m\u001B[0;34m(\u001B[0m\u001B[0;34m)\u001B[0m\u001B[0;34m[\u001B[0m\u001B[0;36m1\u001B[0m\u001B[0;34m]\u001B[0m\u001B[0;34m:\u001B[0m\u001B[0;34m\u001B[0m\u001B[0;34m\u001B[0m\u001B[0m\n\u001B[1;32m    344\u001B[0m             \u001B[0;32mraise\u001B[0m \u001B[0mTypeError\u001B[0m\u001B[0;34m(\u001B[0m\u001B[0;34m\"Cannot convert complex to float\"\u001B[0m\u001B[0;34m)\u001B[0m\u001B[0;34m\u001B[0m\u001B[0;34m\u001B[0m\u001B[0m\n\u001B[0;32m--> 345\u001B[0;31m         \u001B[0;32mraise\u001B[0m \u001B[0mTypeError\u001B[0m\u001B[0;34m(\u001B[0m\u001B[0;34m\"Cannot convert expression to float\"\u001B[0m\u001B[0;34m)\u001B[0m\u001B[0;34m\u001B[0m\u001B[0;34m\u001B[0m\u001B[0m\n\u001B[0m\u001B[1;32m    346\u001B[0m \u001B[0;34m\u001B[0m\u001B[0m\n\u001B[1;32m    347\u001B[0m     \u001B[0;32mdef\u001B[0m \u001B[0m__complex__\u001B[0m\u001B[0;34m(\u001B[0m\u001B[0mself\u001B[0m\u001B[0;34m)\u001B[0m\u001B[0;34m:\u001B[0m\u001B[0;34m\u001B[0m\u001B[0;34m\u001B[0m\u001B[0m\n",
      "\u001B[0;31mTypeError\u001B[0m: Cannot convert expression to float"
     ]
    }
   ],
   "source": [
    "pendulum1 = DoublePendulum(parameters=params, initial_conditions=init_values, time_vector=time)"
   ],
   "metadata": {
    "collapsed": false,
    "ExecuteTime": {
     "end_time": "2023-12-06T14:17:34.898369Z",
     "start_time": "2023-12-06T14:17:34.743427Z"
    }
   },
   "id": "49a7409c1b80a7b7"
  },
  {
   "cell_type": "code",
   "execution_count": 8,
   "outputs": [
    {
     "ename": "NameError",
     "evalue": "name 'pendulum1' is not defined",
     "output_type": "error",
     "traceback": [
      "\u001B[0;31m---------------------------------------------------------------------------\u001B[0m",
      "\u001B[0;31mNameError\u001B[0m                                 Traceback (most recent call last)",
      "\u001B[0;32m/var/folders/s9/z74lxq2n7d9ct45y9_ffymd00000gn/T/ipykernel_15484/686387266.py\u001B[0m in \u001B[0;36m<module>\u001B[0;34m\u001B[0m\n\u001B[0;32m----> 1\u001B[0;31m \u001B[0mpendulum1\u001B[0m\u001B[0;34m.\u001B[0m\u001B[0mtime_graph\u001B[0m\u001B[0;34m(\u001B[0m\u001B[0;34m)\u001B[0m\u001B[0;34m\u001B[0m\u001B[0;34m\u001B[0m\u001B[0m\n\u001B[0m",
      "\u001B[0;31mNameError\u001B[0m: name 'pendulum1' is not defined"
     ]
    }
   ],
   "source": [
    "pendulum1.time_graph()"
   ],
   "metadata": {
    "collapsed": false,
    "ExecuteTime": {
     "end_time": "2023-12-05T04:28:41.117184Z",
     "start_time": "2023-12-05T04:28:41.106534Z"
    }
   },
   "id": "27a56da65a7475c"
  },
  {
   "cell_type": "code",
   "execution_count": null,
   "outputs": [],
   "source": [],
   "metadata": {
    "collapsed": false
   },
   "id": "dc06758bf14be195"
  }
 ],
 "metadata": {
  "kernelspec": {
   "display_name": "Python 3",
   "language": "python",
   "name": "python3"
  },
  "language_info": {
   "codemirror_mode": {
    "name": "ipython",
    "version": 2
   },
   "file_extension": ".py",
   "mimetype": "text/x-python",
   "name": "python",
   "nbconvert_exporter": "python",
   "pygments_lexer": "ipython2",
   "version": "2.7.6"
  }
 },
 "nbformat": 4,
 "nbformat_minor": 5
}
