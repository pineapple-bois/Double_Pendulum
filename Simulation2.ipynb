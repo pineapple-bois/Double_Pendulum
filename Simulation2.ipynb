{
 "cells": [
  {
   "cell_type": "markdown",
   "source": [
    "# Double Pendulum Simulation"
   ],
   "metadata": {
    "collapsed": false
   },
   "id": "d0c3d91169487766"
  },
  {
   "cell_type": "markdown",
   "source": [
    "![](/Users/Ian/Documents/Study/ComputerScience/Maxima/MS327/Python/Dynamics_Python/Unit6_Lagrangian_Mechanics/Double_Pendulum/Resources/Double_Pendulum.png)"
   ],
   "metadata": {
    "collapsed": false
   },
   "id": "ee85f64544684d03"
  },
  {
   "cell_type": "code",
   "execution_count": 1,
   "id": "initial_id",
   "metadata": {
    "collapsed": true,
    "ExecuteTime": {
     "end_time": "2023-12-06T10:46:35.784240Z",
     "start_time": "2023-12-06T10:46:33.464491Z"
    }
   },
   "outputs": [],
   "source": [
    "import sympy as sp\n",
    "import numpy as np\n",
    "import matplotlib.pyplot as plt\n",
    "from scipy.integrate import odeint"
   ]
  },
  {
   "cell_type": "code",
   "execution_count": 2,
   "outputs": [],
   "source": [
    "# Read equations of motion\n",
    "with open(\"equations_rhs.txt\", \"r\") as f:\n",
    "    lines = f.readlines()\n",
    "\n",
    "# Extract RHS of equation between delimiters\n",
    "delimiter = \"#\" * 30\n",
    "eqn_rhs = [sp.sympify(line.strip()) for line in lines if line.strip() != delimiter]"
   ],
   "metadata": {
    "collapsed": false,
    "ExecuteTime": {
     "end_time": "2023-12-06T10:46:38.606119Z",
     "start_time": "2023-12-06T10:46:38.518877Z"
    }
   },
   "id": "5a8607dcc652d780"
  },
  {
   "cell_type": "code",
   "execution_count": 3,
   "outputs": [],
   "source": [
    "# Define sympy variables and functions\n",
    "t = sp.Symbol(\"t\") \n",
    "l1, l2, m1, m2, g = sp.symbols(\"l1, l2, m1, m2, g\", positive=True, real=True)\n",
    "theta1 = sp.Function('theta1')(t)\n",
    "theta2 = sp.Function('theta2')(t)\n",
    "omega1 = sp.Function('omega1')(t)\n",
    "omega2 = sp.Function('omega2')(t)"
   ],
   "metadata": {
    "collapsed": false,
    "ExecuteTime": {
     "end_time": "2023-12-06T10:46:41.558549Z",
     "start_time": "2023-12-06T10:46:41.551528Z"
    }
   },
   "id": "edfae9ac3afdf036"
  },
  {
   "cell_type": "code",
   "execution_count": 4,
   "outputs": [],
   "source": [
    "# Define the first order derivatives\n",
    "theta1dot = sp.Derivative(theta1, t)\n",
    "theta2dot = sp.Derivative(theta2, t)\n",
    "\n",
    "# Define the second order derivatives\n",
    "alpha1 = sp.Derivative(omega1, t)\n",
    "alpha2 = sp.Derivative(omega2, t)"
   ],
   "metadata": {
    "collapsed": false,
    "ExecuteTime": {
     "end_time": "2023-12-06T10:46:43.899973Z",
     "start_time": "2023-12-06T10:46:43.894150Z"
    }
   },
   "id": "42fd503a5720729"
  },
  {
   "cell_type": "code",
   "execution_count": 7,
   "outputs": [],
   "source": [
    "# Define equations\n",
    "eqn1 = sp.Eq(theta1dot, eqn_rhs[0])\n",
    "eqn2 = sp.Eq(theta2dot, eqn_rhs[1])\n",
    "eqn3 = sp.Eq(alpha1, eqn_rhs[2])\n",
    "eqn4 = sp.Eq(alpha2, eqn_rhs[3])"
   ],
   "metadata": {
    "collapsed": false,
    "ExecuteTime": {
     "end_time": "2023-12-06T10:48:33.380741Z",
     "start_time": "2023-12-06T10:48:33.357745Z"
    }
   },
   "id": "7ec6a71fce7d5631"
  },
  {
   "cell_type": "code",
   "execution_count": 8,
   "outputs": [
    {
     "name": "stdout",
     "output_type": "stream",
     "text": [
      "eqn1: Eq(Derivative(theta1(t), t), omega1(t))\n",
      "<class 'sympy.core.relational.Equality'>\n",
      "\n",
      "eqn2: Eq(Derivative(theta2(t), t), omega2(t))\n",
      "<class 'sympy.core.relational.Equality'>\n",
      "\n",
      "eqn3: Eq(Derivative(omega1(t), t), (g*m1*sin(theta1(t)) + g*m2*sin(theta1(t) - 2*theta2(t))/2 + g*m2*sin(theta1(t))/2 + l1*m2*omega1(t)**2*sin(2*theta1(t) - 2*theta2(t))/2 + l2*m2*omega2(t)**2*sin(theta1(t) - theta2(t)))/(l1*(-m1 + m2*cos(theta1(t) - theta2(t))**2 - m2)))\n",
      "<class 'sympy.core.relational.Equality'>\n",
      "\n",
      "eqn4: Eq(Derivative(omega2(t), t), ((m1 + m2)*(g*sin(theta2(t)) - l1*omega1(t)**2*sin(theta1(t) - theta2(t))) - (g*m1*sin(theta1(t)) + g*m2*sin(theta1(t)) + l2*m2*omega2(t)**2*sin(theta1(t) - theta2(t)))*cos(theta1(t) - theta2(t)))/(l2*(-m1 + m2*cos(theta1(t) - theta2(t))**2 - m2)))\n",
      "<class 'sympy.core.relational.Equality'>\n"
     ]
    }
   ],
   "source": [
    "eqn_system = [eqn1, eqn2, eqn3, eqn4]\n",
    "for i, eqn in enumerate(eqn_system):\n",
    "    print(f\"eqn{i+1}: {eqn}\\n{type(eqn)}\\n\")"
   ],
   "metadata": {
    "collapsed": false,
    "ExecuteTime": {
     "end_time": "2023-12-06T10:48:35.262163Z",
     "start_time": "2023-12-06T10:48:35.237375Z"
    }
   },
   "id": "c35175932122dec4"
  },
  {
   "cell_type": "markdown",
   "source": [
    "----\n",
    "&nbsp;\n",
    "## Substitute parameters"
   ],
   "metadata": {
    "collapsed": false
   },
   "id": "6fb43ddc6fc859f4"
  },
  {
   "cell_type": "markdown",
   "source": [
    "Set unity parameters such that, \n",
    "\n",
    "$$m_1=m_2=1\\text{kg}$$\n",
    "$$l_1=l_2=1\\text{m}$$"
   ],
   "metadata": {
    "collapsed": false
   },
   "id": "1452e4efbb17470c"
  },
  {
   "cell_type": "code",
   "execution_count": 15,
   "outputs": [],
   "source": [
    "# Define sympy variables and functions\n",
    "l1, l2, m1, m2, g, t = sp.symbols(\"l1 l2 m1 m2 g t\", positive=True, real=True)\n",
    "\n",
    "# Define parameters\n",
    "params = {\n",
    "    m1: 1,  # mass1\n",
    "    m2: 1,  # mass2\n",
    "    l1: 1,  # length1\n",
    "    l2: 1,  # length2\n",
    "    g : 9.81 # acceleration due to gravity\n",
    "}"
   ],
   "metadata": {
    "collapsed": false,
    "ExecuteTime": {
     "end_time": "2023-12-06T10:51:58.996923Z",
     "start_time": "2023-12-06T10:51:58.968801Z"
    }
   },
   "id": "9b3b7103586b2d2d"
  },
  {
   "cell_type": "code",
   "execution_count": 16,
   "outputs": [],
   "source": [
    "# Substitute parameters\n",
    "eq1_subst = eqn1.rhs.subs(params)\n",
    "eq2_subst = eqn2.rhs.subs(params)\n",
    "eq3_subst = eqn3.rhs.subs(params)\n",
    "eq4_subst = eqn4.rhs.subs(params)"
   ],
   "metadata": {
    "collapsed": false,
    "ExecuteTime": {
     "end_time": "2023-12-06T10:52:01.693985Z",
     "start_time": "2023-12-06T10:52:01.670659Z"
    }
   },
   "id": "bfd2ac2a72e7732f"
  },
  {
   "cell_type": "code",
   "execution_count": 17,
   "outputs": [
    {
     "data": {
      "text/plain": "(g*m1*sin(theta1(t)) + g*m2*sin(theta1(t) - 2*theta2(t))/2 + g*m2*sin(theta1(t))/2 + l1*m2*omega1(t)**2*sin(2*theta1(t) - 2*theta2(t))/2 + l2*m2*omega2(t)**2*sin(theta1(t) - theta2(t)))/(l1*(-m1 + m2*cos(theta1(t) - theta2(t))**2 - m2))",
      "text/latex": "$\\displaystyle \\frac{g m_{1} \\sin{\\left(\\theta_{1}{\\left(t \\right)} \\right)} + \\frac{g m_{2} \\sin{\\left(\\theta_{1}{\\left(t \\right)} - 2 \\theta_{2}{\\left(t \\right)} \\right)}}{2} + \\frac{g m_{2} \\sin{\\left(\\theta_{1}{\\left(t \\right)} \\right)}}{2} + \\frac{l_{1} m_{2} \\omega_{1}^{2}{\\left(t \\right)} \\sin{\\left(2 \\theta_{1}{\\left(t \\right)} - 2 \\theta_{2}{\\left(t \\right)} \\right)}}{2} + l_{2} m_{2} \\omega_{2}^{2}{\\left(t \\right)} \\sin{\\left(\\theta_{1}{\\left(t \\right)} - \\theta_{2}{\\left(t \\right)} \\right)}}{l_{1} \\left(- m_{1} + m_{2} \\cos^{2}{\\left(\\theta_{1}{\\left(t \\right)} - \\theta_{2}{\\left(t \\right)} \\right)} - m_{2}\\right)}$"
     },
     "execution_count": 17,
     "metadata": {},
     "output_type": "execute_result"
    }
   ],
   "source": [
    "eq3_subst"
   ],
   "metadata": {
    "collapsed": false,
    "ExecuteTime": {
     "end_time": "2023-12-06T10:52:03.847686Z",
     "start_time": "2023-12-06T10:52:03.827703Z"
    }
   },
   "id": "f73be885bd22dde6"
  },
  {
   "cell_type": "code",
   "execution_count": null,
   "outputs": [],
   "source": [],
   "metadata": {
    "collapsed": false
   },
   "id": "99e7d9222b74ce43"
  }
 ],
 "metadata": {
  "kernelspec": {
   "display_name": "Python 3",
   "language": "python",
   "name": "python3"
  },
  "language_info": {
   "codemirror_mode": {
    "name": "ipython",
    "version": 2
   },
   "file_extension": ".py",
   "mimetype": "text/x-python",
   "name": "python",
   "nbconvert_exporter": "python",
   "pygments_lexer": "ipython2",
   "version": "2.7.6"
  }
 },
 "nbformat": 4,
 "nbformat_minor": 5
}
