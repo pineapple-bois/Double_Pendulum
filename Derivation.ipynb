{
 "cells": [
  {
   "cell_type": "markdown",
   "id": "cfe0c1e811986855",
   "metadata": {},
   "source": [
    "# Double Pendulum Equations of Motion  \n",
    "## Lagrangian Formulation"
   ]
  },
  {
   "cell_type": "markdown",
   "id": "1148ed921a221a24",
   "metadata": {},
   "source": [
    "![](Resources/Double_Pendulum.png)"
   ]
  },
  {
   "cell_type": "markdown",
   "id": "8111a08ca5624fc3",
   "metadata": {},
   "source": [
    "#### The above figure shows simple pendulum suspended from another simple pendulum by a frictionless hinge. \n",
    "- Both pendulums move in the same plane. \n",
    "- In this system, the rods $OP_1$ and $P_1P_2$ are rigid, massless and inextensible.\n",
    "- The system has two degrees of freedom and is uniquely determined by the values of $\\theta_1$ and $\\theta_2$"
   ]
  },
  {
   "cell_type": "code",
   "execution_count": 1,
   "id": "initial_id",
   "metadata": {
    "collapsed": true,
    "ExecuteTime": {
     "end_time": "2023-12-05T06:56:41.142572Z",
     "start_time": "2023-12-05T06:56:39.536180Z"
    }
   },
   "outputs": [],
   "source": [
    "import sympy as sp"
   ]
  },
  {
   "cell_type": "code",
   "execution_count": 2,
   "id": "ec116cf8491fab47",
   "metadata": {
    "ExecuteTime": {
     "end_time": "2023-12-05T06:56:41.153267Z",
     "start_time": "2023-12-05T06:56:41.145391Z"
    }
   },
   "outputs": [],
   "source": [
    "# Declare variables & constants\n",
    "\n",
    "# Time variable\n",
    "t = sp.Symbol(\"t\") \n",
    "\n",
    "# Gravitational constant\n",
    "g = sp.Symbol(\"g\", positive=True, real=True)\n",
    "\n",
    "# Constants\n",
    "l1, l2, m1, m2 = sp.symbols(\"l1, l2, m1, m2\", positive=True, real=True)\n",
    "\n",
    "# declare symbolic variables\n",
    "theta1 = sp.Function('theta1')(t)\n",
    "theta2 = sp.Function('theta2')(t)\n",
    "theta1_dot = sp.Function('theta1_dot')(t)\n",
    "theta2_dot = sp.Function('theta2_dot')(t)"
   ]
  },
  {
   "cell_type": "code",
   "execution_count": 3,
   "id": "1cc8e8657c488940",
   "metadata": {
    "ExecuteTime": {
     "end_time": "2023-12-05T06:56:41.183965Z",
     "start_time": "2023-12-05T06:56:41.150439Z"
    }
   },
   "outputs": [],
   "source": [
    "# coordinates of P1\n",
    "x1 = l1*sp.sin(theta1)\n",
    "y1 = -l1*sp.cos(theta1)\n",
    "\n",
    "# coordinates of P2\n",
    "x2 = x1 + l2*sp.sin(theta2)\n",
    "y2 = y1 - l2*sp.cos(theta2)"
   ]
  },
  {
   "cell_type": "code",
   "execution_count": 4,
   "id": "c70c8559a19e9f5d",
   "metadata": {
    "ExecuteTime": {
     "end_time": "2023-12-05T06:56:41.195713Z",
     "start_time": "2023-12-05T06:56:41.184065Z"
    }
   },
   "outputs": [],
   "source": [
    "# derivatives w.r.t time\n",
    "xdot1 = sp.diff(x1, t)\n",
    "ydot1 = sp.diff(y1, t)\n",
    "\n",
    "xdot2 = sp.diff(x2, t)\n",
    "ydot2 = sp.diff(y2, t)"
   ]
  },
  {
   "cell_type": "markdown",
   "id": "5d90fd818fc97833",
   "metadata": {},
   "source": [
    "----\n",
    "&nbsp;\n",
    "#### Define Kinetic energy function, $T$ and potential energy function, $V$"
   ]
  },
  {
   "cell_type": "code",
   "execution_count": 5,
   "id": "29cabcdf55923881",
   "metadata": {
    "ExecuteTime": {
     "end_time": "2023-12-05T06:56:41.206929Z",
     "start_time": "2023-12-05T06:56:41.197706Z"
    }
   },
   "outputs": [],
   "source": [
    "def kinetic_energy(m, dx, dy, dz):\n",
    "    T = sp.Rational(1,2)*m*(dx**2 + dy**2 + dz**2)\n",
    "    return T"
   ]
  },
  {
   "cell_type": "code",
   "execution_count": 6,
   "id": "b524894ba0a0a43f",
   "metadata": {
    "ExecuteTime": {
     "end_time": "2023-12-05T06:56:41.207122Z",
     "start_time": "2023-12-05T06:56:41.200496Z"
    }
   },
   "outputs": [],
   "source": [
    "def potential_energy(m, g, h):\n",
    "    V = m*g*h\n",
    "    return V"
   ]
  },
  {
   "cell_type": "markdown",
   "id": "1212dd81eab12112",
   "metadata": {},
   "source": [
    "For $P_1$"
   ]
  },
  {
   "cell_type": "code",
   "execution_count": 7,
   "id": "d698177a4d3e08e4",
   "metadata": {
    "ExecuteTime": {
     "end_time": "2023-12-05T06:56:41.221181Z",
     "start_time": "2023-12-05T06:56:41.204496Z"
    }
   },
   "outputs": [],
   "source": [
    "T1 = kinetic_energy(m1, xdot1, ydot1, 0)\n",
    "V1 = potential_energy(m1, g, y1)"
   ]
  },
  {
   "cell_type": "markdown",
   "id": "a82857aff7167224",
   "metadata": {},
   "source": [
    "For $P_2$"
   ]
  },
  {
   "cell_type": "code",
   "execution_count": 8,
   "id": "bd43b5b8f9a2d567",
   "metadata": {
    "ExecuteTime": {
     "end_time": "2023-12-05T06:56:41.221349Z",
     "start_time": "2023-12-05T06:56:41.214724Z"
    }
   },
   "outputs": [],
   "source": [
    "T2 = kinetic_energy(m2, xdot2, ydot2, 0)\n",
    "V2 = potential_energy(m2, g, y2)"
   ]
  },
  {
   "cell_type": "markdown",
   "id": "eea5bd7ebf5ab5bc",
   "metadata": {},
   "source": [
    "----\n",
    "&nbsp;\n",
    "#### Form Lagrangian $L=T-V$"
   ]
  },
  {
   "cell_type": "code",
   "execution_count": 9,
   "id": "ae3ed0702fc0eca5",
   "metadata": {
    "ExecuteTime": {
     "end_time": "2023-12-05T06:56:41.776365Z",
     "start_time": "2023-12-05T06:56:41.266331Z"
    }
   },
   "outputs": [],
   "source": [
    "# Total kinetic energy of the system\n",
    "T = T1 + T2\n",
    "T_simplified = sp.trigsimp(T)\n",
    "T = T_simplified"
   ]
  },
  {
   "cell_type": "code",
   "execution_count": 10,
   "id": "6a351e615912dab8",
   "metadata": {
    "ExecuteTime": {
     "end_time": "2023-12-05T06:56:42.034140Z",
     "start_time": "2023-12-05T06:56:41.782214Z"
    }
   },
   "outputs": [],
   "source": [
    "# Total potential energy of the system\n",
    "V = V1 + V2\n",
    "V_simplified = sp.simplify(V)\n",
    "V = V_simplified"
   ]
  },
  {
   "cell_type": "code",
   "execution_count": 11,
   "id": "d7ee39c49688e33b",
   "metadata": {
    "ExecuteTime": {
     "end_time": "2023-12-05T06:56:42.046854Z",
     "start_time": "2023-12-05T06:56:42.043692Z"
    }
   },
   "outputs": [
    {
     "data": {
      "text/plain": "g*(l1*m1*cos(theta1(t)) + l1*m2*cos(theta1(t)) + l2*m2*cos(theta2(t))) + l1**2*m1*Derivative(theta1(t), t)**2/2 + m2*(l1**2*Derivative(theta1(t), t)**2 + 2*l1*l2*cos(theta1(t) - theta2(t))*Derivative(theta1(t), t)*Derivative(theta2(t), t) + l2**2*Derivative(theta2(t), t)**2)/2",
      "text/latex": "$\\displaystyle g \\left(l_{1} m_{1} \\cos{\\left(\\theta_{1}{\\left(t \\right)} \\right)} + l_{1} m_{2} \\cos{\\left(\\theta_{1}{\\left(t \\right)} \\right)} + l_{2} m_{2} \\cos{\\left(\\theta_{2}{\\left(t \\right)} \\right)}\\right) + \\frac{l_{1}^{2} m_{1} \\left(\\frac{d}{d t} \\theta_{1}{\\left(t \\right)}\\right)^{2}}{2} + \\frac{m_{2} \\left(l_{1}^{2} \\left(\\frac{d}{d t} \\theta_{1}{\\left(t \\right)}\\right)^{2} + 2 l_{1} l_{2} \\cos{\\left(\\theta_{1}{\\left(t \\right)} - \\theta_{2}{\\left(t \\right)} \\right)} \\frac{d}{d t} \\theta_{1}{\\left(t \\right)} \\frac{d}{d t} \\theta_{2}{\\left(t \\right)} + l_{2}^{2} \\left(\\frac{d}{d t} \\theta_{2}{\\left(t \\right)}\\right)^{2}\\right)}{2}$"
     },
     "metadata": {},
     "output_type": "display_data"
    }
   ],
   "source": [
    "# Lagrangian\n",
    "L = T - V\n",
    "display(L)"
   ]
  },
  {
   "cell_type": "markdown",
   "id": "462e5a3966d7acf0",
   "metadata": {},
   "source": [
    "----\n",
    "&nbsp;\n",
    "## Euler-Lagrange Equations: \n",
    "For each generalised coordinate $\\theta_i$\n",
    "\n",
    "$$\\frac{\\text{d}}{\\text{d}t}\\left(\\frac{\\partial L}{\\partial \\dot{\\theta}_i}\\right)-\\frac{\\partial L}{\\partial \\theta_i}=0$$"
   ]
  },
  {
   "cell_type": "code",
   "execution_count": 12,
   "id": "6d7dcd3104692a71",
   "metadata": {
    "ExecuteTime": {
     "end_time": "2023-12-05T06:56:42.056507Z",
     "start_time": "2023-12-05T06:56:42.048545Z"
    }
   },
   "outputs": [],
   "source": [
    "def euler_lagrange_equation(L, q):\n",
    "    \"\"\"\n",
    "    Computes the Euler-Lagrange equation for a given Lagrangian and variable.\n",
    "\n",
    "    Parameters\n",
    "    ----------\n",
    "    L : sympy.Expr\n",
    "        The Lagrangian of the system, a function that depends on generalized coordinates,\n",
    "        their derivatives, and time.\n",
    "    q : sympy.Function\n",
    "        A function representing a generalized coordinate of the system.\n",
    "        \n",
    "    Returns\n",
    "    -------\n",
    "    sympy.Expr\n",
    "        The Euler-Lagrange equation, a second order differential equation\n",
    "        describing the dynamics of the system.\n",
    "\n",
    "    \"\"\"\n",
    "    qdot = sp.diff(q, t)  # the derivative of the coordinate with respect to time\n",
    "    partial_q = sp.trigsimp(sp.diff(L, q))  # partial derivative of L with respect to q\n",
    "    partial_qdot = sp.trigsimp(sp.diff(L, qdot))  # partial derivative of L with respect to qdot\n",
    "       \n",
    "    eqn = sp.diff(partial_qdot, t) - partial_q # Euler-Lagrange equation\n",
    "    simplified_eqn = sp.simplify(eqn)\n",
    "    return simplified_eqn"
   ]
  },
  {
   "cell_type": "code",
   "execution_count": 13,
   "id": "8a8f5ef1ab7b0a2a",
   "metadata": {
    "ExecuteTime": {
     "end_time": "2023-12-05T06:56:43.001857Z",
     "start_time": "2023-12-05T06:56:42.142282Z"
    }
   },
   "outputs": [
    {
     "data": {
      "text/plain": "l1*(g*m1*sin(theta1(t)) + g*m2*sin(theta1(t)) + l1*m1*Derivative(theta1(t), (t, 2)) + l1*m2*Derivative(theta1(t), (t, 2)) + l2*m2*sin(theta1(t) - theta2(t))*Derivative(theta2(t), t)**2 + l2*m2*cos(theta1(t) - theta2(t))*Derivative(theta2(t), (t, 2)))",
      "text/latex": "$\\displaystyle l_{1} \\left(g m_{1} \\sin{\\left(\\theta_{1}{\\left(t \\right)} \\right)} + g m_{2} \\sin{\\left(\\theta_{1}{\\left(t \\right)} \\right)} + l_{1} m_{1} \\frac{d^{2}}{d t^{2}} \\theta_{1}{\\left(t \\right)} + l_{1} m_{2} \\frac{d^{2}}{d t^{2}} \\theta_{1}{\\left(t \\right)} + l_{2} m_{2} \\sin{\\left(\\theta_{1}{\\left(t \\right)} - \\theta_{2}{\\left(t \\right)} \\right)} \\left(\\frac{d}{d t} \\theta_{2}{\\left(t \\right)}\\right)^{2} + l_{2} m_{2} \\cos{\\left(\\theta_{1}{\\left(t \\right)} - \\theta_{2}{\\left(t \\right)} \\right)} \\frac{d^{2}}{d t^{2}} \\theta_{2}{\\left(t \\right)}\\right)$"
     },
     "metadata": {},
     "output_type": "display_data"
    }
   ],
   "source": [
    "theta1_eqn = euler_lagrange_equation(L, theta1)\n",
    "display(theta1_eqn)"
   ]
  },
  {
   "cell_type": "code",
   "execution_count": 14,
   "id": "71304b50e01216f6",
   "metadata": {
    "ExecuteTime": {
     "end_time": "2023-12-05T06:56:43.501587Z",
     "start_time": "2023-12-05T06:56:43.070648Z"
    }
   },
   "outputs": [
    {
     "data": {
      "text/plain": "l2*m2*(g*sin(theta2(t)) - l1*sin(theta1(t) - theta2(t))*Derivative(theta1(t), t)**2 + l1*cos(theta1(t) - theta2(t))*Derivative(theta1(t), (t, 2)) + l2*Derivative(theta2(t), (t, 2)))",
      "text/latex": "$\\displaystyle l_{2} m_{2} \\left(g \\sin{\\left(\\theta_{2}{\\left(t \\right)} \\right)} - l_{1} \\sin{\\left(\\theta_{1}{\\left(t \\right)} - \\theta_{2}{\\left(t \\right)} \\right)} \\left(\\frac{d}{d t} \\theta_{1}{\\left(t \\right)}\\right)^{2} + l_{1} \\cos{\\left(\\theta_{1}{\\left(t \\right)} - \\theta_{2}{\\left(t \\right)} \\right)} \\frac{d^{2}}{d t^{2}} \\theta_{1}{\\left(t \\right)} + l_{2} \\frac{d^{2}}{d t^{2}} \\theta_{2}{\\left(t \\right)}\\right)$"
     },
     "metadata": {},
     "output_type": "display_data"
    }
   ],
   "source": [
    "theta2_eqn = euler_lagrange_equation(L, theta2)\n",
    "display(theta2_eqn)"
   ]
  },
  {
   "cell_type": "markdown",
   "id": "8b185046b63260a",
   "metadata": {},
   "source": [
    "We can divide the $\\theta_1$ eqn by $l_1$ and the $\\theta_2$ eqn by $l_2m_2$"
   ]
  },
  {
   "cell_type": "code",
   "execution_count": 15,
   "id": "7f580d334ad4b0cc",
   "metadata": {
    "ExecuteTime": {
     "end_time": "2023-12-05T06:56:43.511877Z",
     "start_time": "2023-12-05T06:56:43.503173Z"
    }
   },
   "outputs": [],
   "source": [
    "theta1_eq = theta1_eqn / l1\n",
    "theta2_eq = theta2_eqn / (l2*m2)"
   ]
  },
  {
   "cell_type": "markdown",
   "id": "42440a729c9145b2",
   "metadata": {},
   "source": [
    "Redeclare as equations using SymPy's `Eq` class"
   ]
  },
  {
   "cell_type": "code",
   "execution_count": 16,
   "id": "cbd0f725da697779",
   "metadata": {
    "ExecuteTime": {
     "end_time": "2023-12-05T06:56:43.512104Z",
     "start_time": "2023-12-05T06:56:43.507191Z"
    }
   },
   "outputs": [],
   "source": [
    "eq1 = sp.Eq(theta1_eq, 0)\n",
    "eq2 = sp.Eq(theta2_eq, 0)"
   ]
  },
  {
   "cell_type": "code",
   "execution_count": 17,
   "id": "c24e90970506f1d1",
   "metadata": {
    "ExecuteTime": {
     "end_time": "2023-12-05T06:56:43.523616Z",
     "start_time": "2023-12-05T06:56:43.515475Z"
    }
   },
   "outputs": [
    {
     "data": {
      "text/plain": "Eq(g*m1*sin(theta1(t)) + g*m2*sin(theta1(t)) + l1*m1*Derivative(theta1(t), (t, 2)) + l1*m2*Derivative(theta1(t), (t, 2)) + l2*m2*sin(theta1(t) - theta2(t))*Derivative(theta2(t), t)**2 + l2*m2*cos(theta1(t) - theta2(t))*Derivative(theta2(t), (t, 2)), 0)",
      "text/latex": "$\\displaystyle g m_{1} \\sin{\\left(\\theta_{1}{\\left(t \\right)} \\right)} + g m_{2} \\sin{\\left(\\theta_{1}{\\left(t \\right)} \\right)} + l_{1} m_{1} \\frac{d^{2}}{d t^{2}} \\theta_{1}{\\left(t \\right)} + l_{1} m_{2} \\frac{d^{2}}{d t^{2}} \\theta_{1}{\\left(t \\right)} + l_{2} m_{2} \\sin{\\left(\\theta_{1}{\\left(t \\right)} - \\theta_{2}{\\left(t \\right)} \\right)} \\left(\\frac{d}{d t} \\theta_{2}{\\left(t \\right)}\\right)^{2} + l_{2} m_{2} \\cos{\\left(\\theta_{1}{\\left(t \\right)} - \\theta_{2}{\\left(t \\right)} \\right)} \\frac{d^{2}}{d t^{2}} \\theta_{2}{\\left(t \\right)} = 0$"
     },
     "metadata": {},
     "output_type": "display_data"
    }
   ],
   "source": [
    "display(eq1)"
   ]
  },
  {
   "cell_type": "code",
   "execution_count": 18,
   "id": "65857ff5faf27fe",
   "metadata": {
    "ExecuteTime": {
     "end_time": "2023-12-05T06:56:43.544875Z",
     "start_time": "2023-12-05T06:56:43.521914Z"
    }
   },
   "outputs": [
    {
     "data": {
      "text/plain": "Eq(g*sin(theta2(t)) - l1*sin(theta1(t) - theta2(t))*Derivative(theta1(t), t)**2 + l1*cos(theta1(t) - theta2(t))*Derivative(theta1(t), (t, 2)) + l2*Derivative(theta2(t), (t, 2)), 0)",
      "text/latex": "$\\displaystyle g \\sin{\\left(\\theta_{2}{\\left(t \\right)} \\right)} - l_{1} \\sin{\\left(\\theta_{1}{\\left(t \\right)} - \\theta_{2}{\\left(t \\right)} \\right)} \\left(\\frac{d}{d t} \\theta_{1}{\\left(t \\right)}\\right)^{2} + l_{1} \\cos{\\left(\\theta_{1}{\\left(t \\right)} - \\theta_{2}{\\left(t \\right)} \\right)} \\frac{d^{2}}{d t^{2}} \\theta_{1}{\\left(t \\right)} + l_{2} \\frac{d^{2}}{d t^{2}} \\theta_{2}{\\left(t \\right)} = 0$"
     },
     "metadata": {},
     "output_type": "display_data"
    }
   ],
   "source": [
    "display(eq2)"
   ]
  },
  {
   "cell_type": "markdown",
   "id": "63780e157ab7d634",
   "metadata": {},
   "source": [
    "#### Which are our coupled 2nd-order equations of motion"
   ]
  },
  {
   "cell_type": "markdown",
   "id": "cd1740e63f7ad574",
   "metadata": {},
   "source": [
    "----\n",
    "&nbsp;\n",
    "#### Rewrite E-L equations in form;\n",
    "\n",
    "$$\n",
    "\\begin{aligned}\n",
    "& \\ddot{\\theta}_1+\\alpha_1\\left(\\theta_1, \\theta_2\\right) \\ddot{\\theta}_2=f_1\\left(\\theta_1, \\theta_2, \\dot{\\theta}_1, \\dot{\\theta}_2\\right) \\\\\n",
    "& \\ddot{\\theta}_2+\\alpha_2\\left(\\theta_1, \\theta_2\\right) \\ddot{\\theta}_1=f_2\\left(\\theta_1, \\theta_2, \\dot{\\theta}_1, \\dot{\\theta}_2\\right)\n",
    "\\end{aligned}\n",
    "$$\n",
    "\n",
    "  "
   ]
  },
  {
   "cell_type": "markdown",
   "id": "94b6ca4fe1870604",
   "metadata": {},
   "source": [
    "#### Isolate the second derivative coefficients"
   ]
  },
  {
   "cell_type": "code",
   "execution_count": 19,
   "id": "b1ddbd794a8a6d4",
   "metadata": {
    "ExecuteTime": {
     "end_time": "2023-12-05T06:56:43.545372Z",
     "start_time": "2023-12-05T06:56:43.528315Z"
    }
   },
   "outputs": [],
   "source": [
    "def isolate_terms(equation):\n",
    "    \"\"\"\n",
    "    Returns the second derivative terms isolated from the given equation.\n",
    "    \n",
    "    Parameters:\n",
    "        equation (sympy.Eq): The equation from which to isolate the second derivative terms.\n",
    "    \n",
    "    Returns:\n",
    "        list: A list containing the isolated second derivative terms.\n",
    "    \"\"\"\n",
    "    # Define derivative terms\n",
    "    theta1ddot = sp.diff(theta1, t, 2)\n",
    "    theta2ddot = sp.diff(theta2, t, 2)\n",
    "    \n",
    "    terms = []\n",
    "\n",
    "    try:\n",
    "        th1 = sp.Eq(theta1ddot, sp.solve(equation, theta1ddot)[0])\n",
    "        rhs_eq = th1.rhs\n",
    "        alpha1 = sp.together(rhs_eq).as_numer_denom()[1]\n",
    "        eq_new = sp.Eq(th1.lhs * alpha1, th1.rhs * alpha1)\n",
    "        theta1_second = eq_new.lhs\n",
    "        terms.append(theta1_second)\n",
    "    except IndexError:\n",
    "        pass\n",
    "\n",
    "    try:\n",
    "        th2 = sp.Eq(theta2ddot, sp.solve(equation, theta2ddot)[0])\n",
    "        rhs_eq = th2.rhs\n",
    "        alpha2 = sp.together(rhs_eq).as_numer_denom()[1]\n",
    "        eq_new = sp.Eq(th2.lhs * alpha2, th2.rhs * alpha2)\n",
    "        theta2_second = eq_new.lhs\n",
    "        terms.append(theta2_second)\n",
    "    except IndexError:\n",
    "        pass\n",
    "\n",
    "    return terms"
   ]
  },
  {
   "cell_type": "markdown",
   "id": "4d54b4d8bf32d06e",
   "metadata": {},
   "source": [
    "#### Equation 1:"
   ]
  },
  {
   "cell_type": "code",
   "execution_count": 20,
   "id": "4f20a3b9ecab0939",
   "metadata": {
    "ExecuteTime": {
     "end_time": "2023-12-05T06:56:44.602540Z",
     "start_time": "2023-12-05T06:56:43.536739Z"
    }
   },
   "outputs": [
    {
     "data": {
      "text/plain": "Eq(l1*(m1 + m2)*Derivative(theta1(t), (t, 2)) + l2*m2*cos(theta1(t) - theta2(t))*Derivative(theta2(t), (t, 2)), g*m1*sin(theta1(t)) + g*m2*sin(theta1(t)) + l2*m2*sin(theta1(t) - theta2(t))*Derivative(theta2(t), t)**2)",
      "text/latex": "$\\displaystyle l_{1} \\left(m_{1} + m_{2}\\right) \\frac{d^{2}}{d t^{2}} \\theta_{1}{\\left(t \\right)} + l_{2} m_{2} \\cos{\\left(\\theta_{1}{\\left(t \\right)} - \\theta_{2}{\\left(t \\right)} \\right)} \\frac{d^{2}}{d t^{2}} \\theta_{2}{\\left(t \\right)} = g m_{1} \\sin{\\left(\\theta_{1}{\\left(t \\right)} \\right)} + g m_{2} \\sin{\\left(\\theta_{1}{\\left(t \\right)} \\right)} + l_{2} m_{2} \\sin{\\left(\\theta_{1}{\\left(t \\right)} - \\theta_{2}{\\left(t \\right)} \\right)} \\left(\\frac{d}{d t} \\theta_{2}{\\left(t \\right)}\\right)^{2}$"
     },
     "metadata": {},
     "output_type": "display_data"
    }
   ],
   "source": [
    "second_derivatives_1 = isolate_terms(eq1)\n",
    "\n",
    "lhs_1 = second_derivatives_1[0] + second_derivatives_1[1]\n",
    "rhs_1 = sp.simplify(eq1.lhs - lhs_1) \n",
    "\n",
    "eqn1 = sp.Eq(lhs_1, rhs_1)\n",
    "display(eqn1)"
   ]
  },
  {
   "cell_type": "markdown",
   "id": "6adaf78b9cb8c14a",
   "metadata": {},
   "source": [
    "#### Equation 2:"
   ]
  },
  {
   "cell_type": "code",
   "execution_count": 21,
   "id": "f2c591622c8ff3a4",
   "metadata": {
    "ExecuteTime": {
     "end_time": "2023-12-05T06:56:45.111076Z",
     "start_time": "2023-12-05T06:56:44.650818Z"
    }
   },
   "outputs": [
    {
     "data": {
      "text/plain": "Eq(l1*cos(theta1(t) - theta2(t))*Derivative(theta1(t), (t, 2)) + l2*Derivative(theta2(t), (t, 2)), g*sin(theta2(t)) - l1*sin(theta1(t) - theta2(t))*Derivative(theta1(t), t)**2)",
      "text/latex": "$\\displaystyle l_{1} \\cos{\\left(\\theta_{1}{\\left(t \\right)} - \\theta_{2}{\\left(t \\right)} \\right)} \\frac{d^{2}}{d t^{2}} \\theta_{1}{\\left(t \\right)} + l_{2} \\frac{d^{2}}{d t^{2}} \\theta_{2}{\\left(t \\right)} = g \\sin{\\left(\\theta_{2}{\\left(t \\right)} \\right)} - l_{1} \\sin{\\left(\\theta_{1}{\\left(t \\right)} - \\theta_{2}{\\left(t \\right)} \\right)} \\left(\\frac{d}{d t} \\theta_{1}{\\left(t \\right)}\\right)^{2}$"
     },
     "metadata": {},
     "output_type": "display_data"
    }
   ],
   "source": [
    "second_derivatives_2 = isolate_terms(eq2)\n",
    "\n",
    "lhs_2 = second_derivatives_2[0] + second_derivatives_2[1]\n",
    "rhs_2 = sp.simplify(eq2.lhs - lhs_2)\n",
    "\n",
    "eqn2 = sp.Eq(lhs_2, rhs_2)\n",
    "display(eqn2)"
   ]
  },
  {
   "cell_type": "markdown",
   "id": "9985bb4d730c62fc",
   "metadata": {},
   "source": [
    "----\n",
    "&nbsp;\n",
    "We can divide eqn1 by $l_1(m_1+m_2)$ and eqn2 by $l_2$"
   ]
  },
  {
   "cell_type": "code",
   "execution_count": 22,
   "id": "39fa04154a1f8279",
   "metadata": {
    "ExecuteTime": {
     "end_time": "2023-12-05T06:56:46.027077Z",
     "start_time": "2023-12-05T06:56:45.179524Z"
    }
   },
   "outputs": [
    {
     "data": {
      "text/plain": "Eq((l1*(m1 + m2)*Derivative(theta1(t), (t, 2)) + l2*m2*cos(theta1(t) - theta2(t))*Derivative(theta2(t), (t, 2)))/(l1*(m1 + m2)), (g*m1*sin(theta1(t)) + g*m2*sin(theta1(t)) + l2*m2*sin(theta1(t) - theta2(t))*Derivative(theta2(t), t)**2)/(l1*(m1 + m2)))",
      "text/latex": "$\\displaystyle \\frac{l_{1} \\left(m_{1} + m_{2}\\right) \\frac{d^{2}}{d t^{2}} \\theta_{1}{\\left(t \\right)} + l_{2} m_{2} \\cos{\\left(\\theta_{1}{\\left(t \\right)} - \\theta_{2}{\\left(t \\right)} \\right)} \\frac{d^{2}}{d t^{2}} \\theta_{2}{\\left(t \\right)}}{l_{1} \\left(m_{1} + m_{2}\\right)} = \\frac{g m_{1} \\sin{\\left(\\theta_{1}{\\left(t \\right)} \\right)} + g m_{2} \\sin{\\left(\\theta_{1}{\\left(t \\right)} \\right)} + l_{2} m_{2} \\sin{\\left(\\theta_{1}{\\left(t \\right)} - \\theta_{2}{\\left(t \\right)} \\right)} \\left(\\frac{d}{d t} \\theta_{2}{\\left(t \\right)}\\right)^{2}}{l_{1} \\left(m_{1} + m_{2}\\right)}$"
     },
     "metadata": {},
     "output_type": "display_data"
    }
   ],
   "source": [
    "eqn1_lhs = sp.simplify(eqn1.lhs / (l1*(m1+m2)))\n",
    "eqn1_lhs = sp.simplify(eqn1_lhs)\n",
    "\n",
    "eqn1_rhs = sp.simplify(eqn1.rhs / (l1*(m1+m2)))\n",
    "eqn1_rhs = sp.simplify(eqn1_rhs)\n",
    "\n",
    "eqn1 = sp.Eq(eqn1_lhs, eqn1_rhs)\n",
    "display(eqn1)"
   ]
  },
  {
   "cell_type": "code",
   "execution_count": 23,
   "id": "498bfac5b25014d8",
   "metadata": {
    "ExecuteTime": {
     "end_time": "2023-12-05T06:56:46.437003Z",
     "start_time": "2023-12-05T06:56:46.077083Z"
    }
   },
   "outputs": [
    {
     "data": {
      "text/plain": "Eq(l1*cos(theta1(t) - theta2(t))*Derivative(theta1(t), (t, 2))/l2 + Derivative(theta2(t), (t, 2)), (g*sin(theta2(t)) - l1*sin(theta1(t) - theta2(t))*Derivative(theta1(t), t)**2)/l2)",
      "text/latex": "$\\displaystyle \\frac{l_{1} \\cos{\\left(\\theta_{1}{\\left(t \\right)} - \\theta_{2}{\\left(t \\right)} \\right)} \\frac{d^{2}}{d t^{2}} \\theta_{1}{\\left(t \\right)}}{l_{2}} + \\frac{d^{2}}{d t^{2}} \\theta_{2}{\\left(t \\right)} = \\frac{g \\sin{\\left(\\theta_{2}{\\left(t \\right)} \\right)} - l_{1} \\sin{\\left(\\theta_{1}{\\left(t \\right)} - \\theta_{2}{\\left(t \\right)} \\right)} \\left(\\frac{d}{d t} \\theta_{1}{\\left(t \\right)}\\right)^{2}}{l_{2}}$"
     },
     "metadata": {},
     "output_type": "display_data"
    }
   ],
   "source": [
    "eqn2_lhs = sp.simplify(eqn2.lhs / l2)\n",
    "eqn2_lhs = sp.simplify(eqn2_lhs)\n",
    "\n",
    "eqn2_rhs = sp.simplify(eqn2.rhs / l2)\n",
    "eqn2_rhs = sp.simplify(eqn2_rhs)\n",
    "\n",
    "eqn2 = sp.Eq(eqn2_lhs, eqn2_rhs)\n",
    "display(eqn2)"
   ]
  },
  {
   "cell_type": "markdown",
   "id": "800441001cc2740f",
   "metadata": {},
   "source": [
    "----\n",
    "&nbsp;\n",
    "## Extract coefficients from above equations"
   ]
  },
  {
   "cell_type": "code",
   "execution_count": 24,
   "id": "af152af6feb7820d",
   "metadata": {
    "ExecuteTime": {
     "end_time": "2023-12-05T06:56:46.447355Z",
     "start_time": "2023-12-05T06:56:46.437927Z"
    }
   },
   "outputs": [],
   "source": [
    "def extract_coefficient(equation, derivative_term):\n",
    "    \"\"\"\n",
    "    Extracts the coefficient, including the denominator, of the specified derivative term from the left-hand side of the equation.\n",
    "\n",
    "    Parameters:\n",
    "        equation (sympy.Expr): The equation to extract the coefficient from.\n",
    "        derivative_term (sympy.Expr): The derivative term to extract the coefficient of.\n",
    "\n",
    "    Returns:\n",
    "        coeff (sympy.Expr): The coefficient, including the denominator, of the derivative term in the equation.\n",
    "    \"\"\"\n",
    "    lhs_parts = sp.fraction(equation.lhs)\n",
    "    lhs_coeff_term = lhs_parts[0]\n",
    "    lhs_denominator_term = lhs_parts[1]\n",
    "    coeff = lhs_coeff_term.coeff(derivative_term) / lhs_denominator_term\n",
    "\n",
    "    return coeff"
   ]
  },
  {
   "cell_type": "markdown",
   "id": "9c89312b57bab41d",
   "metadata": {},
   "source": [
    "We can now rewrite in the desired form\n",
    "\n",
    "$$\n",
    "\\begin{aligned}\n",
    "& \\ddot{\\theta}_1+\\alpha_1\\left(\\theta_1, \\theta_2\\right) \\ddot{\\theta}_2=f_1\\left(\\theta_1, \\theta_2, \\dot{\\theta}_1, \\dot{\\theta}_2\\right) \\\\\n",
    "& \\ddot{\\theta}_2+\\alpha_2\\left(\\theta_1, \\theta_2\\right) \\ddot{\\theta}_1=f_2\\left(\\theta_1, \\theta_2, \\dot{\\theta}_1, \\dot{\\theta}_2\\right)\n",
    "\\end{aligned}\n",
    "$$"
   ]
  },
  {
   "cell_type": "code",
   "execution_count": 25,
   "id": "cca59a287e40eeac",
   "metadata": {
    "ExecuteTime": {
     "end_time": "2023-12-05T06:56:46.451669Z",
     "start_time": "2023-12-05T06:56:46.444302Z"
    }
   },
   "outputs": [
    {
     "name": "stdout",
     "output_type": "stream",
     "text": [
      "<class 'sympy.core.mul.Mul'>\n"
     ]
    },
    {
     "data": {
      "text/plain": "l2*m2*cos(theta1(t) - theta2(t))/(l1*(m1 + m2))",
      "text/latex": "$\\displaystyle \\frac{l_{2} m_{2} \\cos{\\left(\\theta_{1}{\\left(t \\right)} - \\theta_{2}{\\left(t \\right)} \\right)}}{l_{1} \\left(m_{1} + m_{2}\\right)}$"
     },
     "metadata": {},
     "output_type": "display_data"
    }
   ],
   "source": [
    "# Let alpha1 be 2nd derivative coefficient of theta2 from eqn1\n",
    "alpha1 = extract_coefficient(eqn1, sp.diff(theta2, t, 2))\n",
    "print(type(alpha1))\n",
    "display(alpha1)"
   ]
  },
  {
   "cell_type": "code",
   "execution_count": 26,
   "id": "e9fc75eb0a271c5a",
   "metadata": {
    "ExecuteTime": {
     "end_time": "2023-12-05T06:56:46.455905Z",
     "start_time": "2023-12-05T06:56:46.451073Z"
    }
   },
   "outputs": [
    {
     "name": "stdout",
     "output_type": "stream",
     "text": [
      "<class 'sympy.core.mul.Mul'>\n"
     ]
    },
    {
     "data": {
      "text/plain": "l1*cos(theta1(t) - theta2(t))/l2",
      "text/latex": "$\\displaystyle \\frac{l_{1} \\cos{\\left(\\theta_{1}{\\left(t \\right)} - \\theta_{2}{\\left(t \\right)} \\right)}}{l_{2}}$"
     },
     "metadata": {},
     "output_type": "display_data"
    }
   ],
   "source": [
    "# Let alpha2 be 2nd derivative coefficient of theta1 from eqn2\n",
    "alpha2 = extract_coefficient(eqn2, sp.diff(theta1, t, 2))\n",
    "print(type(alpha2))\n",
    "display(alpha2)"
   ]
  },
  {
   "cell_type": "markdown",
   "id": "90ee182009397850",
   "metadata": {},
   "source": [
    "Declare RHS as expressions"
   ]
  },
  {
   "cell_type": "code",
   "execution_count": 27,
   "id": "33d22d562323e1b",
   "metadata": {
    "ExecuteTime": {
     "end_time": "2023-12-05T06:56:46.496339Z",
     "start_time": "2023-12-05T06:56:46.458185Z"
    }
   },
   "outputs": [
    {
     "name": "stdout",
     "output_type": "stream",
     "text": [
      "<class 'sympy.core.mul.Mul'>\n"
     ]
    },
    {
     "data": {
      "text/plain": "(g*m1*sin(theta1(t)) + g*m2*sin(theta1(t)) + l2*m2*sin(theta1(t) - theta2(t))*Derivative(theta2(t), t)**2)/(l1*(m1 + m2))",
      "text/latex": "$\\displaystyle \\frac{g m_{1} \\sin{\\left(\\theta_{1}{\\left(t \\right)} \\right)} + g m_{2} \\sin{\\left(\\theta_{1}{\\left(t \\right)} \\right)} + l_{2} m_{2} \\sin{\\left(\\theta_{1}{\\left(t \\right)} - \\theta_{2}{\\left(t \\right)} \\right)} \\left(\\frac{d}{d t} \\theta_{2}{\\left(t \\right)}\\right)^{2}}{l_{1} \\left(m_{1} + m_{2}\\right)}$"
     },
     "metadata": {},
     "output_type": "display_data"
    }
   ],
   "source": [
    "function_1 = eqn1.rhs\n",
    "print(type(function_1))\n",
    "display(function_1)"
   ]
  },
  {
   "cell_type": "code",
   "execution_count": 28,
   "id": "f8ac46d10ad943bf",
   "metadata": {
    "ExecuteTime": {
     "end_time": "2023-12-05T06:56:46.496627Z",
     "start_time": "2023-12-05T06:56:46.465179Z"
    }
   },
   "outputs": [
    {
     "name": "stdout",
     "output_type": "stream",
     "text": [
      "<class 'sympy.core.mul.Mul'>\n"
     ]
    },
    {
     "data": {
      "text/plain": "(g*sin(theta2(t)) - l1*sin(theta1(t) - theta2(t))*Derivative(theta1(t), t)**2)/l2",
      "text/latex": "$\\displaystyle \\frac{g \\sin{\\left(\\theta_{2}{\\left(t \\right)} \\right)} - l_{1} \\sin{\\left(\\theta_{1}{\\left(t \\right)} - \\theta_{2}{\\left(t \\right)} \\right)} \\left(\\frac{d}{d t} \\theta_{1}{\\left(t \\right)}\\right)^{2}}{l_{2}}$"
     },
     "metadata": {},
     "output_type": "display_data"
    }
   ],
   "source": [
    "function_2 = eqn2.rhs\n",
    "print(type(function_2))\n",
    "display(function_2)"
   ]
  },
  {
   "cell_type": "markdown",
   "id": "fd0662376beed6ad",
   "metadata": {},
   "source": [
    "----\n",
    "&nbsp;\n",
    "## Define symbolic matrix equations"
   ]
  },
  {
   "cell_type": "markdown",
   "id": "9568adcd747d787f",
   "metadata": {},
   "source": [
    "Define dummy functions"
   ]
  },
  {
   "cell_type": "code",
   "execution_count": 29,
   "id": "a61dd1e44eddee8d",
   "metadata": {
    "ExecuteTime": {
     "end_time": "2023-12-05T06:56:46.509233Z",
     "start_time": "2023-12-05T06:56:46.471533Z"
    }
   },
   "outputs": [],
   "source": [
    "alpha1_func = sp.Function('alpha1')(theta1, theta2)\n",
    "alpha2_func = sp.Function('alpha2')(theta1, theta2)\n",
    "function1 = sp.Function('f1')(theta1, theta2, sp.diff(theta1, t), sp.diff(theta2, t))\n",
    "function2 = sp.Function('f2')(theta1, theta2, sp.diff(theta1, t), sp.diff(theta2, t))"
   ]
  },
  {
   "cell_type": "markdown",
   "id": "c21cc74b777559dd",
   "metadata": {},
   "source": [
    "Define matrices"
   ]
  },
  {
   "cell_type": "code",
   "execution_count": 30,
   "id": "a6af31c490c12742",
   "metadata": {
    "ExecuteTime": {
     "end_time": "2023-12-05T06:56:46.520903Z",
     "start_time": "2023-12-05T06:56:46.476505Z"
    }
   },
   "outputs": [
    {
     "data": {
      "text/plain": "Matrix([\n[Derivative(theta1(t), (t, 2))],\n[Derivative(theta2(t), (t, 2))]])",
      "text/latex": "$\\displaystyle \\left[\\begin{matrix}\\frac{d^{2}}{d t^{2}} \\theta_{1}{\\left(t \\right)}\\\\\\frac{d^{2}}{d t^{2}} \\theta_{2}{\\left(t \\right)}\\end{matrix}\\right]$"
     },
     "metadata": {},
     "output_type": "display_data"
    }
   ],
   "source": [
    "# Differential operators\n",
    "LHS = sp.Matrix([[sp.diff(theta1, t, 2)], [sp.diff(theta2, t, 2)]])\n",
    "display(LHS)"
   ]
  },
  {
   "cell_type": "code",
   "execution_count": 31,
   "id": "859aad72efad9d23",
   "metadata": {
    "ExecuteTime": {
     "end_time": "2023-12-05T06:56:46.521566Z",
     "start_time": "2023-12-05T06:56:46.482034Z"
    }
   },
   "outputs": [
    {
     "data": {
      "text/plain": "Matrix([\n[                           1, alpha1(theta1(t), theta2(t))],\n[alpha2(theta1(t), theta2(t)),                            1]])",
      "text/latex": "$\\displaystyle \\left[\\begin{matrix}1 & \\alpha_{1}{\\left(\\theta_{1}{\\left(t \\right)},\\theta_{2}{\\left(t \\right)} \\right)}\\\\\\alpha_{2}{\\left(\\theta_{1}{\\left(t \\right)},\\theta_{2}{\\left(t \\right)} \\right)} & 1\\end{matrix}\\right]$"
     },
     "metadata": {},
     "output_type": "display_data"
    }
   ],
   "source": [
    "# Coefficients\n",
    "A = sp.Matrix([[1, alpha1_func], [alpha2_func, 1]])\n",
    "display(A)"
   ]
  },
  {
   "cell_type": "code",
   "execution_count": 32,
   "id": "58812d9b53262ac2",
   "metadata": {
    "ExecuteTime": {
     "end_time": "2023-12-05T06:56:46.521757Z",
     "start_time": "2023-12-05T06:56:46.487591Z"
    }
   },
   "outputs": [
    {
     "data": {
      "text/plain": "Matrix([\n[f1(theta1(t), theta2(t), Derivative(theta1(t), t), Derivative(theta2(t), t))],\n[f2(theta1(t), theta2(t), Derivative(theta1(t), t), Derivative(theta2(t), t))]])",
      "text/latex": "$\\displaystyle \\left[\\begin{matrix}\\operatorname{f_{1}}{\\left(\\theta_{1}{\\left(t \\right)},\\theta_{2}{\\left(t \\right)},\\frac{d}{d t} \\theta_{1}{\\left(t \\right)},\\frac{d}{d t} \\theta_{2}{\\left(t \\right)} \\right)}\\\\\\operatorname{f_{2}}{\\left(\\theta_{1}{\\left(t \\right)},\\theta_{2}{\\left(t \\right)},\\frac{d}{d t} \\theta_{1}{\\left(t \\right)},\\frac{d}{d t} \\theta_{2}{\\left(t \\right)} \\right)}\\end{matrix}\\right]$"
     },
     "metadata": {},
     "output_type": "display_data"
    }
   ],
   "source": [
    "RHS = sp.Matrix([[function1], [function2]])\n",
    "display(RHS)"
   ]
  },
  {
   "cell_type": "markdown",
   "id": "8a83491194e716fb",
   "metadata": {},
   "source": [
    "### Building matrix equations"
   ]
  },
  {
   "cell_type": "code",
   "execution_count": 33,
   "id": "209d35d332641e79",
   "metadata": {
    "ExecuteTime": {
     "end_time": "2023-12-05T06:56:46.540199Z",
     "start_time": "2023-12-05T06:56:46.502325Z"
    }
   },
   "outputs": [
    {
     "data": {
      "text/plain": "Eq(Matrix([\n[alpha1(theta1(t), theta2(t))*Derivative(theta2(t), (t, 2)) + Derivative(theta1(t), (t, 2))],\n[alpha2(theta1(t), theta2(t))*Derivative(theta1(t), (t, 2)) + Derivative(theta2(t), (t, 2))]]), Matrix([\n[f1(theta1(t), theta2(t), Derivative(theta1(t), t), Derivative(theta2(t), t))],\n[f2(theta1(t), theta2(t), Derivative(theta1(t), t), Derivative(theta2(t), t))]]))",
      "text/latex": "$\\displaystyle \\left[\\begin{matrix}\\alpha_{1}{\\left(\\theta_{1}{\\left(t \\right)},\\theta_{2}{\\left(t \\right)} \\right)} \\frac{d^{2}}{d t^{2}} \\theta_{2}{\\left(t \\right)} + \\frac{d^{2}}{d t^{2}} \\theta_{1}{\\left(t \\right)}\\\\\\alpha_{2}{\\left(\\theta_{1}{\\left(t \\right)},\\theta_{2}{\\left(t \\right)} \\right)} \\frac{d^{2}}{d t^{2}} \\theta_{1}{\\left(t \\right)} + \\frac{d^{2}}{d t^{2}} \\theta_{2}{\\left(t \\right)}\\end{matrix}\\right] = \\left[\\begin{matrix}\\operatorname{f_{1}}{\\left(\\theta_{1}{\\left(t \\right)},\\theta_{2}{\\left(t \\right)},\\frac{d}{d t} \\theta_{1}{\\left(t \\right)},\\frac{d}{d t} \\theta_{2}{\\left(t \\right)} \\right)}\\\\\\operatorname{f_{2}}{\\left(\\theta_{1}{\\left(t \\right)},\\theta_{2}{\\left(t \\right)},\\frac{d}{d t} \\theta_{1}{\\left(t \\right)},\\frac{d}{d t} \\theta_{2}{\\left(t \\right)} \\right)}\\end{matrix}\\right]$"
     },
     "execution_count": 33,
     "metadata": {},
     "output_type": "execute_result"
    }
   ],
   "source": [
    "sp.Eq(A*LHS, RHS)"
   ]
  },
  {
   "cell_type": "markdown",
   "id": "1bb6c67aec6ead82",
   "metadata": {},
   "source": [
    "----\n",
    "&nbsp;\n",
    "Inverting the coefficient matrix $\\textbf{A}$"
   ]
  },
  {
   "cell_type": "code",
   "execution_count": 34,
   "id": "591fc56dff286118",
   "metadata": {
    "ExecuteTime": {
     "end_time": "2023-12-05T06:56:46.637836Z",
     "start_time": "2023-12-05T06:56:46.568523Z"
    }
   },
   "outputs": [
    {
     "data": {
      "text/plain": "Matrix([\n[                            1/(-alpha1(theta1(t), theta2(t))*alpha2(theta1(t), theta2(t)) + 1), -alpha1(theta1(t), theta2(t))/(-alpha1(theta1(t), theta2(t))*alpha2(theta1(t), theta2(t)) + 1)],\n[-alpha2(theta1(t), theta2(t))/(-alpha1(theta1(t), theta2(t))*alpha2(theta1(t), theta2(t)) + 1),                             1/(-alpha1(theta1(t), theta2(t))*alpha2(theta1(t), theta2(t)) + 1)]])",
      "text/latex": "$\\displaystyle \\left[\\begin{matrix}\\frac{1}{- \\alpha_{1}{\\left(\\theta_{1}{\\left(t \\right)},\\theta_{2}{\\left(t \\right)} \\right)} \\alpha_{2}{\\left(\\theta_{1}{\\left(t \\right)},\\theta_{2}{\\left(t \\right)} \\right)} + 1} & - \\frac{\\alpha_{1}{\\left(\\theta_{1}{\\left(t \\right)},\\theta_{2}{\\left(t \\right)} \\right)}}{- \\alpha_{1}{\\left(\\theta_{1}{\\left(t \\right)},\\theta_{2}{\\left(t \\right)} \\right)} \\alpha_{2}{\\left(\\theta_{1}{\\left(t \\right)},\\theta_{2}{\\left(t \\right)} \\right)} + 1}\\\\- \\frac{\\alpha_{2}{\\left(\\theta_{1}{\\left(t \\right)},\\theta_{2}{\\left(t \\right)} \\right)}}{- \\alpha_{1}{\\left(\\theta_{1}{\\left(t \\right)},\\theta_{2}{\\left(t \\right)} \\right)} \\alpha_{2}{\\left(\\theta_{1}{\\left(t \\right)},\\theta_{2}{\\left(t \\right)} \\right)} + 1} & \\frac{1}{- \\alpha_{1}{\\left(\\theta_{1}{\\left(t \\right)},\\theta_{2}{\\left(t \\right)} \\right)} \\alpha_{2}{\\left(\\theta_{1}{\\left(t \\right)},\\theta_{2}{\\left(t \\right)} \\right)} + 1}\\end{matrix}\\right]$"
     },
     "metadata": {},
     "output_type": "display_data"
    }
   ],
   "source": [
    "inverse = A.inv()\n",
    "display(inverse)"
   ]
  },
  {
   "cell_type": "markdown",
   "id": "3a110981da56ebb8",
   "metadata": {},
   "source": [
    "Is the determinant defined?"
   ]
  },
  {
   "cell_type": "code",
   "execution_count": 35,
   "id": "c2888f97225aedb0",
   "metadata": {
    "ExecuteTime": {
     "end_time": "2023-12-05T06:56:46.638171Z",
     "start_time": "2023-12-05T06:56:46.631402Z"
    }
   },
   "outputs": [
    {
     "data": {
      "text/plain": "-alpha1(theta1(t), theta2(t))*alpha2(theta1(t), theta2(t)) + 1",
      "text/latex": "$\\displaystyle - \\alpha_{1}{\\left(\\theta_{1}{\\left(t \\right)},\\theta_{2}{\\left(t \\right)} \\right)} \\alpha_{2}{\\left(\\theta_{1}{\\left(t \\right)},\\theta_{2}{\\left(t \\right)} \\right)} + 1$"
     },
     "metadata": {},
     "output_type": "display_data"
    }
   ],
   "source": [
    "determinant = A.det()\n",
    "display(determinant)"
   ]
  },
  {
   "cell_type": "code",
   "execution_count": 36,
   "id": "fee1c7579bad28d9",
   "metadata": {
    "ExecuteTime": {
     "end_time": "2023-12-05T06:56:46.643564Z",
     "start_time": "2023-12-05T06:56:46.640641Z"
    }
   },
   "outputs": [
    {
     "data": {
      "text/plain": "-m2*cos(theta1(t) - theta2(t))**2/(m1 + m2) + 1",
      "text/latex": "$\\displaystyle - \\frac{m_{2} \\cos^{2}{\\left(\\theta_{1}{\\left(t \\right)} - \\theta_{2}{\\left(t \\right)} \\right)}}{m_{1} + m_{2}} + 1$"
     },
     "metadata": {},
     "output_type": "display_data"
    }
   ],
   "source": [
    "# Substituting values of alpha1 and alpha2\n",
    "det_subst = determinant.subs({alpha1_func: alpha1, alpha2_func: alpha2})\n",
    "display(det_subst)"
   ]
  },
  {
   "cell_type": "markdown",
   "id": "b6beb1f40eeda561",
   "metadata": {},
   "source": [
    "Given that $m_1$ and $m_2$ are strictly positive and $\\cos^2(x)$ is bounded between 0 and 1 for all $x \\in \\mathbb{R}$, $\\textbf{A}$ is always invertible"
   ]
  },
  {
   "cell_type": "markdown",
   "id": "9c2d33ccf16d4196",
   "metadata": {},
   "source": [
    "----\n",
    "&nbsp;\n",
    "#### Define NEW matrix equations"
   ]
  },
  {
   "cell_type": "code",
   "execution_count": 37,
   "id": "6a4389f12564c18c",
   "metadata": {
    "ExecuteTime": {
     "end_time": "2023-12-05T06:56:46.724266Z",
     "start_time": "2023-12-05T06:56:46.711728Z"
    }
   },
   "outputs": [
    {
     "data": {
      "text/plain": "Eq(Matrix([\n[Derivative(theta1(t), (t, 2))],\n[Derivative(theta2(t), (t, 2))]]), Matrix([\n[-(alpha1(theta1(t), theta2(t))*f2(theta1(t), theta2(t), Derivative(theta1(t), t), Derivative(theta2(t), t)) - f1(theta1(t), theta2(t), Derivative(theta1(t), t), Derivative(theta2(t), t)))/(alpha1(theta1(t), theta2(t))*alpha2(theta1(t), theta2(t)) - 1)],\n[-(alpha2(theta1(t), theta2(t))*f1(theta1(t), theta2(t), Derivative(theta1(t), t), Derivative(theta2(t), t)) - f2(theta1(t), theta2(t), Derivative(theta1(t), t), Derivative(theta2(t), t)))/(alpha1(theta1(t), theta2(t))*alpha2(theta1(t), theta2(t)) - 1)]]))",
      "text/latex": "$\\displaystyle \\left[\\begin{matrix}\\frac{d^{2}}{d t^{2}} \\theta_{1}{\\left(t \\right)}\\\\\\frac{d^{2}}{d t^{2}} \\theta_{2}{\\left(t \\right)}\\end{matrix}\\right] = \\left[\\begin{matrix}- \\frac{\\alpha_{1}{\\left(\\theta_{1}{\\left(t \\right)},\\theta_{2}{\\left(t \\right)} \\right)} \\operatorname{f_{2}}{\\left(\\theta_{1}{\\left(t \\right)},\\theta_{2}{\\left(t \\right)},\\frac{d}{d t} \\theta_{1}{\\left(t \\right)},\\frac{d}{d t} \\theta_{2}{\\left(t \\right)} \\right)} - \\operatorname{f_{1}}{\\left(\\theta_{1}{\\left(t \\right)},\\theta_{2}{\\left(t \\right)},\\frac{d}{d t} \\theta_{1}{\\left(t \\right)},\\frac{d}{d t} \\theta_{2}{\\left(t \\right)} \\right)}}{\\alpha_{1}{\\left(\\theta_{1}{\\left(t \\right)},\\theta_{2}{\\left(t \\right)} \\right)} \\alpha_{2}{\\left(\\theta_{1}{\\left(t \\right)},\\theta_{2}{\\left(t \\right)} \\right)} - 1}\\\\- \\frac{\\alpha_{2}{\\left(\\theta_{1}{\\left(t \\right)},\\theta_{2}{\\left(t \\right)} \\right)} \\operatorname{f_{1}}{\\left(\\theta_{1}{\\left(t \\right)},\\theta_{2}{\\left(t \\right)},\\frac{d}{d t} \\theta_{1}{\\left(t \\right)},\\frac{d}{d t} \\theta_{2}{\\left(t \\right)} \\right)} - \\operatorname{f_{2}}{\\left(\\theta_{1}{\\left(t \\right)},\\theta_{2}{\\left(t \\right)},\\frac{d}{d t} \\theta_{1}{\\left(t \\right)},\\frac{d}{d t} \\theta_{2}{\\left(t \\right)} \\right)}}{\\alpha_{1}{\\left(\\theta_{1}{\\left(t \\right)},\\theta_{2}{\\left(t \\right)} \\right)} \\alpha_{2}{\\left(\\theta_{1}{\\left(t \\right)},\\theta_{2}{\\left(t \\right)} \\right)} - 1}\\end{matrix}\\right]$"
     },
     "metadata": {},
     "output_type": "display_data"
    }
   ],
   "source": [
    "NewRHS = sp.simplify(inverse*RHS)\n",
    "\n",
    "# Multiplied by minus 1!! worked, but why???\n",
    "EQS = sp.Eq(LHS, (-1)*NewRHS)\n",
    "display(EQS)"
   ]
  },
  {
   "cell_type": "markdown",
   "source": [
    "Equations are of form, \n",
    "$$\n",
    "\\begin{aligned}\n",
    "& \\frac{d}{d t}\\left(\\begin{array}{c}\n",
    "\\theta_1 \\\\\n",
    "\\theta_2 \\\\\n",
    "\\omega_1 \\\\\n",
    "\\omega_2\n",
    "\\end{array}\\right)=\\left(\\begin{array}{c}\n",
    "\\omega_1 \\\\\n",
    "\\omega_2 \\\\\n",
    "g_1\\left(\\theta_1, \\theta_2, \\omega_1, \\omega_2\\right) \\\\\n",
    "g_2\\left(\\theta_1, \\theta_2, \\omega_1, \\omega_2\\right)\n",
    "\\end{array}\\right) \\\\\n",
    "\\end{aligned}\n",
    "$$"
   ],
   "metadata": {
    "collapsed": false
   },
   "id": "6bf8424ae70729cc"
  },
  {
   "cell_type": "markdown",
   "source": [
    "$$\n",
    "g_1:=\\frac{f_1-\\alpha_1 f_2}{1-\\alpha_1 \\alpha_2} \\quad g_2:=\\frac{-\\alpha_2 f_1+f_2}{1-\\alpha_1 \\alpha_2}\n",
    "$$"
   ],
   "metadata": {
    "collapsed": false
   },
   "id": "b137cc4cdb06dd0c"
  },
  {
   "cell_type": "code",
   "execution_count": 38,
   "id": "9bface919bcd06df",
   "metadata": {
    "ExecuteTime": {
     "end_time": "2023-12-05T06:56:46.777493Z",
     "start_time": "2023-12-05T06:56:46.768117Z"
    }
   },
   "outputs": [
    {
     "data": {
      "text/plain": "Eq(Matrix([\n[Derivative(theta1(t), (t, 2))],\n[Derivative(theta2(t), (t, 2))]]), Matrix([\n[-(m2*(g*sin(theta2(t)) - l1*sin(theta1(t) - theta2(t))*Derivative(theta1(t), t)**2)*cos(theta1(t) - theta2(t))/(l1*(m1 + m2)) - (g*m1*sin(theta1(t)) + g*m2*sin(theta1(t)) + l2*m2*sin(theta1(t) - theta2(t))*Derivative(theta2(t), t)**2)/(l1*(m1 + m2)))/(m2*cos(theta1(t) - theta2(t))**2/(m1 + m2) - 1)],\n[              -(-(g*sin(theta2(t)) - l1*sin(theta1(t) - theta2(t))*Derivative(theta1(t), t)**2)/l2 + (g*m1*sin(theta1(t)) + g*m2*sin(theta1(t)) + l2*m2*sin(theta1(t) - theta2(t))*Derivative(theta2(t), t)**2)*cos(theta1(t) - theta2(t))/(l2*(m1 + m2)))/(m2*cos(theta1(t) - theta2(t))**2/(m1 + m2) - 1)]]))",
      "text/latex": "$\\displaystyle \\left[\\begin{matrix}\\frac{d^{2}}{d t^{2}} \\theta_{1}{\\left(t \\right)}\\\\\\frac{d^{2}}{d t^{2}} \\theta_{2}{\\left(t \\right)}\\end{matrix}\\right] = \\left[\\begin{matrix}- \\frac{\\frac{m_{2} \\left(g \\sin{\\left(\\theta_{2}{\\left(t \\right)} \\right)} - l_{1} \\sin{\\left(\\theta_{1}{\\left(t \\right)} - \\theta_{2}{\\left(t \\right)} \\right)} \\left(\\frac{d}{d t} \\theta_{1}{\\left(t \\right)}\\right)^{2}\\right) \\cos{\\left(\\theta_{1}{\\left(t \\right)} - \\theta_{2}{\\left(t \\right)} \\right)}}{l_{1} \\left(m_{1} + m_{2}\\right)} - \\frac{g m_{1} \\sin{\\left(\\theta_{1}{\\left(t \\right)} \\right)} + g m_{2} \\sin{\\left(\\theta_{1}{\\left(t \\right)} \\right)} + l_{2} m_{2} \\sin{\\left(\\theta_{1}{\\left(t \\right)} - \\theta_{2}{\\left(t \\right)} \\right)} \\left(\\frac{d}{d t} \\theta_{2}{\\left(t \\right)}\\right)^{2}}{l_{1} \\left(m_{1} + m_{2}\\right)}}{\\frac{m_{2} \\cos^{2}{\\left(\\theta_{1}{\\left(t \\right)} - \\theta_{2}{\\left(t \\right)} \\right)}}{m_{1} + m_{2}} - 1}\\\\- \\frac{- \\frac{g \\sin{\\left(\\theta_{2}{\\left(t \\right)} \\right)} - l_{1} \\sin{\\left(\\theta_{1}{\\left(t \\right)} - \\theta_{2}{\\left(t \\right)} \\right)} \\left(\\frac{d}{d t} \\theta_{1}{\\left(t \\right)}\\right)^{2}}{l_{2}} + \\frac{\\left(g m_{1} \\sin{\\left(\\theta_{1}{\\left(t \\right)} \\right)} + g m_{2} \\sin{\\left(\\theta_{1}{\\left(t \\right)} \\right)} + l_{2} m_{2} \\sin{\\left(\\theta_{1}{\\left(t \\right)} - \\theta_{2}{\\left(t \\right)} \\right)} \\left(\\frac{d}{d t} \\theta_{2}{\\left(t \\right)}\\right)^{2}\\right) \\cos{\\left(\\theta_{1}{\\left(t \\right)} - \\theta_{2}{\\left(t \\right)} \\right)}}{l_{2} \\left(m_{1} + m_{2}\\right)}}{\\frac{m_{2} \\cos^{2}{\\left(\\theta_{1}{\\left(t \\right)} - \\theta_{2}{\\left(t \\right)} \\right)}}{m_{1} + m_{2}} - 1}\\end{matrix}\\right]$"
     },
     "metadata": {},
     "output_type": "display_data"
    }
   ],
   "source": [
    "# Substitute values of the functions\n",
    "EQS_subst = EQS.subs({alpha1_func: alpha1, alpha2_func: alpha2, function1: function_1, function2: function_2})\n",
    "display(EQS_subst)"
   ]
  },
  {
   "cell_type": "code",
   "execution_count": 39,
   "id": "6aa9e780f8f94f23",
   "metadata": {
    "ExecuteTime": {
     "end_time": "2023-12-05T06:56:46.777692Z",
     "start_time": "2023-12-05T06:56:46.773416Z"
    }
   },
   "outputs": [
    {
     "name": "stdout",
     "output_type": "stream",
     "text": [
      "Type of System:\n",
      "<class 'sympy.core.relational.Equality'>\n",
      "\n",
      "Type of RHS:\n",
      "<class 'sympy.matrices.immutable.ImmutableDenseMatrix'>\n"
     ]
    }
   ],
   "source": [
    "print(f\"Type of System:\\n{type(EQS_subst)}\\n\")\n",
    "\n",
    "RHS_subst = EQS_subst.rhs \n",
    "print(f\"Type of RHS:\\n{type(RHS_subst)}\")"
   ]
  },
  {
   "cell_type": "markdown",
   "source": [
    "The RHS of `EQS_subst` contains complex expressions. Simplify. We can unpack using index notation"
   ],
   "metadata": {
    "collapsed": false
   },
   "id": "e979493d9a24cbad"
  },
  {
   "cell_type": "code",
   "execution_count": 40,
   "id": "59be8967ce7abadc",
   "metadata": {
    "ExecuteTime": {
     "end_time": "2023-12-05T06:56:47.901735Z",
     "start_time": "2023-12-05T06:56:46.803950Z"
    }
   },
   "outputs": [
    {
     "name": "stdout",
     "output_type": "stream",
     "text": [
      "Type of RHS[0]:\n",
      "<class 'sympy.core.mul.Mul'>\n"
     ]
    },
    {
     "data": {
      "text/plain": "(g*m1*sin(theta1(t)) + g*m2*sin(theta1(t) - 2*theta2(t))/2 + g*m2*sin(theta1(t))/2 + l1*m2*sin(2*theta1(t) - 2*theta2(t))*Derivative(theta1(t), t)**2/2 + l2*m2*sin(theta1(t) - theta2(t))*Derivative(theta2(t), t)**2)/(l1*(-m1 + m2*cos(theta1(t) - theta2(t))**2 - m2))",
      "text/latex": "$\\displaystyle \\frac{g m_{1} \\sin{\\left(\\theta_{1}{\\left(t \\right)} \\right)} + \\frac{g m_{2} \\sin{\\left(\\theta_{1}{\\left(t \\right)} - 2 \\theta_{2}{\\left(t \\right)} \\right)}}{2} + \\frac{g m_{2} \\sin{\\left(\\theta_{1}{\\left(t \\right)} \\right)}}{2} + \\frac{l_{1} m_{2} \\sin{\\left(2 \\theta_{1}{\\left(t \\right)} - 2 \\theta_{2}{\\left(t \\right)} \\right)} \\left(\\frac{d}{d t} \\theta_{1}{\\left(t \\right)}\\right)^{2}}{2} + l_{2} m_{2} \\sin{\\left(\\theta_{1}{\\left(t \\right)} - \\theta_{2}{\\left(t \\right)} \\right)} \\left(\\frac{d}{d t} \\theta_{2}{\\left(t \\right)}\\right)^{2}}{l_{1} \\left(- m_{1} + m_{2} \\cos^{2}{\\left(\\theta_{1}{\\left(t \\right)} - \\theta_{2}{\\left(t \\right)} \\right)} - m_{2}\\right)}$"
     },
     "metadata": {},
     "output_type": "display_data"
    }
   ],
   "source": [
    "# Value of second derivative of theta1 w.r.t time\n",
    "print(f\"Type of RHS[0]:\\n{type(RHS_subst[0])}\")\n",
    "theta1ddot_eqn = RHS_subst[0]\n",
    "\n",
    "# Simplify the complex expression\n",
    "RHS_1 = sp.simplify(theta1ddot_eqn)\n",
    "display(RHS_1)"
   ]
  },
  {
   "cell_type": "code",
   "execution_count": 41,
   "id": "3a8727babfe571a8",
   "metadata": {
    "ExecuteTime": {
     "end_time": "2023-12-05T06:56:49.316572Z",
     "start_time": "2023-12-05T06:56:47.943761Z"
    }
   },
   "outputs": [
    {
     "name": "stdout",
     "output_type": "stream",
     "text": [
      "Type of RHS[1]:\n",
      "<class 'sympy.core.mul.Mul'>\n"
     ]
    },
    {
     "data": {
      "text/plain": "((m1 + m2)*(g*sin(theta2(t)) - l1*sin(theta1(t) - theta2(t))*Derivative(theta1(t), t)**2) - (g*m1*sin(theta1(t)) + g*m2*sin(theta1(t)) + l2*m2*sin(theta1(t) - theta2(t))*Derivative(theta2(t), t)**2)*cos(theta1(t) - theta2(t)))/(l2*(-m1 + m2*cos(theta1(t) - theta2(t))**2 - m2))",
      "text/latex": "$\\displaystyle \\frac{\\left(m_{1} + m_{2}\\right) \\left(g \\sin{\\left(\\theta_{2}{\\left(t \\right)} \\right)} - l_{1} \\sin{\\left(\\theta_{1}{\\left(t \\right)} - \\theta_{2}{\\left(t \\right)} \\right)} \\left(\\frac{d}{d t} \\theta_{1}{\\left(t \\right)}\\right)^{2}\\right) - \\left(g m_{1} \\sin{\\left(\\theta_{1}{\\left(t \\right)} \\right)} + g m_{2} \\sin{\\left(\\theta_{1}{\\left(t \\right)} \\right)} + l_{2} m_{2} \\sin{\\left(\\theta_{1}{\\left(t \\right)} - \\theta_{2}{\\left(t \\right)} \\right)} \\left(\\frac{d}{d t} \\theta_{2}{\\left(t \\right)}\\right)^{2}\\right) \\cos{\\left(\\theta_{1}{\\left(t \\right)} - \\theta_{2}{\\left(t \\right)} \\right)}}{l_{2} \\left(- m_{1} + m_{2} \\cos^{2}{\\left(\\theta_{1}{\\left(t \\right)} - \\theta_{2}{\\left(t \\right)} \\right)} - m_{2}\\right)}$"
     },
     "metadata": {},
     "output_type": "display_data"
    }
   ],
   "source": [
    "# Value of second derivative of theta2 w.r.t time\n",
    "print(f\"Type of RHS[1]:\\n{type(RHS_subst[1])}\")\n",
    "theta2ddot_eqn = RHS_subst[1]\n",
    "\n",
    "# Simplify the complex expression\n",
    "RHS_2 = sp.simplify(theta2ddot_eqn)\n",
    "display(RHS_2)"
   ]
  },
  {
   "cell_type": "markdown",
   "id": "c1ac15d58954cc73",
   "metadata": {},
   "source": [
    "----\n",
    "&nbsp;\n",
    "## Rewrite as first order system\n",
    "\n",
    "Declare new variables $\\omega_1$ and $\\omega_2$"
   ]
  },
  {
   "cell_type": "code",
   "execution_count": 42,
   "outputs": [],
   "source": [
    "omega1 = sp.Function('omega1')(t)\n",
    "omega2 = sp.Function('omega2')(t)"
   ],
   "metadata": {
    "collapsed": false,
    "ExecuteTime": {
     "end_time": "2023-12-05T06:56:49.326268Z",
     "start_time": "2023-12-05T06:56:49.317253Z"
    }
   },
   "id": "878b504dc5bc55cf"
  },
  {
   "cell_type": "code",
   "execution_count": 43,
   "id": "f4fe754e52474667",
   "metadata": {
    "ExecuteTime": {
     "end_time": "2023-12-05T06:56:49.337311Z",
     "start_time": "2023-12-05T06:56:49.335160Z"
    }
   },
   "outputs": [],
   "source": [
    "# Cast as first order system\n",
    "eq1 = sp.Eq(omega1, sp.diff(theta1, t))\n",
    "eq2 = sp.Eq(omega2, sp.diff(theta2, t))\n",
    "eq3 = sp.Eq(sp.diff(omega1, t), RHS_1)\n",
    "eq4 = sp.Eq(sp.diff(omega2, t), RHS_2)"
   ]
  },
  {
   "cell_type": "code",
   "execution_count": 44,
   "outputs": [],
   "source": [
    "# Substitute omega for derivative of theta\n",
    "derivative_subs = {sp.Derivative(theta1, t): omega1, sp.Derivative(theta2, t): omega2}\n",
    "\n",
    "# Isolate rhs of equations\n",
    "eqn1 = eq1.rhs.subs(derivative_subs)\n",
    "eqn2 = eq2.rhs.subs(derivative_subs)\n",
    "eqn3 = eq3.rhs.subs(derivative_subs)\n",
    "eqn4 = eq4.rhs.subs(derivative_subs)"
   ],
   "metadata": {
    "collapsed": false,
    "ExecuteTime": {
     "end_time": "2023-12-05T06:56:49.350096Z",
     "start_time": "2023-12-05T06:56:49.345574Z"
    }
   },
   "id": "9e7c3612b58ad25d"
  },
  {
   "cell_type": "markdown",
   "id": "74d276a8d5686ccb",
   "metadata": {},
   "source": [
    "Define system as matrix equations"
   ]
  },
  {
   "cell_type": "code",
   "execution_count": 45,
   "id": "733aecea8d9f92e5",
   "metadata": {
    "ExecuteTime": {
     "end_time": "2023-12-05T06:56:49.377055Z",
     "start_time": "2023-12-05T06:56:49.367687Z"
    }
   },
   "outputs": [
    {
     "data": {
      "text/plain": "Eq(Matrix([\n[               omega1(t)],\n[               omega2(t)],\n[Derivative(omega1(t), t)],\n[Derivative(omega2(t), t)]]), Matrix([\n[                                                                                                                                                                                                                                                             Derivative(theta1(t), t)],\n[                                                                                                                                                                                                                                                             Derivative(theta2(t), t)],\n[           (g*m1*sin(theta1(t)) + g*m2*sin(theta1(t) - 2*theta2(t))/2 + g*m2*sin(theta1(t))/2 + l1*m2*sin(2*theta1(t) - 2*theta2(t))*Derivative(theta1(t), t)**2/2 + l2*m2*sin(theta1(t) - theta2(t))*Derivative(theta2(t), t)**2)/(l1*(-m1 + m2*cos(theta1(t) - theta2(t))**2 - m2))],\n[((m1 + m2)*(g*sin(theta2(t)) - l1*sin(theta1(t) - theta2(t))*Derivative(theta1(t), t)**2) - (g*m1*sin(theta1(t)) + g*m2*sin(theta1(t)) + l2*m2*sin(theta1(t) - theta2(t))*Derivative(theta2(t), t)**2)*cos(theta1(t) - theta2(t)))/(l2*(-m1 + m2*cos(theta1(t) - theta2(t))**2 - m2))]]))",
      "text/latex": "$\\displaystyle \\left[\\begin{matrix}\\omega_{1}{\\left(t \\right)}\\\\\\omega_{2}{\\left(t \\right)}\\\\\\frac{d}{d t} \\omega_{1}{\\left(t \\right)}\\\\\\frac{d}{d t} \\omega_{2}{\\left(t \\right)}\\end{matrix}\\right] = \\left[\\begin{matrix}\\frac{d}{d t} \\theta_{1}{\\left(t \\right)}\\\\\\frac{d}{d t} \\theta_{2}{\\left(t \\right)}\\\\\\frac{g m_{1} \\sin{\\left(\\theta_{1}{\\left(t \\right)} \\right)} + \\frac{g m_{2} \\sin{\\left(\\theta_{1}{\\left(t \\right)} - 2 \\theta_{2}{\\left(t \\right)} \\right)}}{2} + \\frac{g m_{2} \\sin{\\left(\\theta_{1}{\\left(t \\right)} \\right)}}{2} + \\frac{l_{1} m_{2} \\sin{\\left(2 \\theta_{1}{\\left(t \\right)} - 2 \\theta_{2}{\\left(t \\right)} \\right)} \\left(\\frac{d}{d t} \\theta_{1}{\\left(t \\right)}\\right)^{2}}{2} + l_{2} m_{2} \\sin{\\left(\\theta_{1}{\\left(t \\right)} - \\theta_{2}{\\left(t \\right)} \\right)} \\left(\\frac{d}{d t} \\theta_{2}{\\left(t \\right)}\\right)^{2}}{l_{1} \\left(- m_{1} + m_{2} \\cos^{2}{\\left(\\theta_{1}{\\left(t \\right)} - \\theta_{2}{\\left(t \\right)} \\right)} - m_{2}\\right)}\\\\\\frac{\\left(m_{1} + m_{2}\\right) \\left(g \\sin{\\left(\\theta_{2}{\\left(t \\right)} \\right)} - l_{1} \\sin{\\left(\\theta_{1}{\\left(t \\right)} - \\theta_{2}{\\left(t \\right)} \\right)} \\left(\\frac{d}{d t} \\theta_{1}{\\left(t \\right)}\\right)^{2}\\right) - \\left(g m_{1} \\sin{\\left(\\theta_{1}{\\left(t \\right)} \\right)} + g m_{2} \\sin{\\left(\\theta_{1}{\\left(t \\right)} \\right)} + l_{2} m_{2} \\sin{\\left(\\theta_{1}{\\left(t \\right)} - \\theta_{2}{\\left(t \\right)} \\right)} \\left(\\frac{d}{d t} \\theta_{2}{\\left(t \\right)}\\right)^{2}\\right) \\cos{\\left(\\theta_{1}{\\left(t \\right)} - \\theta_{2}{\\left(t \\right)} \\right)}}{l_{2} \\left(- m_{1} + m_{2} \\cos^{2}{\\left(\\theta_{1}{\\left(t \\right)} - \\theta_{2}{\\left(t \\right)} \\right)} - m_{2}\\right)}\\end{matrix}\\right]$"
     },
     "metadata": {},
     "output_type": "display_data"
    }
   ],
   "source": [
    "LHS_FIRST = sp.Matrix([[eq1.lhs], [eq2.lhs], [eq3.lhs], [eq4.lhs]])\n",
    "RHS_FIRST = sp.Matrix([[eq1.rhs], [eq2.rhs], [eq3.rhs], [eq4.rhs]])\n",
    "\n",
    "MAT_EQ = sp.Eq(LHS_FIRST, RHS_FIRST)\n",
    "display(MAT_EQ)"
   ]
  },
  {
   "cell_type": "markdown",
   "id": "7a4c42935ce25cc4",
   "metadata": {},
   "source": [
    "----\n",
    "&nbsp;\n",
    "### Numerical Integration in [DoublePendulum Class](https://github.com/pineapple-bois/Double_Pendulum/blob/master/DoublePendulum.py)"
   ]
  }
 ],
 "metadata": {
  "kernelspec": {
   "display_name": "Python 3 (ipykernel)",
   "language": "python",
   "name": "python3"
  },
  "language_info": {
   "codemirror_mode": {
    "name": "ipython",
    "version": 3
   },
   "file_extension": ".py",
   "mimetype": "text/x-python",
   "name": "python",
   "nbconvert_exporter": "python",
   "pygments_lexer": "ipython3",
   "version": "3.9.12"
  },
  "toc": {
   "base_numbering": 1,
   "nav_menu": {},
   "number_sections": true,
   "sideBar": true,
   "skip_h1_title": false,
   "title_cell": "Table of Contents",
   "title_sidebar": "Contents",
   "toc_cell": false,
   "toc_position": {},
   "toc_section_display": true,
   "toc_window_display": false
  }
 },
 "nbformat": 4,
 "nbformat_minor": 5
}
