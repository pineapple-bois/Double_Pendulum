{
 "cells": [
  {
   "cell_type": "markdown",
   "id": "cfe0c1e811986855",
   "metadata": {},
   "source": [
    "# Double Pendulum Equations of Motion  \n",
    "## Lagrangian Formulation"
   ]
  },
  {
   "cell_type": "markdown",
   "id": "1148ed921a221a24",
   "metadata": {},
   "source": [
    "![](Image_files/Massive_rods.png)"
   ]
  },
  {
   "cell_type": "markdown",
   "id": "8111a08ca5624fc3",
   "metadata": {},
   "source": [
    "#### Compound Double Pendulum System: \n",
    "Figure shows a planar, double compound pendulum hinged at $O$, represented by two mass-carrying uniform rods, connected in series via a frictionless hinge and allowed to move in the $(x,y)$-plane.\n",
    "\n",
    "- **Massive Rods**: The rods $OP_1$ and $P_1P_2$ possess non-zero masses $M_1$ and $M_2$.\n",
    "  - $OP_1$ performs rotation about the fixed axis\n",
    "  - $P_1P_2$ is in plane motion. \n",
    "- **Moment of Inertia**: Signifying resistance to rotational acceleration about the $_{\\text{CM}}$.\n",
    "- **Centres of Mass**: Labelled $C_1$ and $C_2$\n",
    "\n",
    "The system's state is uniquely determined by two rotational angles $\\theta_1$ and $\\theta_2$, offering two degrees of freedom."
   ]
  },
  {
   "cell_type": "code",
   "execution_count": 2,
   "id": "initial_id",
   "metadata": {
    "collapsed": true,
    "ExecuteTime": {
     "end_time": "2023-12-09T15:11:14.693267Z",
     "start_time": "2023-12-09T15:11:14.249345Z"
    }
   },
   "outputs": [],
   "source": [
    "import sympy as sp"
   ]
  },
  {
   "cell_type": "code",
   "execution_count": 3,
   "id": "ec116cf8491fab47",
   "metadata": {
    "ExecuteTime": {
     "end_time": "2023-12-09T15:11:14.702435Z",
     "start_time": "2023-12-09T15:11:14.694888Z"
    }
   },
   "outputs": [],
   "source": [
    "# Declare variables & constants\n",
    "t = sp.Symbol(\"t\") \n",
    "l1, l2, M1, M2, g = sp.symbols('l1 l2 M1 M2 g', real=True, positive=True)\n",
    "R1, R2 = sp.symbols('R1 R2', real=True, positive=True)\n",
    "theta1 = sp.Function('theta1')(t)\n",
    "theta2 = sp.Function('theta2')(t)"
   ]
  },
  {
   "cell_type": "code",
   "execution_count": 4,
   "outputs": [],
   "source": [
    "theta1_dot = sp.Function('theta1_dot')(t)\n",
    "theta2_dot = sp.Function('theta2_dot')(t)\n",
    "omega1 = sp.diff(theta1, t)\n",
    "omega2 = sp.diff(theta2, t)"
   ],
   "metadata": {
    "collapsed": false,
    "ExecuteTime": {
     "end_time": "2023-12-09T15:11:14.712047Z",
     "start_time": "2023-12-09T15:11:14.699353Z"
    }
   },
   "id": "c270b762820eab30"
  },
  {
   "cell_type": "markdown",
   "id": "5d90fd818fc97833",
   "metadata": {},
   "source": [
    "----\n",
    "&nbsp;\n",
    "## Define Functions"
   ]
  },
  {
   "cell_type": "code",
   "execution_count": 5,
   "id": "29cabcdf55923881",
   "metadata": {
    "ExecuteTime": {
     "end_time": "2023-12-09T15:11:14.712518Z",
     "start_time": "2023-12-09T15:11:14.707480Z"
    }
   },
   "outputs": [],
   "source": [
    "def trans_kinetic_energy(m, dx, dy, dz):\n",
    "    T = sp.Rational(1,2)*m*(dx**2 + dy**2 + dz**2)\n",
    "    return T"
   ]
  },
  {
   "cell_type": "code",
   "execution_count": 6,
   "outputs": [],
   "source": [
    "def potential_energy(m, g, h):\n",
    "    V = m*g*h\n",
    "    return V"
   ],
   "metadata": {
    "collapsed": false,
    "ExecuteTime": {
     "end_time": "2023-12-09T15:11:14.722993Z",
     "start_time": "2023-12-09T15:11:14.714344Z"
    }
   },
   "id": "da27596ecf7ea1c"
  },
  {
   "cell_type": "code",
   "execution_count": 7,
   "outputs": [],
   "source": [
    "def moment_of_inertia(M, L, model='uniform', R=None):\n",
    "    \"\"\"\n",
    "    Calculate the moment of inertia for a rod based on the specified model.\n",
    "    Can be 'uniform' for a uniform rod or 'cylindrical' for a cylindrical rod.\n",
    "    The default is 'uniform'.\n",
    "        \n",
    "    Returns:\n",
    "    The moment of inertia of the rod based on the specified model.\n",
    "        \n",
    "    Raises:\n",
    "    ValueError\n",
    "        If the 'cylindrical' model is selected and no radius R is provided.  \n",
    "    \"\"\"\n",
    "    if model == 'uniform':\n",
    "        return sp.Rational(1, 3) * M * L**2\n",
    "    elif model == 'cylindrical':\n",
    "        if R is None:\n",
    "            raise ValueError(\"Radius R must be provided for the cylindrical model.\")\n",
    "        # The moment of inertia for a cylindrical rod about its center\n",
    "        I_cm = sp.Rational(1, 2) * M * R**2\n",
    "        # Applying the parallel axis theorem to get the moment of inertia about one end\n",
    "        I_end = I_cm + M * L**2\n",
    "        return I_end"
   ],
   "metadata": {
    "collapsed": false,
    "ExecuteTime": {
     "end_time": "2023-12-09T15:11:14.744618Z",
     "start_time": "2023-12-09T15:11:14.720209Z"
    }
   },
   "id": "c46e060900bcc161"
  },
  {
   "cell_type": "code",
   "execution_count": 8,
   "outputs": [],
   "source": [
    "def rotational_kinetic_energy(M, L, omega, model='uniform', R=None):\n",
    "    I = moment_of_inertia(M, L, model, R) \n",
    "    T_rot = sp.Rational(1, 2) * I * omega**2\n",
    "    return T_rot"
   ],
   "metadata": {
    "collapsed": false,
    "ExecuteTime": {
     "end_time": "2023-12-09T15:11:14.745331Z",
     "start_time": "2023-12-09T15:11:14.723325Z"
    }
   },
   "id": "f29e41955f863fc9"
  },
  {
   "cell_type": "code",
   "execution_count": 9,
   "outputs": [],
   "source": [
    "def form_lagrangian(theta1, theta2, l1, l2, M1, M2, g, R1=None, R2=None, model='uniform'):\n",
    "    \"\"\"\n",
    "    The function computes the Lagrangian by determining the translational and rotational kinetic energies, \n",
    "    as well as the potential energy, of two rods in a pendulum system. \n",
    "    It supports 'uniform' and 'cylindrical' models. (currently)\n",
    "\n",
    "    Returns the symbolic expression for the Lagrangian of the system.\n",
    "    \"\"\"\n",
    "    # Calculate positions of the center of mass\n",
    "    x1 = l1 / 2 * sp.sin(theta1)\n",
    "    y1 = -l1 / 2 * sp.cos(theta1)\n",
    "    x2 = x1 + l2 / 2 * sp.sin(theta2)\n",
    "    y2 = y1 - l2 / 2 * sp.cos(theta2)\n",
    "\n",
    "    # Calculate velocities\n",
    "    xdot1 = sp.diff(x1, t)\n",
    "    ydot1 = sp.diff(y1, t)\n",
    "    xdot2 = sp.diff(x2, t)\n",
    "    ydot2 = sp.diff(y2, t)\n",
    "    \n",
    "    # Define angular velocity\n",
    "    omega_1 = sp.diff(theta1, t)\n",
    "    omega_2 = sp.diff(theta2, t)\n",
    "\n",
    "    # Calculate energies using the previously defined functions\n",
    "    T1_trans = trans_kinetic_energy(M1, xdot1, ydot1, 0)\n",
    "    V1 = potential_energy(M1, g, y1)\n",
    "    T1_rot = rotational_kinetic_energy(M1, l1, omega_1, model, R1)\n",
    "\n",
    "    T2_trans = trans_kinetic_energy(M2, xdot2, ydot2, 0)\n",
    "    V2 = potential_energy(M2, g, y2)\n",
    "    T2_rot = rotational_kinetic_energy(M2, l2, omega_2, model, R2)\n",
    "\n",
    "    # Form the Lagrangian\n",
    "    T = sp.simplify(T1_trans + T1_rot + T2_trans + T2_rot)\n",
    "    V = sp.simplify(V1 + V2)\n",
    "    L = T - V\n",
    "\n",
    "    return L"
   ],
   "metadata": {
    "collapsed": false,
    "ExecuteTime": {
     "end_time": "2023-12-09T15:11:14.745456Z",
     "start_time": "2023-12-09T15:11:14.731707Z"
    }
   },
   "id": "f1997913c2bd0f05"
  },
  {
   "cell_type": "markdown",
   "source": [
    "----\n",
    "&nbsp;\n",
    "## Form Lagrangian"
   ],
   "metadata": {
    "collapsed": false
   },
   "id": "fe5d809cc0534789"
  },
  {
   "cell_type": "markdown",
   "source": [
    "`Uniform rod` model"
   ],
   "metadata": {
    "collapsed": false
   },
   "id": "aecedf39e29ceffb"
  },
  {
   "cell_type": "code",
   "execution_count": 10,
   "outputs": [
    {
     "data": {
      "text/plain": "7*M1*l1**2*Derivative(theta1(t), t)**2/24 + M2*l1**2*Derivative(theta1(t), t)**2/8 + M2*l1*l2*cos(theta1(t) - theta2(t))*Derivative(theta1(t), t)*Derivative(theta2(t), t)/4 + 7*M2*l2**2*Derivative(theta2(t), t)**2/24 + g*(M1*l1*cos(theta1(t)) + M2*l1*cos(theta1(t)) + M2*l2*cos(theta2(t)))/2",
      "text/latex": "$\\displaystyle \\frac{7 M_{1} l_{1}^{2} \\left(\\frac{d}{d t} \\theta_{1}{\\left(t \\right)}\\right)^{2}}{24} + \\frac{M_{2} l_{1}^{2} \\left(\\frac{d}{d t} \\theta_{1}{\\left(t \\right)}\\right)^{2}}{8} + \\frac{M_{2} l_{1} l_{2} \\cos{\\left(\\theta_{1}{\\left(t \\right)} - \\theta_{2}{\\left(t \\right)} \\right)} \\frac{d}{d t} \\theta_{1}{\\left(t \\right)} \\frac{d}{d t} \\theta_{2}{\\left(t \\right)}}{4} + \\frac{7 M_{2} l_{2}^{2} \\left(\\frac{d}{d t} \\theta_{2}{\\left(t \\right)}\\right)^{2}}{24} + \\frac{g \\left(M_{1} l_{1} \\cos{\\left(\\theta_{1}{\\left(t \\right)} \\right)} + M_{2} l_{1} \\cos{\\left(\\theta_{1}{\\left(t \\right)} \\right)} + M_{2} l_{2} \\cos{\\left(\\theta_{2}{\\left(t \\right)} \\right)}\\right)}{2}$"
     },
     "metadata": {},
     "output_type": "display_data"
    }
   ],
   "source": [
    "L_uniform = form_lagrangian(theta1, theta2, l1, l2, M1, M2, g, model='uniform')\n",
    "display(L_uniform)"
   ],
   "metadata": {
    "collapsed": false,
    "ExecuteTime": {
     "end_time": "2023-12-09T15:11:16.000166Z",
     "start_time": "2023-12-09T15:11:14.737732Z"
    }
   },
   "id": "9e0c97e37d81f40f"
  },
  {
   "cell_type": "markdown",
   "source": [
    "`cylindrical_rod` model"
   ],
   "metadata": {
    "collapsed": false
   },
   "id": "3e38490403e9fa05"
  },
  {
   "cell_type": "code",
   "execution_count": 11,
   "id": "d7ee39c49688e33b",
   "metadata": {
    "ExecuteTime": {
     "end_time": "2023-12-09T15:11:17.217445Z",
     "start_time": "2023-12-09T15:11:16.061924Z"
    }
   },
   "outputs": [
    {
     "data": {
      "text/plain": "M1*R1**2*Derivative(theta1(t), t)**2/4 + 5*M1*l1**2*Derivative(theta1(t), t)**2/8 + M2*R2**2*Derivative(theta2(t), t)**2/4 + M2*l1**2*Derivative(theta1(t), t)**2/8 + M2*l1*l2*cos(theta1(t) - theta2(t))*Derivative(theta1(t), t)*Derivative(theta2(t), t)/4 + 5*M2*l2**2*Derivative(theta2(t), t)**2/8 + g*(M1*l1*cos(theta1(t)) + M2*l1*cos(theta1(t)) + M2*l2*cos(theta2(t)))/2",
      "text/latex": "$\\displaystyle \\frac{M_{1} R_{1}^{2} \\left(\\frac{d}{d t} \\theta_{1}{\\left(t \\right)}\\right)^{2}}{4} + \\frac{5 M_{1} l_{1}^{2} \\left(\\frac{d}{d t} \\theta_{1}{\\left(t \\right)}\\right)^{2}}{8} + \\frac{M_{2} R_{2}^{2} \\left(\\frac{d}{d t} \\theta_{2}{\\left(t \\right)}\\right)^{2}}{4} + \\frac{M_{2} l_{1}^{2} \\left(\\frac{d}{d t} \\theta_{1}{\\left(t \\right)}\\right)^{2}}{8} + \\frac{M_{2} l_{1} l_{2} \\cos{\\left(\\theta_{1}{\\left(t \\right)} - \\theta_{2}{\\left(t \\right)} \\right)} \\frac{d}{d t} \\theta_{1}{\\left(t \\right)} \\frac{d}{d t} \\theta_{2}{\\left(t \\right)}}{4} + \\frac{5 M_{2} l_{2}^{2} \\left(\\frac{d}{d t} \\theta_{2}{\\left(t \\right)}\\right)^{2}}{8} + \\frac{g \\left(M_{1} l_{1} \\cos{\\left(\\theta_{1}{\\left(t \\right)} \\right)} + M_{2} l_{1} \\cos{\\left(\\theta_{1}{\\left(t \\right)} \\right)} + M_{2} l_{2} \\cos{\\left(\\theta_{2}{\\left(t \\right)} \\right)}\\right)}{2}$"
     },
     "metadata": {},
     "output_type": "display_data"
    }
   ],
   "source": [
    "L_cylindrical = form_lagrangian(theta1, theta2, l1, l2, M1, M2, g, R1, R2, model='cylindrical')\n",
    "display(L_cylindrical)"
   ]
  },
  {
   "cell_type": "markdown",
   "id": "462e5a3966d7acf0",
   "metadata": {},
   "source": [
    "----\n",
    "&nbsp;\n",
    "## System of Euler-Lagrange Equations: \n",
    "For each generalised coordinate $\\theta_i$\n",
    "\n",
    "$$\\frac{\\text{d}}{\\text{d}t}\\left(\\frac{\\partial L}{\\partial \\dot{\\theta}_i}\\right)-\\frac{\\partial L}{\\partial \\theta_i}=0$$"
   ]
  },
  {
   "cell_type": "code",
   "execution_count": 12,
   "outputs": [],
   "source": [
    "def euler_lagrange_system(q1, q2, model='uniform'):\n",
    "    \"\"\"\n",
    "    Computes the Euler-Lagrange equations for a double pendulum system with two generalized coordinates.\n",
    "\n",
    "    Parameters\n",
    "    ----------\n",
    "    q1 : sympy.Function\n",
    "        The first generalized coordinate as a function of time.\n",
    "    q2 : sympy.Function\n",
    "        The second generalized coordinate as a function of time.\n",
    "    model : str, optional\n",
    "        The model type of the pendulum system, either 'uniform' or 'cylindrical'. Default is 'uniform'.\n",
    "\n",
    "    Returns\n",
    "    -------\n",
    "    tuple of sympy.Eq\n",
    "        A tuple containing two sympy.Eq objects representing the simplified Euler-Lagrange equations\n",
    "        for the two generalized coordinates.\n",
    "\n",
    "    Raises\n",
    "    ------\n",
    "    ValueError\n",
    "        If an invalid model type is provided.\n",
    "\n",
    "    Notes\n",
    "    -----\n",
    "    The function assumes that the Lagrangians (L_uniform and L_cylindrical) for both model types\n",
    "    are precomputed and accessible in the scope of this function.\n",
    "    \"\"\"\n",
    "    if model == 'uniform':\n",
    "        L = L_uniform\n",
    "    elif model == 'cylindrical':\n",
    "        L = L_cylindrical\n",
    "    else:\n",
    "        raise ValueError(\"Invalid model type. Choose 'uniform' or 'cylindrical'.\")\n",
    "\n",
    "    # Derivatives of the generalized coordinates\n",
    "    q1_dot = sp.diff(q1, t)\n",
    "    q2_dot = sp.diff(q2, t)\n",
    "\n",
    "    # Euler-Lagrange equations for q1\n",
    "    partial_L_partial_q1 = sp.diff(L, q1)\n",
    "    partial_L_partial_q1_dot = sp.diff(L, q1_dot)\n",
    "    EL_q1 = sp.diff(partial_L_partial_q1_dot, t) - partial_L_partial_q1\n",
    "\n",
    "    # Euler-Lagrange equations for q2\n",
    "    partial_L_partial_q2 = sp.diff(L, q2)\n",
    "    partial_L_partial_q2_dot = sp.diff(L, q2_dot)\n",
    "    EL_q2 = sp.diff(partial_L_partial_q2_dot, t) - partial_L_partial_q2\n",
    "\n",
    "    # Apply specific simplification factors based on the model\n",
    "    if model == 'uniform':\n",
    "        EL_q1 = EL_q1 * (12 / l1)\n",
    "        EL_q2 = EL_q2 * (12 / (M2 * l2))\n",
    "    elif model == 'cylindrical':\n",
    "        EL_q1 = EL_q1 * 2\n",
    "        EL_q2 = EL_q2 * (4 / M2)\n",
    "\n",
    "    # Simplify the equations\n",
    "    EL_q1_simplified = sp.simplify(EL_q1)\n",
    "    EL_q2_simplified = sp.simplify(EL_q2)\n",
    "    \n",
    "    eqn1 = sp.Eq(EL_q1_simplified, 0)\n",
    "    eqn2 = sp.Eq(EL_q2_simplified, 0)\n",
    "\n",
    "    return eqn1, eqn2"
   ],
   "metadata": {
    "collapsed": false,
    "ExecuteTime": {
     "end_time": "2023-12-09T15:11:17.219212Z",
     "start_time": "2023-12-09T15:11:17.214829Z"
    }
   },
   "id": "cbc9c8ce94067d07"
  },
  {
   "cell_type": "markdown",
   "source": [
    "`uniform_rod` model"
   ],
   "metadata": {
    "collapsed": false
   },
   "id": "193efbef3ca7fc46"
  },
  {
   "cell_type": "code",
   "execution_count": 13,
   "outputs": [
    {
     "name": "stdout",
     "output_type": "stream",
     "text": [
      "eqn1\n",
      "<class 'sympy.core.relational.Equality'>\n"
     ]
    },
    {
     "data": {
      "text/plain": "Eq(6*M1*g*sin(theta1(t)) + 7*M1*l1*Derivative(theta1(t), (t, 2)) + 6*M2*g*sin(theta1(t)) + 3*M2*l1*Derivative(theta1(t), (t, 2)) + 3*M2*l2*sin(theta1(t) - theta2(t))*Derivative(theta2(t), t)**2 + 3*M2*l2*cos(theta1(t) - theta2(t))*Derivative(theta2(t), (t, 2)), 0)",
      "text/latex": "$\\displaystyle 6 M_{1} g \\sin{\\left(\\theta_{1}{\\left(t \\right)} \\right)} + 7 M_{1} l_{1} \\frac{d^{2}}{d t^{2}} \\theta_{1}{\\left(t \\right)} + 6 M_{2} g \\sin{\\left(\\theta_{1}{\\left(t \\right)} \\right)} + 3 M_{2} l_{1} \\frac{d^{2}}{d t^{2}} \\theta_{1}{\\left(t \\right)} + 3 M_{2} l_{2} \\sin{\\left(\\theta_{1}{\\left(t \\right)} - \\theta_{2}{\\left(t \\right)} \\right)} \\left(\\frac{d}{d t} \\theta_{2}{\\left(t \\right)}\\right)^{2} + 3 M_{2} l_{2} \\cos{\\left(\\theta_{1}{\\left(t \\right)} - \\theta_{2}{\\left(t \\right)} \\right)} \\frac{d^{2}}{d t^{2}} \\theta_{2}{\\left(t \\right)} = 0$"
     },
     "metadata": {},
     "output_type": "display_data"
    },
    {
     "name": "stdout",
     "output_type": "stream",
     "text": [
      "eqn2\n",
      "<class 'sympy.core.relational.Equality'>\n"
     ]
    },
    {
     "data": {
      "text/plain": "Eq(6*g*sin(theta2(t)) - 3*l1*sin(theta1(t) - theta2(t))*Derivative(theta1(t), t)**2 + 3*l1*cos(theta1(t) - theta2(t))*Derivative(theta1(t), (t, 2)) + 7*l2*Derivative(theta2(t), (t, 2)), 0)",
      "text/latex": "$\\displaystyle 6 g \\sin{\\left(\\theta_{2}{\\left(t \\right)} \\right)} - 3 l_{1} \\sin{\\left(\\theta_{1}{\\left(t \\right)} - \\theta_{2}{\\left(t \\right)} \\right)} \\left(\\frac{d}{d t} \\theta_{1}{\\left(t \\right)}\\right)^{2} + 3 l_{1} \\cos{\\left(\\theta_{1}{\\left(t \\right)} - \\theta_{2}{\\left(t \\right)} \\right)} \\frac{d^{2}}{d t^{2}} \\theta_{1}{\\left(t \\right)} + 7 l_{2} \\frac{d^{2}}{d t^{2}} \\theta_{2}{\\left(t \\right)} = 0$"
     },
     "metadata": {},
     "output_type": "display_data"
    }
   ],
   "source": [
    "eqn1_u, eqn2_u = euler_lagrange_system(theta1, theta2, model='uniform')\n",
    "uniform_system = [eqn1_u, eqn2_u]\n",
    "for i, eqn in enumerate(uniform_system):\n",
    "    print(f\"eqn{i+1}\\n{type(eqn)}\")\n",
    "    display(eqn)"
   ],
   "metadata": {
    "collapsed": false,
    "ExecuteTime": {
     "end_time": "2023-12-09T15:11:17.865772Z",
     "start_time": "2023-12-09T15:11:17.236411Z"
    }
   },
   "id": "fdebce9ebad46cd5"
  },
  {
   "cell_type": "markdown",
   "source": [
    "`cylindrical_rod` model"
   ],
   "metadata": {
    "collapsed": false
   },
   "id": "22632ed00ddf8cad"
  },
  {
   "cell_type": "code",
   "execution_count": 14,
   "outputs": [
    {
     "name": "stdout",
     "output_type": "stream",
     "text": [
      "eqn1\n",
      "<class 'sympy.core.relational.Equality'>\n"
     ]
    },
    {
     "data": {
      "text/plain": "Eq(M1*R1**2*Derivative(theta1(t), (t, 2)) + M1*g*l1*sin(theta1(t)) + 5*M1*l1**2*Derivative(theta1(t), (t, 2))/2 + M2*g*l1*sin(theta1(t)) + M2*l1**2*Derivative(theta1(t), (t, 2))/2 + M2*l1*l2*sin(theta1(t) - theta2(t))*Derivative(theta2(t), t)**2/2 + M2*l1*l2*cos(theta1(t) - theta2(t))*Derivative(theta2(t), (t, 2))/2, 0)",
      "text/latex": "$\\displaystyle M_{1} R_{1}^{2} \\frac{d^{2}}{d t^{2}} \\theta_{1}{\\left(t \\right)} + M_{1} g l_{1} \\sin{\\left(\\theta_{1}{\\left(t \\right)} \\right)} + \\frac{5 M_{1} l_{1}^{2} \\frac{d^{2}}{d t^{2}} \\theta_{1}{\\left(t \\right)}}{2} + M_{2} g l_{1} \\sin{\\left(\\theta_{1}{\\left(t \\right)} \\right)} + \\frac{M_{2} l_{1}^{2} \\frac{d^{2}}{d t^{2}} \\theta_{1}{\\left(t \\right)}}{2} + \\frac{M_{2} l_{1} l_{2} \\sin{\\left(\\theta_{1}{\\left(t \\right)} - \\theta_{2}{\\left(t \\right)} \\right)} \\left(\\frac{d}{d t} \\theta_{2}{\\left(t \\right)}\\right)^{2}}{2} + \\frac{M_{2} l_{1} l_{2} \\cos{\\left(\\theta_{1}{\\left(t \\right)} - \\theta_{2}{\\left(t \\right)} \\right)} \\frac{d^{2}}{d t^{2}} \\theta_{2}{\\left(t \\right)}}{2} = 0$"
     },
     "metadata": {},
     "output_type": "display_data"
    },
    {
     "name": "stdout",
     "output_type": "stream",
     "text": [
      "eqn2\n",
      "<class 'sympy.core.relational.Equality'>\n"
     ]
    },
    {
     "data": {
      "text/plain": "Eq(2*R2**2*Derivative(theta2(t), (t, 2)) + 2*g*l2*sin(theta2(t)) - l1*l2*sin(theta1(t) - theta2(t))*Derivative(theta1(t), t)**2 + l1*l2*cos(theta1(t) - theta2(t))*Derivative(theta1(t), (t, 2)) + 5*l2**2*Derivative(theta2(t), (t, 2)), 0)",
      "text/latex": "$\\displaystyle 2 R_{2}^{2} \\frac{d^{2}}{d t^{2}} \\theta_{2}{\\left(t \\right)} + 2 g l_{2} \\sin{\\left(\\theta_{2}{\\left(t \\right)} \\right)} - l_{1} l_{2} \\sin{\\left(\\theta_{1}{\\left(t \\right)} - \\theta_{2}{\\left(t \\right)} \\right)} \\left(\\frac{d}{d t} \\theta_{1}{\\left(t \\right)}\\right)^{2} + l_{1} l_{2} \\cos{\\left(\\theta_{1}{\\left(t \\right)} - \\theta_{2}{\\left(t \\right)} \\right)} \\frac{d^{2}}{d t^{2}} \\theta_{1}{\\left(t \\right)} + 5 l_{2}^{2} \\frac{d^{2}}{d t^{2}} \\theta_{2}{\\left(t \\right)} = 0$"
     },
     "metadata": {},
     "output_type": "display_data"
    }
   ],
   "source": [
    "eqn1_c, eqn2_c = euler_lagrange_system(theta1, theta2, model='cylindrical')\n",
    "cylindrical_system = [eqn1_c, eqn2_c]\n",
    "for i, eqn in enumerate(cylindrical_system):\n",
    "    print(f\"eqn{i+1}\\n{type(eqn)}\")\n",
    "    display(eqn)"
   ],
   "metadata": {
    "collapsed": false,
    "ExecuteTime": {
     "end_time": "2023-12-09T15:11:18.783340Z",
     "start_time": "2023-12-09T15:11:17.938745Z"
    }
   },
   "id": "bc3310a17100b8fe"
  },
  {
   "cell_type": "markdown",
   "id": "63780e157ab7d634",
   "metadata": {},
   "source": [
    "#### Which are our coupled 2nd-order differential equations of motion"
   ]
  },
  {
   "cell_type": "markdown",
   "id": "cd1740e63f7ad574",
   "metadata": {},
   "source": [
    "----\n",
    "&nbsp;\n",
    "#### Rewrite E-L equations in form;\n",
    "\n",
    "$$\n",
    "\\begin{aligned}\n",
    "& \\ddot{\\theta}_1+\\alpha_1\\left(\\theta_1, \\theta_2\\right) \\ddot{\\theta}_2=f_1\\left(\\theta_1, \\theta_2, \\dot{\\theta}_1, \\dot{\\theta}_2\\right) \\\\\n",
    "& \\ddot{\\theta}_2+\\alpha_2\\left(\\theta_1, \\theta_2\\right) \\ddot{\\theta}_1=f_2\\left(\\theta_1, \\theta_2, \\dot{\\theta}_1, \\dot{\\theta}_2\\right)\n",
    "\\end{aligned}\n",
    "$$\n",
    "\n",
    "  "
   ]
  },
  {
   "cell_type": "markdown",
   "source": [
    "Extract equations from system to avoid name space conflicts"
   ],
   "metadata": {
    "collapsed": false
   },
   "id": "23d389cdf9507af8"
  },
  {
   "cell_type": "code",
   "execution_count": 15,
   "outputs": [],
   "source": [
    "system = uniform_system\n",
    "eq1, eq2 = system[0], system[1]"
   ],
   "metadata": {
    "collapsed": false,
    "ExecuteTime": {
     "end_time": "2023-12-09T15:11:18.798095Z",
     "start_time": "2023-12-09T15:11:18.785792Z"
    }
   },
   "id": "21ad906ddcfe1df"
  },
  {
   "cell_type": "markdown",
   "id": "94b6ca4fe1870604",
   "metadata": {
    "ExecuteTime": {
     "end_time": "2023-12-09T14:36:40.887790Z",
     "start_time": "2023-12-09T14:36:40.864639Z"
    }
   },
   "source": [
    "#### Isolate the second derivative coefficients"
   ]
  },
  {
   "cell_type": "code",
   "execution_count": 16,
   "outputs": [],
   "source": [
    "def isolate_terms(equation):\n",
    "    \"\"\"\n",
    "    Returns the second derivative terms isolated from the given equation.\n",
    "    \n",
    "    Parameters:\n",
    "        equation (sympy.Eq): The equation from which to isolate the second derivative terms.\n",
    "    \n",
    "    Returns:\n",
    "        list: A list containing the isolated second derivative terms.\n",
    "    \"\"\"\n",
    "    # Define derivative terms\n",
    "    theta1ddot = sp.diff(theta1, t, 2)\n",
    "    theta2ddot = sp.diff(theta2, t, 2)\n",
    "    \n",
    "    terms = []\n",
    "\n",
    "    try:\n",
    "        th1 = sp.Eq(theta1ddot, sp.solve(equation, theta1ddot)[0])\n",
    "        rhs_eq = th1.rhs\n",
    "        alpha1 = sp.together(rhs_eq).as_numer_denom()[1]\n",
    "        eq_new = sp.Eq(th1.lhs * alpha1, th1.rhs * alpha1)\n",
    "        theta1_second = eq_new.lhs\n",
    "        terms.append(theta1_second)\n",
    "    except IndexError:\n",
    "        pass\n",
    "\n",
    "    try:\n",
    "        th2 = sp.Eq(theta2ddot, sp.solve(equation, theta2ddot)[0])\n",
    "        rhs_eq = th2.rhs\n",
    "        alpha2 = sp.together(rhs_eq).as_numer_denom()[1]\n",
    "        eq_new = sp.Eq(th2.lhs * alpha2, th2.rhs * alpha2)\n",
    "        theta2_second = eq_new.lhs\n",
    "        terms.append(theta2_second)\n",
    "    except IndexError:\n",
    "        pass\n",
    "\n",
    "    return terms"
   ],
   "metadata": {
    "collapsed": false,
    "ExecuteTime": {
     "end_time": "2023-12-09T15:11:18.798525Z",
     "start_time": "2023-12-09T15:11:18.788505Z"
    }
   },
   "id": "603798eb2795e9c"
  },
  {
   "cell_type": "code",
   "execution_count": 17,
   "outputs": [],
   "source": [
    "def simplify_system_equations(eq1, eq2, model='uniform'):\n",
    "    \"\"\"\n",
    "    Simplifies the system of equations based on the specified model.\n",
    "    \n",
    "    Parameters:\n",
    "    eq1, eq2 : sympy.Eq\n",
    "        The Euler-Lagrange equations of the system.\n",
    "    model : str, optional\n",
    "        The model type of the pendulum system ('uniform' or 'cylindrical'). Default is 'uniform'.\n",
    "    \n",
    "    Returns:\n",
    "    tuple of sympy.Eq\n",
    "        The simplified equations for the system.\n",
    "    \"\"\"\n",
    "    # Isolate second derivatives and simplify equations for eq1\n",
    "    second_derivatives_1 = isolate_terms(eq1)\n",
    "    lhs_1 = sum(second_derivatives_1)\n",
    "    rhs_1 = sp.simplify(eq1.lhs - lhs_1) \n",
    "    eqn1 = sp.Eq(lhs_1, rhs_1)\n",
    "\n",
    "    # Isolate second derivatives and simplify equations for eq2\n",
    "    second_derivatives_2 = isolate_terms(eq2)\n",
    "    lhs_2 = sum(second_derivatives_2)\n",
    "    rhs_2 = sp.simplify(eq2.lhs - lhs_2)\n",
    "    eqn2 = sp.Eq(lhs_2, rhs_2)\n",
    "\n",
    "    # Simplify based on model\n",
    "    if model == 'uniform':\n",
    "        # Simplify eqn1\n",
    "        eqn1_lhs = sp.simplify(eqn1.lhs / (l1 * (7*M1 + 3*M2)))\n",
    "        eqn1_rhs = sp.simplify(eqn1.rhs / (l1 * (7*M1 + 3*M2)))\n",
    "        eqn1 = sp.Eq(eqn1_lhs, eqn1_rhs)\n",
    "\n",
    "        # Simplify eqn2\n",
    "        eqn2_lhs = sp.simplify(eqn2.lhs / (7 * l2))\n",
    "        eqn2_rhs = sp.simplify(eqn2.rhs / (7 * l2))\n",
    "        eqn2 = sp.Eq(eqn2_lhs, eqn2_rhs)\n",
    "\n",
    "    elif model == 'cylindrical':\n",
    "        # Placeholder for cylindrical model simplification\n",
    "        pass\n",
    "\n",
    "    return eqn1, eqn2"
   ],
   "metadata": {
    "collapsed": false,
    "ExecuteTime": {
     "end_time": "2023-12-09T15:11:18.845076Z",
     "start_time": "2023-12-09T15:11:18.798833Z"
    }
   },
   "id": "d516dc419ef9e17c"
  },
  {
   "cell_type": "code",
   "execution_count": 18,
   "outputs": [],
   "source": [
    "eqn1, eqn2 = simplify_system_equations(eq1, eq2, model='uniform')"
   ],
   "metadata": {
    "collapsed": false,
    "ExecuteTime": {
     "end_time": "2023-12-09T15:12:14.141582Z",
     "start_time": "2023-12-09T15:12:11.650082Z"
    }
   },
   "id": "583af1da90c5d339"
  },
  {
   "cell_type": "code",
   "execution_count": 19,
   "outputs": [
    {
     "name": "stdout",
     "output_type": "stream",
     "text": [
      "eqn1\n",
      "<class 'sympy.core.relational.Equality'>\n"
     ]
    },
    {
     "data": {
      "text/plain": "Eq((3*M2*l2*cos(theta1(t) - theta2(t))*Derivative(theta2(t), (t, 2)) + l1*(7*M1 + 3*M2)*Derivative(theta1(t), (t, 2)))/(l1*(7*M1 + 3*M2)), 3*(2*M1*g*sin(theta1(t)) + 2*M2*g*sin(theta1(t)) + M2*l2*sin(theta1(t) - theta2(t))*Derivative(theta2(t), t)**2)/(l1*(7*M1 + 3*M2)))",
      "text/latex": "$\\displaystyle \\frac{3 M_{2} l_{2} \\cos{\\left(\\theta_{1}{\\left(t \\right)} - \\theta_{2}{\\left(t \\right)} \\right)} \\frac{d^{2}}{d t^{2}} \\theta_{2}{\\left(t \\right)} + l_{1} \\cdot \\left(7 M_{1} + 3 M_{2}\\right) \\frac{d^{2}}{d t^{2}} \\theta_{1}{\\left(t \\right)}}{l_{1} \\cdot \\left(7 M_{1} + 3 M_{2}\\right)} = \\frac{3 \\cdot \\left(2 M_{1} g \\sin{\\left(\\theta_{1}{\\left(t \\right)} \\right)} + 2 M_{2} g \\sin{\\left(\\theta_{1}{\\left(t \\right)} \\right)} + M_{2} l_{2} \\sin{\\left(\\theta_{1}{\\left(t \\right)} - \\theta_{2}{\\left(t \\right)} \\right)} \\left(\\frac{d}{d t} \\theta_{2}{\\left(t \\right)}\\right)^{2}\\right)}{l_{1} \\cdot \\left(7 M_{1} + 3 M_{2}\\right)}$"
     },
     "metadata": {},
     "output_type": "display_data"
    },
    {
     "name": "stdout",
     "output_type": "stream",
     "text": [
      "eqn2\n",
      "<class 'sympy.core.relational.Equality'>\n"
     ]
    },
    {
     "data": {
      "text/plain": "Eq(3*l1*cos(theta1(t) - theta2(t))*Derivative(theta1(t), (t, 2))/(7*l2) + Derivative(theta2(t), (t, 2)), 3*(2*g*sin(theta2(t)) - l1*sin(theta1(t) - theta2(t))*Derivative(theta1(t), t)**2)/(7*l2))",
      "text/latex": "$\\displaystyle \\frac{3 l_{1} \\cos{\\left(\\theta_{1}{\\left(t \\right)} - \\theta_{2}{\\left(t \\right)} \\right)} \\frac{d^{2}}{d t^{2}} \\theta_{1}{\\left(t \\right)}}{7 l_{2}} + \\frac{d^{2}}{d t^{2}} \\theta_{2}{\\left(t \\right)} = \\frac{3 \\cdot \\left(2 g \\sin{\\left(\\theta_{2}{\\left(t \\right)} \\right)} - l_{1} \\sin{\\left(\\theta_{1}{\\left(t \\right)} - \\theta_{2}{\\left(t \\right)} \\right)} \\left(\\frac{d}{d t} \\theta_{1}{\\left(t \\right)}\\right)^{2}\\right)}{7 l_{2}}$"
     },
     "metadata": {},
     "output_type": "display_data"
    }
   ],
   "source": [
    "system = [eqn1, eqn2]\n",
    "for i, eqn in enumerate(system):\n",
    "    print(f\"eqn{i+1}\\n{type(eqn)}\")\n",
    "    display(eqn)"
   ],
   "metadata": {
    "collapsed": false,
    "ExecuteTime": {
     "end_time": "2023-12-09T15:12:16.544934Z",
     "start_time": "2023-12-09T15:12:16.512180Z"
    }
   },
   "id": "a5f15b7c3f98a6bd"
  },
  {
   "cell_type": "markdown",
   "id": "800441001cc2740f",
   "metadata": {
    "ExecuteTime": {
     "end_time": "2023-12-09T14:44:00.372836Z",
     "start_time": "2023-12-09T14:44:00.352456Z"
    }
   },
   "source": [
    "----\n",
    "&nbsp;\n",
    "## Extract coefficients from above equations"
   ]
  },
  {
   "cell_type": "code",
   "execution_count": 20,
   "id": "af152af6feb7820d",
   "metadata": {
    "ExecuteTime": {
     "end_time": "2023-12-09T15:14:05.574854Z",
     "start_time": "2023-12-09T15:14:05.565505Z"
    }
   },
   "outputs": [],
   "source": [
    "def extract_coefficient(equation, derivative_term):\n",
    "    \"\"\"\n",
    "    Extracts the coefficient, including the denominator, of the specified derivative term from the left-hand side of the equation.\n",
    "\n",
    "    Parameters:\n",
    "        equation (sympy.Expr): The equation to extract the coefficient from.\n",
    "        derivative_term (sympy.Expr): The derivative term to extract the coefficient of.\n",
    "\n",
    "    Returns:\n",
    "        coeff (sympy.Expr): The coefficient, including the denominator, of the derivative term in the equation.\n",
    "    \"\"\"\n",
    "    lhs_parts = sp.fraction(equation.lhs)\n",
    "    lhs_coeff_term = lhs_parts[0]\n",
    "    lhs_denominator_term = lhs_parts[1]\n",
    "    coeff = lhs_coeff_term.coeff(derivative_term) / lhs_denominator_term\n",
    "\n",
    "    return coeff"
   ]
  },
  {
   "cell_type": "markdown",
   "id": "9c89312b57bab41d",
   "metadata": {
    "ExecuteTime": {
     "end_time": "2023-12-09T14:44:10.376849Z",
     "start_time": "2023-12-09T14:44:10.363324Z"
    }
   },
   "source": [
    "We can now rewrite in the desired form\n",
    "\n",
    "$$\n",
    "\\begin{aligned}\n",
    "& \\ddot{\\theta}_1+\\alpha_1\\left(\\theta_1, \\theta_2\\right) \\ddot{\\theta}_2=f_1\\left(\\theta_1, \\theta_2, \\dot{\\theta}_1, \\dot{\\theta}_2\\right) \\\\\n",
    "& \\ddot{\\theta}_2+\\alpha_2\\left(\\theta_1, \\theta_2\\right) \\ddot{\\theta}_1=f_2\\left(\\theta_1, \\theta_2, \\dot{\\theta}_1, \\dot{\\theta}_2\\right)\n",
    "\\end{aligned}\n",
    "$$"
   ]
  },
  {
   "cell_type": "code",
   "execution_count": 21,
   "id": "cca59a287e40eeac",
   "metadata": {
    "ExecuteTime": {
     "end_time": "2023-12-09T15:14:08.258764Z",
     "start_time": "2023-12-09T15:14:08.251377Z"
    }
   },
   "outputs": [
    {
     "name": "stdout",
     "output_type": "stream",
     "text": [
      "<class 'sympy.core.mul.Mul'>\n"
     ]
    },
    {
     "data": {
      "text/plain": "3*M2*l2*cos(theta1(t) - theta2(t))/(l1*(7*M1 + 3*M2))",
      "text/latex": "$\\displaystyle \\frac{3 M_{2} l_{2} \\cos{\\left(\\theta_{1}{\\left(t \\right)} - \\theta_{2}{\\left(t \\right)} \\right)}}{l_{1} \\cdot \\left(7 M_{1} + 3 M_{2}\\right)}$"
     },
     "metadata": {},
     "output_type": "display_data"
    }
   ],
   "source": [
    "# Let alpha1 be 2nd derivative coefficient of theta2 from eqn1\n",
    "alpha1 = extract_coefficient(eqn1, sp.diff(theta2, t, 2))\n",
    "print(type(alpha1))\n",
    "display(alpha1)"
   ]
  },
  {
   "cell_type": "code",
   "execution_count": 22,
   "id": "e9fc75eb0a271c5a",
   "metadata": {
    "ExecuteTime": {
     "end_time": "2023-12-09T15:14:11.268388Z",
     "start_time": "2023-12-09T15:14:11.260640Z"
    }
   },
   "outputs": [
    {
     "name": "stdout",
     "output_type": "stream",
     "text": [
      "<class 'sympy.core.mul.Mul'>\n"
     ]
    },
    {
     "data": {
      "text/plain": "3*l1*cos(theta1(t) - theta2(t))/(7*l2)",
      "text/latex": "$\\displaystyle \\frac{3 l_{1} \\cos{\\left(\\theta_{1}{\\left(t \\right)} - \\theta_{2}{\\left(t \\right)} \\right)}}{7 l_{2}}$"
     },
     "metadata": {},
     "output_type": "display_data"
    }
   ],
   "source": [
    "# Let alpha2 be 2nd derivative coefficient of theta1 from eqn2\n",
    "alpha2 = extract_coefficient(eqn2, sp.diff(theta1, t, 2))\n",
    "print(type(alpha2))\n",
    "display(alpha2)"
   ]
  },
  {
   "cell_type": "markdown",
   "id": "90ee182009397850",
   "metadata": {},
   "source": [
    "Declare RHS as expressions"
   ]
  },
  {
   "cell_type": "code",
   "execution_count": 143,
   "id": "33d22d562323e1b",
   "metadata": {
    "ExecuteTime": {
     "end_time": "2023-12-07T13:56:48.180101Z",
     "start_time": "2023-12-07T13:56:48.149400Z"
    }
   },
   "outputs": [
    {
     "name": "stdout",
     "output_type": "stream",
     "text": [
      "<class 'sympy.core.mul.Mul'>\n"
     ]
    },
    {
     "data": {
      "text/plain": "3*(-M1*g*sin(theta1(t)) + 2*g*m1*sin(theta1(t)) + 2*g*m2*sin(theta1(t)) + 2*l2*m2*sin(theta1(t) - theta2(t))*Derivative(theta2(t), t)**2)/(2*l1*(M1 + 3*m1 + 3*m2))",
      "text/latex": "$\\displaystyle \\frac{3 \\left(- M_{1} g \\sin{\\left(\\theta_{1}{\\left(t \\right)} \\right)} + 2 g m_{1} \\sin{\\left(\\theta_{1}{\\left(t \\right)} \\right)} + 2 g m_{2} \\sin{\\left(\\theta_{1}{\\left(t \\right)} \\right)} + 2 l_{2} m_{2} \\sin{\\left(\\theta_{1}{\\left(t \\right)} - \\theta_{2}{\\left(t \\right)} \\right)} \\left(\\frac{d}{d t} \\theta_{2}{\\left(t \\right)}\\right)^{2}\\right)}{2 l_{1} \\left(M_{1} + 3 m_{1} + 3 m_{2}\\right)}$"
     },
     "metadata": {},
     "output_type": "display_data"
    }
   ],
   "source": [
    "function_1 = eqn1.rhs\n",
    "print(type(function_1))\n",
    "display(function_1)"
   ]
  },
  {
   "cell_type": "code",
   "execution_count": 42,
   "id": "f8ac46d10ad943bf",
   "metadata": {
    "ExecuteTime": {
     "end_time": "2023-12-09T14:44:51.173445Z",
     "start_time": "2023-12-09T14:44:51.164630Z"
    }
   },
   "outputs": [],
   "source": [
    "function_2 = eqn2.rhs\n",
    "print(type(function_2))\n",
    "display(function_2)"
   ]
  },
  {
   "cell_type": "markdown",
   "id": "fd0662376beed6ad",
   "metadata": {},
   "source": [
    "----\n",
    "&nbsp;\n",
    "## Define symbolic matrix equations"
   ]
  },
  {
   "cell_type": "markdown",
   "id": "9568adcd747d787f",
   "metadata": {
    "ExecuteTime": {
     "end_time": "2023-12-09T14:44:58.563938Z",
     "start_time": "2023-12-09T14:44:58.554275Z"
    }
   },
   "source": [
    "Define dummy functions"
   ]
  },
  {
   "cell_type": "code",
   "execution_count": 44,
   "id": "a61dd1e44eddee8d",
   "metadata": {
    "ExecuteTime": {
     "end_time": "2023-12-09T14:45:02.633632Z",
     "start_time": "2023-12-09T14:45:02.622995Z"
    }
   },
   "outputs": [
    {
     "data": {
      "text/plain": "Matrix([\n[                           1, alpha1(theta1(t), theta2(t))],\n[alpha2(theta1(t), theta2(t)),                            1]])",
      "text/latex": "$\\displaystyle \\left[\\begin{matrix}1 & \\alpha_{1}{\\left(\\theta_{1}{\\left(t \\right)},\\theta_{2}{\\left(t \\right)} \\right)}\\\\\\alpha_{2}{\\left(\\theta_{1}{\\left(t \\right)},\\theta_{2}{\\left(t \\right)} \\right)} & 1\\end{matrix}\\right]$"
     },
     "metadata": {},
     "output_type": "display_data"
    }
   ],
   "source": [
    "alpha1_func = sp.Function('alpha1')(theta1, theta2)\n",
    "alpha2_func = sp.Function('alpha2')(theta1, theta2)\n",
    "function1 = sp.Function('f1')(theta1, theta2, sp.diff(theta1, t), sp.diff(theta2, t))\n",
    "function2 = sp.Function('f2')(theta1, theta2, sp.diff(theta1, t), sp.diff(theta2, t))"
   ]
  },
  {
   "cell_type": "markdown",
   "id": "c21cc74b777559dd",
   "metadata": {
    "ExecuteTime": {
     "end_time": "2023-12-09T14:45:05.697630Z",
     "start_time": "2023-12-09T14:45:05.688098Z"
    }
   },
   "source": [
    "Define matrices"
   ]
  },
  {
   "cell_type": "code",
   "execution_count": 146,
   "id": "a6af31c490c12742",
   "metadata": {
    "ExecuteTime": {
     "end_time": "2023-12-07T13:57:02.257198Z",
     "start_time": "2023-12-07T13:57:02.243033Z"
    }
   },
   "outputs": [
    {
     "data": {
      "text/plain": "Matrix([\n[Derivative(theta1(t), (t, 2))],\n[Derivative(theta2(t), (t, 2))]])",
      "text/latex": "$\\displaystyle \\left[\\begin{matrix}\\frac{d^{2}}{d t^{2}} \\theta_{1}{\\left(t \\right)}\\\\\\frac{d^{2}}{d t^{2}} \\theta_{2}{\\left(t \\right)}\\end{matrix}\\right]$"
     },
     "metadata": {},
     "output_type": "display_data"
    }
   ],
   "source": [
    "# Differential operators\n",
    "LHS = sp.Matrix([[sp.diff(theta1, t, 2)], [sp.diff(theta2, t, 2)]])\n",
    "display(LHS)"
   ]
  },
  {
   "cell_type": "code",
   "execution_count": 46,
   "id": "859aad72efad9d23",
   "metadata": {
    "ExecuteTime": {
     "end_time": "2023-12-09T14:45:10.228949Z",
     "start_time": "2023-12-09T14:45:10.214835Z"
    }
   },
   "outputs": [
    {
     "data": {
      "text/plain": "Eq(Matrix([\n[alpha1(theta1(t), theta2(t))*Derivative(theta2(t), (t, 2)) + Derivative(theta1(t), (t, 2))],\n[alpha2(theta1(t), theta2(t))*Derivative(theta1(t), (t, 2)) + Derivative(theta2(t), (t, 2))]]), Matrix([\n[f1(theta1(t), theta2(t), Derivative(theta1(t), t), Derivative(theta2(t), t))],\n[f2(theta1(t), theta2(t), Derivative(theta1(t), t), Derivative(theta2(t), t))]]))",
      "text/latex": "$\\displaystyle \\left[\\begin{matrix}\\alpha_{1}{\\left(\\theta_{1}{\\left(t \\right)},\\theta_{2}{\\left(t \\right)} \\right)} \\frac{d^{2}}{d t^{2}} \\theta_{2}{\\left(t \\right)} + \\frac{d^{2}}{d t^{2}} \\theta_{1}{\\left(t \\right)}\\\\\\alpha_{2}{\\left(\\theta_{1}{\\left(t \\right)},\\theta_{2}{\\left(t \\right)} \\right)} \\frac{d^{2}}{d t^{2}} \\theta_{1}{\\left(t \\right)} + \\frac{d^{2}}{d t^{2}} \\theta_{2}{\\left(t \\right)}\\end{matrix}\\right] = \\left[\\begin{matrix}\\operatorname{f_{1}}{\\left(\\theta_{1}{\\left(t \\right)},\\theta_{2}{\\left(t \\right)},\\frac{d}{d t} \\theta_{1}{\\left(t \\right)},\\frac{d}{d t} \\theta_{2}{\\left(t \\right)} \\right)}\\\\\\operatorname{f_{2}}{\\left(\\theta_{1}{\\left(t \\right)},\\theta_{2}{\\left(t \\right)},\\frac{d}{d t} \\theta_{1}{\\left(t \\right)},\\frac{d}{d t} \\theta_{2}{\\left(t \\right)} \\right)}\\end{matrix}\\right]$"
     },
     "execution_count": 46,
     "metadata": {},
     "output_type": "execute_result"
    }
   ],
   "source": [
    "# Coefficients\n",
    "A = sp.Matrix([[1, alpha1_func], [alpha2_func, 1]])\n",
    "display(A)"
   ]
  },
  {
   "cell_type": "code",
   "execution_count": 148,
   "id": "58812d9b53262ac2",
   "metadata": {
    "ExecuteTime": {
     "end_time": "2023-12-07T13:57:09.108488Z",
     "start_time": "2023-12-07T13:57:09.090148Z"
    }
   },
   "outputs": [
    {
     "data": {
      "text/plain": "Matrix([\n[f1(theta1(t), theta2(t), Derivative(theta1(t), t), Derivative(theta2(t), t))],\n[f2(theta1(t), theta2(t), Derivative(theta1(t), t), Derivative(theta2(t), t))]])",
      "text/latex": "$\\displaystyle \\left[\\begin{matrix}\\operatorname{f_{1}}{\\left(\\theta_{1}{\\left(t \\right)},\\theta_{2}{\\left(t \\right)},\\frac{d}{d t} \\theta_{1}{\\left(t \\right)},\\frac{d}{d t} \\theta_{2}{\\left(t \\right)} \\right)}\\\\\\operatorname{f_{2}}{\\left(\\theta_{1}{\\left(t \\right)},\\theta_{2}{\\left(t \\right)},\\frac{d}{d t} \\theta_{1}{\\left(t \\right)},\\frac{d}{d t} \\theta_{2}{\\left(t \\right)} \\right)}\\end{matrix}\\right]$"
     },
     "metadata": {},
     "output_type": "display_data"
    }
   ],
   "source": [
    "RHS = sp.Matrix([[function1], [function2]])\n",
    "display(RHS)"
   ]
  },
  {
   "cell_type": "markdown",
   "id": "8a83491194e716fb",
   "metadata": {
    "ExecuteTime": {
     "end_time": "2023-12-09T14:45:15.282008Z",
     "start_time": "2023-12-09T14:45:15.185491Z"
    }
   },
   "source": [
    "Matrix equations"
   ]
  },
  {
   "cell_type": "code",
   "execution_count": 149,
   "id": "209d35d332641e79",
   "metadata": {
    "ExecuteTime": {
     "end_time": "2023-12-07T13:57:12.174862Z",
     "start_time": "2023-12-07T13:57:12.141122Z"
    }
   },
   "outputs": [
    {
     "data": {
      "text/plain": "Eq(Matrix([\n[alpha1(theta1(t), theta2(t))*Derivative(theta2(t), (t, 2)) + Derivative(theta1(t), (t, 2))],\n[alpha2(theta1(t), theta2(t))*Derivative(theta1(t), (t, 2)) + Derivative(theta2(t), (t, 2))]]), Matrix([\n[f1(theta1(t), theta2(t), Derivative(theta1(t), t), Derivative(theta2(t), t))],\n[f2(theta1(t), theta2(t), Derivative(theta1(t), t), Derivative(theta2(t), t))]]))",
      "text/latex": "$\\displaystyle \\left[\\begin{matrix}\\alpha_{1}{\\left(\\theta_{1}{\\left(t \\right)},\\theta_{2}{\\left(t \\right)} \\right)} \\frac{d^{2}}{d t^{2}} \\theta_{2}{\\left(t \\right)} + \\frac{d^{2}}{d t^{2}} \\theta_{1}{\\left(t \\right)}\\\\\\alpha_{2}{\\left(\\theta_{1}{\\left(t \\right)},\\theta_{2}{\\left(t \\right)} \\right)} \\frac{d^{2}}{d t^{2}} \\theta_{1}{\\left(t \\right)} + \\frac{d^{2}}{d t^{2}} \\theta_{2}{\\left(t \\right)}\\end{matrix}\\right] = \\left[\\begin{matrix}\\operatorname{f_{1}}{\\left(\\theta_{1}{\\left(t \\right)},\\theta_{2}{\\left(t \\right)},\\frac{d}{d t} \\theta_{1}{\\left(t \\right)},\\frac{d}{d t} \\theta_{2}{\\left(t \\right)} \\right)}\\\\\\operatorname{f_{2}}{\\left(\\theta_{1}{\\left(t \\right)},\\theta_{2}{\\left(t \\right)},\\frac{d}{d t} \\theta_{1}{\\left(t \\right)},\\frac{d}{d t} \\theta_{2}{\\left(t \\right)} \\right)}\\end{matrix}\\right]$"
     },
     "execution_count": 149,
     "metadata": {},
     "output_type": "execute_result"
    }
   ],
   "source": [
    "sp.Eq(A*LHS, RHS)"
   ]
  },
  {
   "cell_type": "markdown",
   "id": "1bb6c67aec6ead82",
   "metadata": {
    "ExecuteTime": {
     "end_time": "2023-12-09T14:45:19.462432Z",
     "start_time": "2023-12-09T14:45:19.448781Z"
    }
   },
   "source": [
    "----\n",
    "&nbsp;\n",
    "### Inverting the coefficient matrix $\\textbf{A}$"
   ]
  },
  {
   "cell_type": "code",
   "execution_count": 49,
   "id": "591fc56dff286118",
   "metadata": {
    "ExecuteTime": {
     "end_time": "2023-12-09T14:45:23.800222Z",
     "start_time": "2023-12-09T14:45:23.771859Z"
    }
   },
   "outputs": [
    {
     "data": {
      "text/plain": "-9*M2*cos(theta1(t) - theta2(t))**2/(7*(7*M1 + 3*M2)) + 1",
      "text/latex": "$\\displaystyle - \\frac{9 M_{2} \\cos^{2}{\\left(\\theta_{1}{\\left(t \\right)} - \\theta_{2}{\\left(t \\right)} \\right)}}{7 \\cdot \\left(7 M_{1} + 3 M_{2}\\right)} + 1$"
     },
     "metadata": {},
     "output_type": "display_data"
    }
   ],
   "source": [
    "inverse = A.inv()\n",
    "display(inverse)"
   ]
  },
  {
   "cell_type": "markdown",
   "id": "3a110981da56ebb8",
   "metadata": {},
   "source": [
    "Is the determinant defined?"
   ]
  },
  {
   "cell_type": "code",
   "execution_count": 151,
   "id": "c2888f97225aedb0",
   "metadata": {
    "ExecuteTime": {
     "end_time": "2023-12-07T13:57:55.521269Z",
     "start_time": "2023-12-07T13:57:55.508847Z"
    }
   },
   "outputs": [
    {
     "data": {
      "text/plain": "-alpha1(theta1(t), theta2(t))*alpha2(theta1(t), theta2(t)) + 1",
      "text/latex": "$\\displaystyle - \\alpha_{1}{\\left(\\theta_{1}{\\left(t \\right)},\\theta_{2}{\\left(t \\right)} \\right)} \\alpha_{2}{\\left(\\theta_{1}{\\left(t \\right)},\\theta_{2}{\\left(t \\right)} \\right)} + 1$"
     },
     "metadata": {},
     "output_type": "display_data"
    }
   ],
   "source": [
    "determinant = A.det()\n",
    "display(determinant)"
   ]
  },
  {
   "cell_type": "code",
   "execution_count": 50,
   "id": "fee1c7579bad28d9",
   "metadata": {
    "ExecuteTime": {
     "end_time": "2023-12-09T14:45:41.997469Z",
     "start_time": "2023-12-09T14:45:41.950995Z"
    }
   },
   "outputs": [
    {
     "data": {
      "text/plain": "Eq(Matrix([\n[Derivative(theta1(t), (t, 2))],\n[Derivative(theta2(t), (t, 2))]]), Matrix([\n[-(alpha1(theta1(t), theta2(t))*f2(theta1(t), theta2(t), Derivative(theta1(t), t), Derivative(theta2(t), t)) - f1(theta1(t), theta2(t), Derivative(theta1(t), t), Derivative(theta2(t), t)))/(alpha1(theta1(t), theta2(t))*alpha2(theta1(t), theta2(t)) - 1)],\n[-(alpha2(theta1(t), theta2(t))*f1(theta1(t), theta2(t), Derivative(theta1(t), t), Derivative(theta2(t), t)) - f2(theta1(t), theta2(t), Derivative(theta1(t), t), Derivative(theta2(t), t)))/(alpha1(theta1(t), theta2(t))*alpha2(theta1(t), theta2(t)) - 1)]]))",
      "text/latex": "$\\displaystyle \\left[\\begin{matrix}\\frac{d^{2}}{d t^{2}} \\theta_{1}{\\left(t \\right)}\\\\\\frac{d^{2}}{d t^{2}} \\theta_{2}{\\left(t \\right)}\\end{matrix}\\right] = \\left[\\begin{matrix}- \\frac{\\alpha_{1}{\\left(\\theta_{1}{\\left(t \\right)},\\theta_{2}{\\left(t \\right)} \\right)} \\operatorname{f_{2}}{\\left(\\theta_{1}{\\left(t \\right)},\\theta_{2}{\\left(t \\right)},\\frac{d}{d t} \\theta_{1}{\\left(t \\right)},\\frac{d}{d t} \\theta_{2}{\\left(t \\right)} \\right)} - \\operatorname{f_{1}}{\\left(\\theta_{1}{\\left(t \\right)},\\theta_{2}{\\left(t \\right)},\\frac{d}{d t} \\theta_{1}{\\left(t \\right)},\\frac{d}{d t} \\theta_{2}{\\left(t \\right)} \\right)}}{\\alpha_{1}{\\left(\\theta_{1}{\\left(t \\right)},\\theta_{2}{\\left(t \\right)} \\right)} \\alpha_{2}{\\left(\\theta_{1}{\\left(t \\right)},\\theta_{2}{\\left(t \\right)} \\right)} - 1}\\\\- \\frac{\\alpha_{2}{\\left(\\theta_{1}{\\left(t \\right)},\\theta_{2}{\\left(t \\right)} \\right)} \\operatorname{f_{1}}{\\left(\\theta_{1}{\\left(t \\right)},\\theta_{2}{\\left(t \\right)},\\frac{d}{d t} \\theta_{1}{\\left(t \\right)},\\frac{d}{d t} \\theta_{2}{\\left(t \\right)} \\right)} - \\operatorname{f_{2}}{\\left(\\theta_{1}{\\left(t \\right)},\\theta_{2}{\\left(t \\right)},\\frac{d}{d t} \\theta_{1}{\\left(t \\right)},\\frac{d}{d t} \\theta_{2}{\\left(t \\right)} \\right)}}{\\alpha_{1}{\\left(\\theta_{1}{\\left(t \\right)},\\theta_{2}{\\left(t \\right)} \\right)} \\alpha_{2}{\\left(\\theta_{1}{\\left(t \\right)},\\theta_{2}{\\left(t \\right)} \\right)} - 1}\\end{matrix}\\right]$"
     },
     "metadata": {},
     "output_type": "display_data"
    }
   ],
   "source": [
    "# Substituting values of alpha1 and alpha2\n",
    "det_subst = determinant.subs({alpha1_func: alpha1, alpha2_func: alpha2})\n",
    "display(det_subst)"
   ]
  },
  {
   "cell_type": "markdown",
   "id": "b6beb1f40eeda561",
   "metadata": {},
   "source": [
    "Given that $m_1$ and $m_2$ are strictly positive and $\\cos^2(x)$ is bounded between 0 and 1 for all $x \\in \\mathbb{R}$, $\\textbf{A}$ is always invertible"
   ]
  },
  {
   "cell_type": "markdown",
   "id": "9c2d33ccf16d4196",
   "metadata": {},
   "source": [
    "----\n",
    "&nbsp;\n",
    "#### Define NEW matrix equations"
   ]
  },
  {
   "cell_type": "code",
   "execution_count": 51,
   "id": "6a4389f12564c18c",
   "metadata": {
    "ExecuteTime": {
     "end_time": "2023-12-09T14:45:48.122441Z",
     "start_time": "2023-12-09T14:45:48.105486Z"
    }
   },
   "outputs": [
    {
     "data": {
      "text/plain": "Eq(Matrix([\n[Derivative(theta1(t), (t, 2))],\n[Derivative(theta2(t), (t, 2))]]), Matrix([\n[-(9*M2*(2*g*sin(theta2(t)) - l1*sin(theta1(t) - theta2(t))*Derivative(theta1(t), t)**2)*cos(theta1(t) - theta2(t))/(7*l1*(7*M1 + 3*M2)) - 3*(2*M1*g*sin(theta1(t)) + 2*M2*g*sin(theta1(t)) + M2*l2*sin(theta1(t) - theta2(t))*Derivative(theta2(t), t)**2)/(l1*(7*M1 + 3*M2)))/(9*M2*cos(theta1(t) - theta2(t))**2/(7*(7*M1 + 3*M2)) - 1)],\n[              -(-3*(2*g*sin(theta2(t)) - l1*sin(theta1(t) - theta2(t))*Derivative(theta1(t), t)**2)/(7*l2) + 9*(2*M1*g*sin(theta1(t)) + 2*M2*g*sin(theta1(t)) + M2*l2*sin(theta1(t) - theta2(t))*Derivative(theta2(t), t)**2)*cos(theta1(t) - theta2(t))/(7*l2*(7*M1 + 3*M2)))/(9*M2*cos(theta1(t) - theta2(t))**2/(7*(7*M1 + 3*M2)) - 1)]]))",
      "text/latex": "$\\displaystyle \\left[\\begin{matrix}\\frac{d^{2}}{d t^{2}} \\theta_{1}{\\left(t \\right)}\\\\\\frac{d^{2}}{d t^{2}} \\theta_{2}{\\left(t \\right)}\\end{matrix}\\right] = \\left[\\begin{matrix}- \\frac{\\frac{9 M_{2} \\cdot \\left(2 g \\sin{\\left(\\theta_{2}{\\left(t \\right)} \\right)} - l_{1} \\sin{\\left(\\theta_{1}{\\left(t \\right)} - \\theta_{2}{\\left(t \\right)} \\right)} \\left(\\frac{d}{d t} \\theta_{1}{\\left(t \\right)}\\right)^{2}\\right) \\cos{\\left(\\theta_{1}{\\left(t \\right)} - \\theta_{2}{\\left(t \\right)} \\right)}}{7 l_{1} \\cdot \\left(7 M_{1} + 3 M_{2}\\right)} - \\frac{3 \\cdot \\left(2 M_{1} g \\sin{\\left(\\theta_{1}{\\left(t \\right)} \\right)} + 2 M_{2} g \\sin{\\left(\\theta_{1}{\\left(t \\right)} \\right)} + M_{2} l_{2} \\sin{\\left(\\theta_{1}{\\left(t \\right)} - \\theta_{2}{\\left(t \\right)} \\right)} \\left(\\frac{d}{d t} \\theta_{2}{\\left(t \\right)}\\right)^{2}\\right)}{l_{1} \\cdot \\left(7 M_{1} + 3 M_{2}\\right)}}{\\frac{9 M_{2} \\cos^{2}{\\left(\\theta_{1}{\\left(t \\right)} - \\theta_{2}{\\left(t \\right)} \\right)}}{7 \\cdot \\left(7 M_{1} + 3 M_{2}\\right)} - 1}\\\\- \\frac{- \\frac{3 \\cdot \\left(2 g \\sin{\\left(\\theta_{2}{\\left(t \\right)} \\right)} - l_{1} \\sin{\\left(\\theta_{1}{\\left(t \\right)} - \\theta_{2}{\\left(t \\right)} \\right)} \\left(\\frac{d}{d t} \\theta_{1}{\\left(t \\right)}\\right)^{2}\\right)}{7 l_{2}} + \\frac{9 \\cdot \\left(2 M_{1} g \\sin{\\left(\\theta_{1}{\\left(t \\right)} \\right)} + 2 M_{2} g \\sin{\\left(\\theta_{1}{\\left(t \\right)} \\right)} + M_{2} l_{2} \\sin{\\left(\\theta_{1}{\\left(t \\right)} - \\theta_{2}{\\left(t \\right)} \\right)} \\left(\\frac{d}{d t} \\theta_{2}{\\left(t \\right)}\\right)^{2}\\right) \\cos{\\left(\\theta_{1}{\\left(t \\right)} - \\theta_{2}{\\left(t \\right)} \\right)}}{7 l_{2} \\cdot \\left(7 M_{1} + 3 M_{2}\\right)}}{\\frac{9 M_{2} \\cos^{2}{\\left(\\theta_{1}{\\left(t \\right)} - \\theta_{2}{\\left(t \\right)} \\right)}}{7 \\cdot \\left(7 M_{1} + 3 M_{2}\\right)} - 1}\\end{matrix}\\right]$"
     },
     "metadata": {},
     "output_type": "display_data"
    }
   ],
   "source": [
    "NewRHS = sp.simplify(inverse*RHS)\n",
    "\n",
    "# Multiplied by minus 1!! worked, but why???\n",
    "EQS = sp.Eq(LHS, (-1)*NewRHS)\n",
    "display(EQS)"
   ]
  },
  {
   "cell_type": "markdown",
   "source": [
    "Equations are of form, \n",
    "$$\n",
    "\\begin{aligned}\n",
    "& \\frac{d}{d t}\\left(\\begin{array}{c}\n",
    "\\theta_1 \\\\\n",
    "\\theta_2 \\\\\n",
    "\\omega_1 \\\\\n",
    "\\omega_2\n",
    "\\end{array}\\right)=\\left(\\begin{array}{c}\n",
    "\\omega_1 \\\\\n",
    "\\omega_2 \\\\\n",
    "g_1\\left(\\theta_1, \\theta_2, \\omega_1, \\omega_2\\right) \\\\\n",
    "g_2\\left(\\theta_1, \\theta_2, \\omega_1, \\omega_2\\right)\n",
    "\\end{array}\\right) \\\\\n",
    "\\end{aligned}\n",
    "$$"
   ],
   "metadata": {
    "collapsed": false,
    "ExecuteTime": {
     "end_time": "2023-12-09T14:45:52.257807Z",
     "start_time": "2023-12-09T14:45:52.246754Z"
    }
   },
   "id": "6bf8424ae70729cc"
  },
  {
   "cell_type": "markdown",
   "source": [
    "$$\n",
    "g_1:=\\frac{f_1-\\alpha_1 f_2}{1-\\alpha_1 \\alpha_2} \\quad g_2:=\\frac{-\\alpha_2 f_1+f_2}{1-\\alpha_1 \\alpha_2}\n",
    "$$"
   ],
   "metadata": {
    "collapsed": false
   },
   "id": "b137cc4cdb06dd0c"
  },
  {
   "cell_type": "code",
   "execution_count": 53,
   "id": "9bface919bcd06df",
   "metadata": {
    "ExecuteTime": {
     "end_time": "2023-12-09T14:45:56.598750Z",
     "start_time": "2023-12-09T14:45:55.357638Z"
    }
   },
   "outputs": [
    {
     "name": "stdout",
     "output_type": "stream",
     "text": [
      "Type of RHS[0]:\n",
      "<class 'sympy.core.mul.Mul'>\n"
     ]
    },
    {
     "data": {
      "text/plain": "(42*M1*g*sin(theta1(t)) + 9*M2*g*sin(theta1(t) - 2*theta2(t)) + 33*M2*g*sin(theta1(t)) + 9*M2*l1*sin(2*theta1(t) - 2*theta2(t))*Derivative(theta1(t), t)**2/2 + 21*M2*l2*sin(theta1(t) - theta2(t))*Derivative(theta2(t), t)**2)/(l1*(-49*M1 + 9*M2*cos(theta1(t) - theta2(t))**2 - 21*M2))",
      "text/latex": "$\\displaystyle \\frac{42 M_{1} g \\sin{\\left(\\theta_{1}{\\left(t \\right)} \\right)} + 9 M_{2} g \\sin{\\left(\\theta_{1}{\\left(t \\right)} - 2 \\theta_{2}{\\left(t \\right)} \\right)} + 33 M_{2} g \\sin{\\left(\\theta_{1}{\\left(t \\right)} \\right)} + \\frac{9 M_{2} l_{1} \\sin{\\left(2 \\theta_{1}{\\left(t \\right)} - 2 \\theta_{2}{\\left(t \\right)} \\right)} \\left(\\frac{d}{d t} \\theta_{1}{\\left(t \\right)}\\right)^{2}}{2} + 21 M_{2} l_{2} \\sin{\\left(\\theta_{1}{\\left(t \\right)} - \\theta_{2}{\\left(t \\right)} \\right)} \\left(\\frac{d}{d t} \\theta_{2}{\\left(t \\right)}\\right)^{2}}{l_{1} \\left(- 49 M_{1} + 9 M_{2} \\cos^{2}{\\left(\\theta_{1}{\\left(t \\right)} - \\theta_{2}{\\left(t \\right)} \\right)} - 21 M_{2}\\right)}$"
     },
     "metadata": {},
     "output_type": "display_data"
    }
   ],
   "source": [
    "# Substitute values of the functions\n",
    "EQS_subst = EQS.subs({alpha1_func: alpha1, alpha2_func: alpha2, function1: function_1, function2: function_2})\n",
    "display(EQS_subst)"
   ]
  },
  {
   "cell_type": "code",
   "execution_count": 54,
   "id": "6aa9e780f8f94f23",
   "metadata": {
    "ExecuteTime": {
     "end_time": "2023-12-09T14:46:06.484437Z",
     "start_time": "2023-12-09T14:46:04.956100Z"
    }
   },
   "outputs": [
    {
     "name": "stdout",
     "output_type": "stream",
     "text": [
      "Type of RHS[1]:\n",
      "<class 'sympy.core.mul.Mul'>\n"
     ]
    },
    {
     "data": {
      "text/plain": "3*((7*M1 + 3*M2)*(2*g*sin(theta2(t)) - l1*sin(theta1(t) - theta2(t))*Derivative(theta1(t), t)**2) - 3*(2*M1*g*sin(theta1(t)) + 2*M2*g*sin(theta1(t)) + M2*l2*sin(theta1(t) - theta2(t))*Derivative(theta2(t), t)**2)*cos(theta1(t) - theta2(t)))/(l2*(-49*M1 + 9*M2*cos(theta1(t) - theta2(t))**2 - 21*M2))",
      "text/latex": "$\\displaystyle \\frac{3 \\left(\\left(7 M_{1} + 3 M_{2}\\right) \\left(2 g \\sin{\\left(\\theta_{2}{\\left(t \\right)} \\right)} - l_{1} \\sin{\\left(\\theta_{1}{\\left(t \\right)} - \\theta_{2}{\\left(t \\right)} \\right)} \\left(\\frac{d}{d t} \\theta_{1}{\\left(t \\right)}\\right)^{2}\\right) - 3 \\cdot \\left(2 M_{1} g \\sin{\\left(\\theta_{1}{\\left(t \\right)} \\right)} + 2 M_{2} g \\sin{\\left(\\theta_{1}{\\left(t \\right)} \\right)} + M_{2} l_{2} \\sin{\\left(\\theta_{1}{\\left(t \\right)} - \\theta_{2}{\\left(t \\right)} \\right)} \\left(\\frac{d}{d t} \\theta_{2}{\\left(t \\right)}\\right)^{2}\\right) \\cos{\\left(\\theta_{1}{\\left(t \\right)} - \\theta_{2}{\\left(t \\right)} \\right)}\\right)}{l_{2} \\left(- 49 M_{1} + 9 M_{2} \\cos^{2}{\\left(\\theta_{1}{\\left(t \\right)} - \\theta_{2}{\\left(t \\right)} \\right)} - 21 M_{2}\\right)}$"
     },
     "metadata": {},
     "output_type": "display_data"
    }
   ],
   "source": [
    "print(f\"Type of System:\\n{type(EQS_subst)}\\n\")\n",
    "\n",
    "RHS_subst = EQS_subst.rhs \n",
    "print(f\"Type of RHS:\\n{type(RHS_subst)}\")"
   ]
  },
  {
   "cell_type": "markdown",
   "source": [
    "The RHS of `EQS_subst` contains complex expressions. \n",
    "- Simplify. \n",
    "- Unpack using index notation"
   ],
   "metadata": {
    "collapsed": false
   },
   "id": "e979493d9a24cbad"
  },
  {
   "cell_type": "code",
   "execution_count": 55,
   "id": "59be8967ce7abadc",
   "metadata": {
    "ExecuteTime": {
     "end_time": "2023-12-09T14:46:17.471988Z",
     "start_time": "2023-12-09T14:46:17.461067Z"
    }
   },
   "outputs": [],
   "source": [
    "# Value of second derivative of theta1 w.r.t time\n",
    "print(f\"Type of RHS[0]:\\n{type(RHS_subst[0])}\")\n",
    "theta1ddot_eqn = RHS_subst[0]\n",
    "\n",
    "# Simplify the complex expression\n",
    "RHS_1 = sp.simplify(theta1ddot_eqn)\n",
    "display(RHS_1)"
   ]
  },
  {
   "cell_type": "code",
   "execution_count": 56,
   "id": "3a8727babfe571a8",
   "metadata": {
    "ExecuteTime": {
     "end_time": "2023-12-09T14:46:21.297690Z",
     "start_time": "2023-12-09T14:46:21.293310Z"
    }
   },
   "outputs": [],
   "source": [
    "# Value of second derivative of theta2 w.r.t time\n",
    "print(f\"Type of RHS[1]:\\n{type(RHS_subst[1])}\")\n",
    "theta2ddot_eqn = RHS_subst[1]\n",
    "\n",
    "# Simplify the complex expression\n",
    "RHS_2 = sp.simplify(theta2ddot_eqn)\n",
    "display(RHS_2)"
   ]
  },
  {
   "cell_type": "markdown",
   "id": "c1ac15d58954cc73",
   "metadata": {
    "ExecuteTime": {
     "end_time": "2023-12-09T14:46:24.411390Z",
     "start_time": "2023-12-09T14:46:24.395612Z"
    }
   },
   "source": [
    "----\n",
    "&nbsp;\n",
    "## Rewrite as first order system\n",
    "\n",
    "Declare new variables $\\omega_1$ and $\\omega_2$"
   ]
  },
  {
   "cell_type": "code",
   "execution_count": 158,
   "outputs": [],
   "source": [
    "omega1 = sp.Function('omega1')(t)\n",
    "omega2 = sp.Function('omega2')(t)"
   ],
   "metadata": {
    "collapsed": false,
    "ExecuteTime": {
     "end_time": "2023-12-07T13:59:46.956019Z",
     "start_time": "2023-12-07T13:59:46.939505Z"
    }
   },
   "id": "878b504dc5bc55cf"
  },
  {
   "cell_type": "code",
   "execution_count": 58,
   "id": "f4fe754e52474667",
   "metadata": {
    "ExecuteTime": {
     "end_time": "2023-12-09T14:46:26.789337Z",
     "start_time": "2023-12-09T14:46:26.780145Z"
    }
   },
   "outputs": [
    {
     "data": {
      "text/plain": "Eq(Matrix([\n[               omega1(t)],\n[               omega2(t)],\n[Derivative(omega1(t), t)],\n[Derivative(omega2(t), t)]]), Matrix([\n[                                                                                                                                                                                                                                                                                   Derivative(theta1(t), t)],\n[                                                                                                                                                                                                                                                                                   Derivative(theta2(t), t)],\n[                (42*M1*g*sin(theta1(t)) + 9*M2*g*sin(theta1(t) - 2*theta2(t)) + 33*M2*g*sin(theta1(t)) + 9*M2*l1*sin(2*theta1(t) - 2*theta2(t))*Derivative(theta1(t), t)**2/2 + 21*M2*l2*sin(theta1(t) - theta2(t))*Derivative(theta2(t), t)**2)/(l1*(-49*M1 + 9*M2*cos(theta1(t) - theta2(t))**2 - 21*M2))],\n[3*((7*M1 + 3*M2)*(2*g*sin(theta2(t)) - l1*sin(theta1(t) - theta2(t))*Derivative(theta1(t), t)**2) - 3*(2*M1*g*sin(theta1(t)) + 2*M2*g*sin(theta1(t)) + M2*l2*sin(theta1(t) - theta2(t))*Derivative(theta2(t), t)**2)*cos(theta1(t) - theta2(t)))/(l2*(-49*M1 + 9*M2*cos(theta1(t) - theta2(t))**2 - 21*M2))]]))",
      "text/latex": "$\\displaystyle \\left[\\begin{matrix}\\omega_{1}{\\left(t \\right)}\\\\\\omega_{2}{\\left(t \\right)}\\\\\\frac{d}{d t} \\omega_{1}{\\left(t \\right)}\\\\\\frac{d}{d t} \\omega_{2}{\\left(t \\right)}\\end{matrix}\\right] = \\left[\\begin{matrix}\\frac{d}{d t} \\theta_{1}{\\left(t \\right)}\\\\\\frac{d}{d t} \\theta_{2}{\\left(t \\right)}\\\\\\frac{42 M_{1} g \\sin{\\left(\\theta_{1}{\\left(t \\right)} \\right)} + 9 M_{2} g \\sin{\\left(\\theta_{1}{\\left(t \\right)} - 2 \\theta_{2}{\\left(t \\right)} \\right)} + 33 M_{2} g \\sin{\\left(\\theta_{1}{\\left(t \\right)} \\right)} + \\frac{9 M_{2} l_{1} \\sin{\\left(2 \\theta_{1}{\\left(t \\right)} - 2 \\theta_{2}{\\left(t \\right)} \\right)} \\left(\\frac{d}{d t} \\theta_{1}{\\left(t \\right)}\\right)^{2}}{2} + 21 M_{2} l_{2} \\sin{\\left(\\theta_{1}{\\left(t \\right)} - \\theta_{2}{\\left(t \\right)} \\right)} \\left(\\frac{d}{d t} \\theta_{2}{\\left(t \\right)}\\right)^{2}}{l_{1} \\left(- 49 M_{1} + 9 M_{2} \\cos^{2}{\\left(\\theta_{1}{\\left(t \\right)} - \\theta_{2}{\\left(t \\right)} \\right)} - 21 M_{2}\\right)}\\\\\\frac{3 \\left(\\left(7 M_{1} + 3 M_{2}\\right) \\left(2 g \\sin{\\left(\\theta_{2}{\\left(t \\right)} \\right)} - l_{1} \\sin{\\left(\\theta_{1}{\\left(t \\right)} - \\theta_{2}{\\left(t \\right)} \\right)} \\left(\\frac{d}{d t} \\theta_{1}{\\left(t \\right)}\\right)^{2}\\right) - 3 \\cdot \\left(2 M_{1} g \\sin{\\left(\\theta_{1}{\\left(t \\right)} \\right)} + 2 M_{2} g \\sin{\\left(\\theta_{1}{\\left(t \\right)} \\right)} + M_{2} l_{2} \\sin{\\left(\\theta_{1}{\\left(t \\right)} - \\theta_{2}{\\left(t \\right)} \\right)} \\left(\\frac{d}{d t} \\theta_{2}{\\left(t \\right)}\\right)^{2}\\right) \\cos{\\left(\\theta_{1}{\\left(t \\right)} - \\theta_{2}{\\left(t \\right)} \\right)}\\right)}{l_{2} \\left(- 49 M_{1} + 9 M_{2} \\cos^{2}{\\left(\\theta_{1}{\\left(t \\right)} - \\theta_{2}{\\left(t \\right)} \\right)} - 21 M_{2}\\right)}\\end{matrix}\\right]$"
     },
     "metadata": {},
     "output_type": "display_data"
    }
   ],
   "source": [
    "# Cast as first order system\n",
    "eq1 = sp.Eq(omega1, sp.diff(theta1, t))\n",
    "eq2 = sp.Eq(omega2, sp.diff(theta2, t))\n",
    "eq3 = sp.Eq(sp.diff(omega1, t), RHS_1)\n",
    "eq4 = sp.Eq(sp.diff(omega2, t), RHS_2)"
   ]
  },
  {
   "cell_type": "code",
   "execution_count": 160,
   "outputs": [],
   "source": [
    "# Substitute omega for derivative of theta\n",
    "derivative_subs = {sp.Derivative(theta1, t): omega1, sp.Derivative(theta2, t): omega2}\n",
    "\n",
    "# Isolate rhs of equations\n",
    "eqn1 = eq1.rhs.subs(derivative_subs)\n",
    "eqn2 = eq2.rhs.subs(derivative_subs)\n",
    "eqn3 = eq3.rhs.subs(derivative_subs)\n",
    "eqn4 = eq4.rhs.subs(derivative_subs)"
   ],
   "metadata": {
    "collapsed": false,
    "ExecuteTime": {
     "end_time": "2023-12-07T13:59:51.179504Z",
     "start_time": "2023-12-07T13:59:51.140895Z"
    }
   },
   "id": "9e7c3612b58ad25d"
  },
  {
   "cell_type": "markdown",
   "id": "74d276a8d5686ccb",
   "metadata": {},
   "source": [
    "Define system as matrix equations"
   ]
  },
  {
   "cell_type": "code",
   "execution_count": 161,
   "id": "733aecea8d9f92e5",
   "metadata": {
    "ExecuteTime": {
     "end_time": "2023-12-07T13:59:53.961596Z",
     "start_time": "2023-12-07T13:59:53.953176Z"
    }
   },
   "outputs": [
    {
     "data": {
      "text/plain": "Eq(Matrix([\n[               omega1(t)],\n[               omega2(t)],\n[Derivative(omega1(t), t)],\n[Derivative(omega2(t), t)]]), Matrix([\n[                                                                                                                                                                                                                                                                                                                                                                         Derivative(theta1(t), t)],\n[                                                                                                                                                                                                                                                                                                                                                                         Derivative(theta2(t), t)],\n[         3*(3*m2*(M2*g*sin(theta2(t)) - 2*g*m2*sin(theta2(t)) + 2*l1*m2*sin(theta1(t) - theta2(t))*Derivative(theta1(t), t)**2)*cos(theta1(t) - theta2(t)) + (M2 + 3*m2)*(-M1*g*sin(theta1(t)) + 2*g*m1*sin(theta1(t)) + 2*g*m2*sin(theta1(t)) + 2*l2*m2*sin(theta1(t) - theta2(t))*Derivative(theta2(t), t)**2))/(2*l1*(9*m2**2*cos(theta1(t) - theta2(t))**2 - (M2 + 3*m2)*(M1 + 3*m1 + 3*m2)))],\n[3*(-3*m2*(-M1*g*sin(theta1(t)) + 2*g*m1*sin(theta1(t)) + 2*g*m2*sin(theta1(t)) + 2*l2*m2*sin(theta1(t) - theta2(t))*Derivative(theta2(t), t)**2)*cos(theta1(t) - theta2(t)) + (-M1 - 3*m1 - 3*m2)*(M2*g*sin(theta2(t)) - 2*g*m2*sin(theta2(t)) + 2*l1*m2*sin(theta1(t) - theta2(t))*Derivative(theta1(t), t)**2))/(2*l2*(9*m2**2*cos(theta1(t) - theta2(t))**2 - (M2 + 3*m2)*(M1 + 3*m1 + 3*m2)))]]))",
      "text/latex": "$\\displaystyle \\left[\\begin{matrix}\\omega_{1}{\\left(t \\right)}\\\\\\omega_{2}{\\left(t \\right)}\\\\\\frac{d}{d t} \\omega_{1}{\\left(t \\right)}\\\\\\frac{d}{d t} \\omega_{2}{\\left(t \\right)}\\end{matrix}\\right] = \\left[\\begin{matrix}\\frac{d}{d t} \\theta_{1}{\\left(t \\right)}\\\\\\frac{d}{d t} \\theta_{2}{\\left(t \\right)}\\\\\\frac{3 \\cdot \\left(3 m_{2} \\left(M_{2} g \\sin{\\left(\\theta_{2}{\\left(t \\right)} \\right)} - 2 g m_{2} \\sin{\\left(\\theta_{2}{\\left(t \\right)} \\right)} + 2 l_{1} m_{2} \\sin{\\left(\\theta_{1}{\\left(t \\right)} - \\theta_{2}{\\left(t \\right)} \\right)} \\left(\\frac{d}{d t} \\theta_{1}{\\left(t \\right)}\\right)^{2}\\right) \\cos{\\left(\\theta_{1}{\\left(t \\right)} - \\theta_{2}{\\left(t \\right)} \\right)} + \\left(M_{2} + 3 m_{2}\\right) \\left(- M_{1} g \\sin{\\left(\\theta_{1}{\\left(t \\right)} \\right)} + 2 g m_{1} \\sin{\\left(\\theta_{1}{\\left(t \\right)} \\right)} + 2 g m_{2} \\sin{\\left(\\theta_{1}{\\left(t \\right)} \\right)} + 2 l_{2} m_{2} \\sin{\\left(\\theta_{1}{\\left(t \\right)} - \\theta_{2}{\\left(t \\right)} \\right)} \\left(\\frac{d}{d t} \\theta_{2}{\\left(t \\right)}\\right)^{2}\\right)\\right)}{2 l_{1} \\cdot \\left(9 m_{2}^{2} \\cos^{2}{\\left(\\theta_{1}{\\left(t \\right)} - \\theta_{2}{\\left(t \\right)} \\right)} - \\left(M_{2} + 3 m_{2}\\right) \\left(M_{1} + 3 m_{1} + 3 m_{2}\\right)\\right)}\\\\\\frac{3 \\left(- 3 m_{2} \\left(- M_{1} g \\sin{\\left(\\theta_{1}{\\left(t \\right)} \\right)} + 2 g m_{1} \\sin{\\left(\\theta_{1}{\\left(t \\right)} \\right)} + 2 g m_{2} \\sin{\\left(\\theta_{1}{\\left(t \\right)} \\right)} + 2 l_{2} m_{2} \\sin{\\left(\\theta_{1}{\\left(t \\right)} - \\theta_{2}{\\left(t \\right)} \\right)} \\left(\\frac{d}{d t} \\theta_{2}{\\left(t \\right)}\\right)^{2}\\right) \\cos{\\left(\\theta_{1}{\\left(t \\right)} - \\theta_{2}{\\left(t \\right)} \\right)} + \\left(- M_{1} - 3 m_{1} - 3 m_{2}\\right) \\left(M_{2} g \\sin{\\left(\\theta_{2}{\\left(t \\right)} \\right)} - 2 g m_{2} \\sin{\\left(\\theta_{2}{\\left(t \\right)} \\right)} + 2 l_{1} m_{2} \\sin{\\left(\\theta_{1}{\\left(t \\right)} - \\theta_{2}{\\left(t \\right)} \\right)} \\left(\\frac{d}{d t} \\theta_{1}{\\left(t \\right)}\\right)^{2}\\right)\\right)}{2 l_{2} \\cdot \\left(9 m_{2}^{2} \\cos^{2}{\\left(\\theta_{1}{\\left(t \\right)} - \\theta_{2}{\\left(t \\right)} \\right)} - \\left(M_{2} + 3 m_{2}\\right) \\left(M_{1} + 3 m_{1} + 3 m_{2}\\right)\\right)}\\end{matrix}\\right]$"
     },
     "metadata": {},
     "output_type": "display_data"
    }
   ],
   "source": [
    "LHS_FIRST = sp.Matrix([[eq1.lhs], [eq2.lhs], [eq3.lhs], [eq4.lhs]])\n",
    "RHS_FIRST = sp.Matrix([[eq1.rhs], [eq2.rhs], [eq3.rhs], [eq4.rhs]])\n",
    "\n",
    "MAT_EQ = sp.Eq(LHS_FIRST, RHS_FIRST)\n",
    "display(MAT_EQ)"
   ]
  },
  {
   "cell_type": "markdown",
   "id": "7a4c42935ce25cc4",
   "metadata": {},
   "source": [
    "----\n",
    "&nbsp;\n",
    "### Numerical Integration in [DoublePendulum Class](https://github.com/pineapple-bois/Double_Pendulum/blob/master/Compound_Double_Pendulum/DoublePendulum_Moments.py)"
   ]
  }
 ],
 "metadata": {
  "kernelspec": {
   "display_name": "Python 3 (ipykernel)",
   "language": "python",
   "name": "python3"
  },
  "language_info": {
   "codemirror_mode": {
    "name": "ipython",
    "version": 3
   },
   "file_extension": ".py",
   "mimetype": "text/x-python",
   "name": "python",
   "nbconvert_exporter": "python",
   "pygments_lexer": "ipython3",
   "version": "3.9.12"
  },
  "toc": {
   "base_numbering": 1,
   "nav_menu": {},
   "number_sections": true,
   "sideBar": true,
   "skip_h1_title": false,
   "title_cell": "Table of Contents",
   "title_sidebar": "Contents",
   "toc_cell": false,
   "toc_position": {},
   "toc_section_display": true,
   "toc_window_display": false
  }
 },
 "nbformat": 4,
 "nbformat_minor": 5
}
