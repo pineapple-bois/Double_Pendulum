{
 "cells": [
  {
   "cell_type": "markdown",
   "id": "cfe0c1e811986855",
   "metadata": {},
   "source": [
    "# Double Pendulum Equations of Motion  \n",
    "## Lagrangian Formulation"
   ]
  },
  {
   "cell_type": "markdown",
   "id": "1148ed921a221a24",
   "metadata": {},
   "source": [
    "![](Image_files/Double_Pendulum.png)"
   ]
  },
  {
   "cell_type": "markdown",
   "id": "8111a08ca5624fc3",
   "metadata": {},
   "source": [
    "#### Double Pendulum System: \n",
    "An assembly of two simple pendulums, each represented by a mass-carrying rod, connected in series via a frictionless hinge and allowed to move in the $(x,y)$-plane.\n",
    "\n",
    "- **Massive Rods**: The rods $OP_1$ and $P_1P_2$ possess non-zero masses $M_1$ and $M_2$.\n",
    "- **Moment of Inertia**: Defined for each rod as $I = (1/3)ML^2$, signifying resistance to rotational acceleration about the pivot points.\n",
    "\n",
    "The system's state is uniquely determined by two rotational angles $\\theta_1$ and $\\theta_2$, offering two degrees of freedom.\n",
    "\n",
    "\n"
   ]
  },
  {
   "cell_type": "code",
   "execution_count": 111,
   "id": "initial_id",
   "metadata": {
    "collapsed": true,
    "ExecuteTime": {
     "end_time": "2023-12-07T13:55:35.288743Z",
     "start_time": "2023-12-07T13:55:35.135861Z"
    }
   },
   "outputs": [],
   "source": [
    "import sympy as sp"
   ]
  },
  {
   "cell_type": "code",
   "execution_count": 112,
   "id": "ec116cf8491fab47",
   "metadata": {
    "ExecuteTime": {
     "end_time": "2023-12-07T13:55:35.311439Z",
     "start_time": "2023-12-07T13:55:35.140860Z"
    }
   },
   "outputs": [],
   "source": [
    "# Declare variables & constants\n",
    "\n",
    "# Time variable\n",
    "t = sp.Symbol(\"t\") \n",
    "\n",
    "# Gravitational constant\n",
    "g = sp.Symbol(\"g\", positive=True, real=True)\n",
    "\n",
    "# Constants\n",
    "l1, l2, m1, m2, M1, M2 = sp.symbols(\"l1, l2, m1, m2, M1, M2\", positive=True, real=True)\n",
    "\n",
    "# declare symbolic variables\n",
    "theta1 = sp.Function('theta1')(t)\n",
    "theta2 = sp.Function('theta2')(t)\n",
    "theta1_dot = sp.Function('theta1_dot')(t)\n",
    "theta2_dot = sp.Function('theta2_dot')(t)"
   ]
  },
  {
   "cell_type": "code",
   "execution_count": 113,
   "id": "1cc8e8657c488940",
   "metadata": {
    "ExecuteTime": {
     "end_time": "2023-12-07T13:55:35.315586Z",
     "start_time": "2023-12-07T13:55:35.146873Z"
    }
   },
   "outputs": [],
   "source": [
    "# coordinates of P1\n",
    "x1 = l1*sp.sin(theta1)\n",
    "y1 = -l1*sp.cos(theta1)\n",
    "\n",
    "# coordinates of P2\n",
    "x2 = x1 + l2*sp.sin(theta2)\n",
    "y2 = y1 - l2*sp.cos(theta2)"
   ]
  },
  {
   "cell_type": "code",
   "execution_count": 114,
   "id": "c70c8559a19e9f5d",
   "metadata": {
    "ExecuteTime": {
     "end_time": "2023-12-07T13:55:35.385601Z",
     "start_time": "2023-12-07T13:55:35.152414Z"
    }
   },
   "outputs": [],
   "source": [
    "# derivatives w.r.t time\n",
    "xdot1 = sp.diff(x1, t)\n",
    "ydot1 = sp.diff(y1, t)\n",
    "\n",
    "xdot2 = sp.diff(x2, t)\n",
    "ydot2 = sp.diff(y2, t)"
   ]
  },
  {
   "cell_type": "code",
   "execution_count": 115,
   "outputs": [],
   "source": [
    "# Angular velocities\n",
    "omega1 = sp.diff(theta1, t)\n",
    "omega2 = sp.diff(theta2, t)"
   ],
   "metadata": {
    "collapsed": false,
    "ExecuteTime": {
     "end_time": "2023-12-07T13:55:35.390605Z",
     "start_time": "2023-12-07T13:55:35.157547Z"
    }
   },
   "id": "c270b762820eab30"
  },
  {
   "cell_type": "markdown",
   "id": "5d90fd818fc97833",
   "metadata": {},
   "source": [
    "----\n",
    "&nbsp;\n",
    "#### Define Kinetic energy function, $T$ and potential energy function, $V$"
   ]
  },
  {
   "cell_type": "code",
   "execution_count": 116,
   "id": "29cabcdf55923881",
   "metadata": {
    "ExecuteTime": {
     "end_time": "2023-12-07T13:55:35.408814Z",
     "start_time": "2023-12-07T13:55:35.161216Z"
    }
   },
   "outputs": [],
   "source": [
    "def kinetic_energy(m, dx, dy, dz):\n",
    "    T = sp.Rational(1,2)*m*(dx**2 + dy**2 + dz**2)\n",
    "    return T"
   ]
  },
  {
   "cell_type": "code",
   "execution_count": 117,
   "id": "b524894ba0a0a43f",
   "metadata": {
    "ExecuteTime": {
     "end_time": "2023-12-07T13:55:35.420297Z",
     "start_time": "2023-12-07T13:55:35.164212Z"
    }
   },
   "outputs": [],
   "source": [
    "def potential_energy(m, g, h):\n",
    "    V = m*g*h\n",
    "    return V"
   ]
  },
  {
   "cell_type": "markdown",
   "source": [
    "----\n",
    "&nbsp;\n",
    "#### Define rotational kinetic energy function $T_{\\text{rot}}$ and rotational potential energy function $V_{\\text{rot}}$"
   ],
   "metadata": {
    "collapsed": false
   },
   "id": "f59772838ea79d1a"
  },
  {
   "cell_type": "code",
   "execution_count": 118,
   "outputs": [],
   "source": [
    "# Moment of Inertia for a uniform cylindrical rod\n",
    "def moment_of_inertia(M, L):\n",
    "    I = sp.Rational(1, 3) * M * L**2 \n",
    "    return I"
   ],
   "metadata": {
    "collapsed": false,
    "ExecuteTime": {
     "end_time": "2023-12-07T13:55:35.421829Z",
     "start_time": "2023-12-07T13:55:35.167749Z"
    }
   },
   "id": "c46e060900bcc161"
  },
  {
   "cell_type": "code",
   "execution_count": 119,
   "outputs": [],
   "source": [
    "def rotational_kinetic_energy(M, L, omega):\n",
    "    I = moment_of_inertia(M, L) \n",
    "    T_rot = sp.Rational(1, 2) * I * omega**2\n",
    "    return T_rot"
   ],
   "metadata": {
    "collapsed": false,
    "ExecuteTime": {
     "end_time": "2023-12-07T13:55:35.438829Z",
     "start_time": "2023-12-07T13:55:35.171393Z"
    }
   },
   "id": "f29e41955f863fc9"
  },
  {
   "cell_type": "code",
   "execution_count": 120,
   "outputs": [],
   "source": [
    "def rotational_potential_energy(M, L, theta):\n",
    "    # Considered at the centre of mass of the rod\n",
    "    y = L/2 * sp.cos(theta)\n",
    "    V = M * g * y\n",
    "    return V"
   ],
   "metadata": {
    "collapsed": false,
    "ExecuteTime": {
     "end_time": "2023-12-07T13:55:35.457119Z",
     "start_time": "2023-12-07T13:55:35.174274Z"
    }
   },
   "id": "ef7a2e98280daf5c"
  },
  {
   "cell_type": "markdown",
   "source": [
    "----\n",
    "&nbsp;\n",
    "#### Evaluate"
   ],
   "metadata": {
    "collapsed": false
   },
   "id": "fe5d809cc0534789"
  },
  {
   "cell_type": "markdown",
   "id": "1212dd81eab12112",
   "metadata": {},
   "source": [
    "For mass $P_1$"
   ]
  },
  {
   "cell_type": "code",
   "execution_count": 121,
   "id": "d698177a4d3e08e4",
   "metadata": {
    "ExecuteTime": {
     "end_time": "2023-12-07T13:55:35.461345Z",
     "start_time": "2023-12-07T13:55:35.177970Z"
    }
   },
   "outputs": [],
   "source": [
    "T1 = kinetic_energy(m1, xdot1, ydot1, 0)\n",
    "V1 = potential_energy(m1, g, y1)"
   ]
  },
  {
   "cell_type": "markdown",
   "id": "a82857aff7167224",
   "metadata": {},
   "source": [
    "For mass $P_2$"
   ]
  },
  {
   "cell_type": "code",
   "execution_count": 122,
   "id": "bd43b5b8f9a2d567",
   "metadata": {
    "ExecuteTime": {
     "end_time": "2023-12-07T13:55:35.485986Z",
     "start_time": "2023-12-07T13:55:35.183208Z"
    }
   },
   "outputs": [],
   "source": [
    "T2 = kinetic_energy(m2, xdot2, ydot2, 0)\n",
    "V2 = potential_energy(m2, g, y2)"
   ]
  },
  {
   "cell_type": "markdown",
   "source": [
    "For rod $OP_1$"
   ],
   "metadata": {
    "collapsed": false
   },
   "id": "730cac9170eff255"
  },
  {
   "cell_type": "code",
   "execution_count": 123,
   "outputs": [],
   "source": [
    "T1_rot = rotational_kinetic_energy(M1, l1, omega1)\n",
    "V1_trans = rotational_potential_energy(M1, l1, theta1)"
   ],
   "metadata": {
    "collapsed": false,
    "ExecuteTime": {
     "end_time": "2023-12-07T13:55:35.486228Z",
     "start_time": "2023-12-07T13:55:35.186342Z"
    }
   },
   "id": "6d9a31569d2e6585"
  },
  {
   "cell_type": "markdown",
   "source": [
    "For rod $P_1P_2$"
   ],
   "metadata": {
    "collapsed": false
   },
   "id": "90921c373469db86"
  },
  {
   "cell_type": "code",
   "execution_count": 124,
   "outputs": [],
   "source": [
    "T2_rot = rotational_kinetic_energy(M2, l2, omega2)\n",
    "V2_trans = rotational_potential_energy(M2, l2, theta2)"
   ],
   "metadata": {
    "collapsed": false,
    "ExecuteTime": {
     "end_time": "2023-12-07T13:55:35.486291Z",
     "start_time": "2023-12-07T13:55:35.189180Z"
    }
   },
   "id": "9c8d6876325f7e6"
  },
  {
   "cell_type": "markdown",
   "id": "eea5bd7ebf5ab5bc",
   "metadata": {},
   "source": [
    "----\n",
    "&nbsp;\n",
    "#### Form Lagrangian $L=T-V$"
   ]
  },
  {
   "cell_type": "code",
   "execution_count": 125,
   "id": "ae3ed0702fc0eca5",
   "metadata": {
    "ExecuteTime": {
     "end_time": "2023-12-07T13:55:36.002563Z",
     "start_time": "2023-12-07T13:55:35.219136Z"
    }
   },
   "outputs": [
    {
     "data": {
      "text/plain": "M1*l1**2*Derivative(theta1(t), t)**2/6 + M2*l2**2*Derivative(theta2(t), t)**2/6 + l1**2*m1*Derivative(theta1(t), t)**2/2 + m2*(l1**2*Derivative(theta1(t), t)**2 + 2*l1*l2*cos(theta1(t) - theta2(t))*Derivative(theta1(t), t)*Derivative(theta2(t), t) + l2**2*Derivative(theta2(t), t)**2)/2",
      "text/latex": "$\\displaystyle \\frac{M_{1} l_{1}^{2} \\left(\\frac{d}{d t} \\theta_{1}{\\left(t \\right)}\\right)^{2}}{6} + \\frac{M_{2} l_{2}^{2} \\left(\\frac{d}{d t} \\theta_{2}{\\left(t \\right)}\\right)^{2}}{6} + \\frac{l_{1}^{2} m_{1} \\left(\\frac{d}{d t} \\theta_{1}{\\left(t \\right)}\\right)^{2}}{2} + \\frac{m_{2} \\left(l_{1}^{2} \\left(\\frac{d}{d t} \\theta_{1}{\\left(t \\right)}\\right)^{2} + 2 l_{1} l_{2} \\cos{\\left(\\theta_{1}{\\left(t \\right)} - \\theta_{2}{\\left(t \\right)} \\right)} \\frac{d}{d t} \\theta_{1}{\\left(t \\right)} \\frac{d}{d t} \\theta_{2}{\\left(t \\right)} + l_{2}^{2} \\left(\\frac{d}{d t} \\theta_{2}{\\left(t \\right)}\\right)^{2}\\right)}{2}$"
     },
     "metadata": {},
     "output_type": "display_data"
    }
   ],
   "source": [
    "# Total kinetic energy of the system\n",
    "T_total = T1 + T1_rot + T2 + T2_rot\n",
    "T_simplified = sp.trigsimp(T_total)\n",
    "T = T_simplified\n",
    "display(T)"
   ]
  },
  {
   "cell_type": "code",
   "execution_count": 126,
   "id": "6a351e615912dab8",
   "metadata": {
    "ExecuteTime": {
     "end_time": "2023-12-07T13:55:36.320581Z",
     "start_time": "2023-12-07T13:55:36.027780Z"
    }
   },
   "outputs": [
    {
     "data": {
      "text/plain": "g*(M1*l1*cos(theta1(t)) + M2*l2*cos(theta2(t)) - 2*l1*m1*cos(theta1(t)) - 2*m2*(l1*cos(theta1(t)) + l2*cos(theta2(t))))/2",
      "text/latex": "$\\displaystyle \\frac{g \\left(M_{1} l_{1} \\cos{\\left(\\theta_{1}{\\left(t \\right)} \\right)} + M_{2} l_{2} \\cos{\\left(\\theta_{2}{\\left(t \\right)} \\right)} - 2 l_{1} m_{1} \\cos{\\left(\\theta_{1}{\\left(t \\right)} \\right)} - 2 m_{2} \\left(l_{1} \\cos{\\left(\\theta_{1}{\\left(t \\right)} \\right)} + l_{2} \\cos{\\left(\\theta_{2}{\\left(t \\right)} \\right)}\\right)\\right)}{2}$"
     },
     "metadata": {},
     "output_type": "display_data"
    }
   ],
   "source": [
    "# Total potential energy of the system\n",
    "V_total = V1 + V1_trans + V2 + V2_trans\n",
    "V_simplified = sp.simplify(V_total)\n",
    "V = V_simplified\n",
    "display(V)"
   ]
  },
  {
   "cell_type": "code",
   "execution_count": 127,
   "id": "d7ee39c49688e33b",
   "metadata": {
    "ExecuteTime": {
     "end_time": "2023-12-07T13:55:36.332809Z",
     "start_time": "2023-12-07T13:55:36.329338Z"
    }
   },
   "outputs": [
    {
     "data": {
      "text/plain": "M1*l1**2*Derivative(theta1(t), t)**2/6 + M2*l2**2*Derivative(theta2(t), t)**2/6 - g*(M1*l1*cos(theta1(t)) + M2*l2*cos(theta2(t)) - 2*l1*m1*cos(theta1(t)) - 2*m2*(l1*cos(theta1(t)) + l2*cos(theta2(t))))/2 + l1**2*m1*Derivative(theta1(t), t)**2/2 + m2*(l1**2*Derivative(theta1(t), t)**2 + 2*l1*l2*cos(theta1(t) - theta2(t))*Derivative(theta1(t), t)*Derivative(theta2(t), t) + l2**2*Derivative(theta2(t), t)**2)/2",
      "text/latex": "$\\displaystyle \\frac{M_{1} l_{1}^{2} \\left(\\frac{d}{d t} \\theta_{1}{\\left(t \\right)}\\right)^{2}}{6} + \\frac{M_{2} l_{2}^{2} \\left(\\frac{d}{d t} \\theta_{2}{\\left(t \\right)}\\right)^{2}}{6} - \\frac{g \\left(M_{1} l_{1} \\cos{\\left(\\theta_{1}{\\left(t \\right)} \\right)} + M_{2} l_{2} \\cos{\\left(\\theta_{2}{\\left(t \\right)} \\right)} - 2 l_{1} m_{1} \\cos{\\left(\\theta_{1}{\\left(t \\right)} \\right)} - 2 m_{2} \\left(l_{1} \\cos{\\left(\\theta_{1}{\\left(t \\right)} \\right)} + l_{2} \\cos{\\left(\\theta_{2}{\\left(t \\right)} \\right)}\\right)\\right)}{2} + \\frac{l_{1}^{2} m_{1} \\left(\\frac{d}{d t} \\theta_{1}{\\left(t \\right)}\\right)^{2}}{2} + \\frac{m_{2} \\left(l_{1}^{2} \\left(\\frac{d}{d t} \\theta_{1}{\\left(t \\right)}\\right)^{2} + 2 l_{1} l_{2} \\cos{\\left(\\theta_{1}{\\left(t \\right)} - \\theta_{2}{\\left(t \\right)} \\right)} \\frac{d}{d t} \\theta_{1}{\\left(t \\right)} \\frac{d}{d t} \\theta_{2}{\\left(t \\right)} + l_{2}^{2} \\left(\\frac{d}{d t} \\theta_{2}{\\left(t \\right)}\\right)^{2}\\right)}{2}$"
     },
     "metadata": {},
     "output_type": "display_data"
    }
   ],
   "source": [
    "# Lagrangian\n",
    "L = T - V\n",
    "display(L)"
   ]
  },
  {
   "cell_type": "markdown",
   "id": "462e5a3966d7acf0",
   "metadata": {},
   "source": [
    "----\n",
    "&nbsp;\n",
    "## Euler-Lagrange Equations: \n",
    "For each generalised coordinate $\\theta_i$\n",
    "\n",
    "$$\\frac{\\text{d}}{\\text{d}t}\\left(\\frac{\\partial L}{\\partial \\dot{\\theta}_i}\\right)-\\frac{\\partial L}{\\partial \\theta_i}=0$$"
   ]
  },
  {
   "cell_type": "code",
   "execution_count": 128,
   "id": "6d7dcd3104692a71",
   "metadata": {
    "ExecuteTime": {
     "end_time": "2023-12-07T13:55:36.341817Z",
     "start_time": "2023-12-07T13:55:36.334401Z"
    }
   },
   "outputs": [],
   "source": [
    "def euler_lagrange_equation(L, q):\n",
    "    \"\"\"\n",
    "    Computes the Euler-Lagrange equation for a given Lagrangian and variable.\n",
    "\n",
    "    Parameters\n",
    "    ----------\n",
    "    L : sympy.Expr\n",
    "        The Lagrangian of the system, a function that depends on generalized coordinates,\n",
    "        their derivatives, and time.\n",
    "    q : sympy.Function\n",
    "        A function representing a generalized coordinate of the system.\n",
    "        \n",
    "    Returns\n",
    "    -------\n",
    "    sympy.Expr\n",
    "        The Euler-Lagrange equation, a second order differential equation\n",
    "        describing the dynamics of the system.\n",
    "\n",
    "    \"\"\"\n",
    "    qdot = sp.diff(q, t)  # the derivative of the coordinate with respect to time\n",
    "    partial_q = sp.trigsimp(sp.diff(L, q))  # partial derivative of L with respect to q\n",
    "    partial_qdot = sp.trigsimp(sp.diff(L, qdot))  # partial derivative of L with respect to qdot\n",
    "       \n",
    "    eqn = sp.diff(partial_qdot, t) - partial_q # Euler-Lagrange equation\n",
    "    simplified_eqn = sp.simplify(eqn)\n",
    "    return simplified_eqn"
   ]
  },
  {
   "cell_type": "code",
   "execution_count": 129,
   "id": "8a8f5ef1ab7b0a2a",
   "metadata": {
    "ExecuteTime": {
     "end_time": "2023-12-07T13:55:38.134696Z",
     "start_time": "2023-12-07T13:55:36.356100Z"
    }
   },
   "outputs": [
    {
     "data": {
      "text/plain": "l1*(-3*M1*g*sin(theta1(t)) + 2*M1*l1*Derivative(theta1(t), (t, 2)) + 6*g*m1*sin(theta1(t)) + 6*g*m2*sin(theta1(t)) + 6*l1*m1*Derivative(theta1(t), (t, 2)) + 6*l1*m2*Derivative(theta1(t), (t, 2)) + 6*l2*m2*sin(theta1(t) - theta2(t))*Derivative(theta2(t), t)**2 + 6*l2*m2*cos(theta1(t) - theta2(t))*Derivative(theta2(t), (t, 2)))/6",
      "text/latex": "$\\displaystyle \\frac{l_{1} \\left(- 3 M_{1} g \\sin{\\left(\\theta_{1}{\\left(t \\right)} \\right)} + 2 M_{1} l_{1} \\frac{d^{2}}{d t^{2}} \\theta_{1}{\\left(t \\right)} + 6 g m_{1} \\sin{\\left(\\theta_{1}{\\left(t \\right)} \\right)} + 6 g m_{2} \\sin{\\left(\\theta_{1}{\\left(t \\right)} \\right)} + 6 l_{1} m_{1} \\frac{d^{2}}{d t^{2}} \\theta_{1}{\\left(t \\right)} + 6 l_{1} m_{2} \\frac{d^{2}}{d t^{2}} \\theta_{1}{\\left(t \\right)} + 6 l_{2} m_{2} \\sin{\\left(\\theta_{1}{\\left(t \\right)} - \\theta_{2}{\\left(t \\right)} \\right)} \\left(\\frac{d}{d t} \\theta_{2}{\\left(t \\right)}\\right)^{2} + 6 l_{2} m_{2} \\cos{\\left(\\theta_{1}{\\left(t \\right)} - \\theta_{2}{\\left(t \\right)} \\right)} \\frac{d^{2}}{d t^{2}} \\theta_{2}{\\left(t \\right)}\\right)}{6}$"
     },
     "metadata": {},
     "output_type": "display_data"
    }
   ],
   "source": [
    "theta1_eqn = euler_lagrange_equation(L, theta1)\n",
    "display(theta1_eqn)"
   ]
  },
  {
   "cell_type": "code",
   "execution_count": 130,
   "id": "71304b50e01216f6",
   "metadata": {
    "ExecuteTime": {
     "end_time": "2023-12-07T13:55:39.232799Z",
     "start_time": "2023-12-07T13:55:38.146968Z"
    }
   },
   "outputs": [
    {
     "data": {
      "text/plain": "l2*(-3*M2*g*sin(theta2(t)) + 2*M2*l2*Derivative(theta2(t), (t, 2)) + 6*g*m2*sin(theta2(t)) - 6*l1*m2*sin(theta1(t) - theta2(t))*Derivative(theta1(t), t)**2 + 6*l1*m2*cos(theta1(t) - theta2(t))*Derivative(theta1(t), (t, 2)) + 6*l2*m2*Derivative(theta2(t), (t, 2)))/6",
      "text/latex": "$\\displaystyle \\frac{l_{2} \\left(- 3 M_{2} g \\sin{\\left(\\theta_{2}{\\left(t \\right)} \\right)} + 2 M_{2} l_{2} \\frac{d^{2}}{d t^{2}} \\theta_{2}{\\left(t \\right)} + 6 g m_{2} \\sin{\\left(\\theta_{2}{\\left(t \\right)} \\right)} - 6 l_{1} m_{2} \\sin{\\left(\\theta_{1}{\\left(t \\right)} - \\theta_{2}{\\left(t \\right)} \\right)} \\left(\\frac{d}{d t} \\theta_{1}{\\left(t \\right)}\\right)^{2} + 6 l_{1} m_{2} \\cos{\\left(\\theta_{1}{\\left(t \\right)} - \\theta_{2}{\\left(t \\right)} \\right)} \\frac{d^{2}}{d t^{2}} \\theta_{1}{\\left(t \\right)} + 6 l_{2} m_{2} \\frac{d^{2}}{d t^{2}} \\theta_{2}{\\left(t \\right)}\\right)}{6}$"
     },
     "metadata": {},
     "output_type": "display_data"
    }
   ],
   "source": [
    "theta2_eqn = euler_lagrange_equation(L, theta2)\n",
    "display(theta2_eqn)"
   ]
  },
  {
   "cell_type": "markdown",
   "source": [
    "We Multiply;\n",
    "\n",
    "- `theta1_eqn` by $6/l_1$\n",
    "- `theta2_eqn` by $6/l_2$"
   ],
   "metadata": {
    "collapsed": false
   },
   "id": "f4241ca61971f782"
  },
  {
   "cell_type": "code",
   "execution_count": 131,
   "outputs": [],
   "source": [
    "theta1_eqn = theta1_eqn * (6/l1)\n",
    "theta2_eqn = theta2_eqn * (6/l2)"
   ],
   "metadata": {
    "collapsed": false,
    "ExecuteTime": {
     "end_time": "2023-12-07T13:55:39.241387Z",
     "start_time": "2023-12-07T13:55:39.238087Z"
    }
   },
   "id": "c9c4ea3476099a1d"
  },
  {
   "cell_type": "markdown",
   "id": "42440a729c9145b2",
   "metadata": {},
   "source": [
    "Redeclare as equations using SymPy's `Eq` class"
   ]
  },
  {
   "cell_type": "code",
   "execution_count": 132,
   "id": "cbd0f725da697779",
   "metadata": {
    "ExecuteTime": {
     "end_time": "2023-12-07T13:55:39.250543Z",
     "start_time": "2023-12-07T13:55:39.247102Z"
    }
   },
   "outputs": [],
   "source": [
    "eq1 = sp.Eq(theta1_eqn, 0)\n",
    "eq2 = sp.Eq(theta2_eqn, 0)"
   ]
  },
  {
   "cell_type": "code",
   "execution_count": 133,
   "id": "c24e90970506f1d1",
   "metadata": {
    "ExecuteTime": {
     "end_time": "2023-12-07T13:55:39.274552Z",
     "start_time": "2023-12-07T13:55:39.255811Z"
    }
   },
   "outputs": [
    {
     "name": "stdout",
     "output_type": "stream",
     "text": [
      "<class 'sympy.core.relational.Equality'>\n"
     ]
    },
    {
     "data": {
      "text/plain": "Eq(-3*M1*g*sin(theta1(t)) + 2*M1*l1*Derivative(theta1(t), (t, 2)) + 6*g*m1*sin(theta1(t)) + 6*g*m2*sin(theta1(t)) + 6*l1*m1*Derivative(theta1(t), (t, 2)) + 6*l1*m2*Derivative(theta1(t), (t, 2)) + 6*l2*m2*sin(theta1(t) - theta2(t))*Derivative(theta2(t), t)**2 + 6*l2*m2*cos(theta1(t) - theta2(t))*Derivative(theta2(t), (t, 2)), 0)",
      "text/latex": "$\\displaystyle - 3 M_{1} g \\sin{\\left(\\theta_{1}{\\left(t \\right)} \\right)} + 2 M_{1} l_{1} \\frac{d^{2}}{d t^{2}} \\theta_{1}{\\left(t \\right)} + 6 g m_{1} \\sin{\\left(\\theta_{1}{\\left(t \\right)} \\right)} + 6 g m_{2} \\sin{\\left(\\theta_{1}{\\left(t \\right)} \\right)} + 6 l_{1} m_{1} \\frac{d^{2}}{d t^{2}} \\theta_{1}{\\left(t \\right)} + 6 l_{1} m_{2} \\frac{d^{2}}{d t^{2}} \\theta_{1}{\\left(t \\right)} + 6 l_{2} m_{2} \\sin{\\left(\\theta_{1}{\\left(t \\right)} - \\theta_{2}{\\left(t \\right)} \\right)} \\left(\\frac{d}{d t} \\theta_{2}{\\left(t \\right)}\\right)^{2} + 6 l_{2} m_{2} \\cos{\\left(\\theta_{1}{\\left(t \\right)} - \\theta_{2}{\\left(t \\right)} \\right)} \\frac{d^{2}}{d t^{2}} \\theta_{2}{\\left(t \\right)} = 0$"
     },
     "metadata": {},
     "output_type": "display_data"
    }
   ],
   "source": [
    "print(type(eq1))\n",
    "display(eq1)"
   ]
  },
  {
   "cell_type": "code",
   "execution_count": 134,
   "id": "65857ff5faf27fe",
   "metadata": {
    "ExecuteTime": {
     "end_time": "2023-12-07T13:55:39.275192Z",
     "start_time": "2023-12-07T13:55:39.259811Z"
    }
   },
   "outputs": [
    {
     "name": "stdout",
     "output_type": "stream",
     "text": [
      "<class 'sympy.core.relational.Equality'>\n"
     ]
    },
    {
     "data": {
      "text/plain": "Eq(-3*M2*g*sin(theta2(t)) + 2*M2*l2*Derivative(theta2(t), (t, 2)) + 6*g*m2*sin(theta2(t)) - 6*l1*m2*sin(theta1(t) - theta2(t))*Derivative(theta1(t), t)**2 + 6*l1*m2*cos(theta1(t) - theta2(t))*Derivative(theta1(t), (t, 2)) + 6*l2*m2*Derivative(theta2(t), (t, 2)), 0)",
      "text/latex": "$\\displaystyle - 3 M_{2} g \\sin{\\left(\\theta_{2}{\\left(t \\right)} \\right)} + 2 M_{2} l_{2} \\frac{d^{2}}{d t^{2}} \\theta_{2}{\\left(t \\right)} + 6 g m_{2} \\sin{\\left(\\theta_{2}{\\left(t \\right)} \\right)} - 6 l_{1} m_{2} \\sin{\\left(\\theta_{1}{\\left(t \\right)} - \\theta_{2}{\\left(t \\right)} \\right)} \\left(\\frac{d}{d t} \\theta_{1}{\\left(t \\right)}\\right)^{2} + 6 l_{1} m_{2} \\cos{\\left(\\theta_{1}{\\left(t \\right)} - \\theta_{2}{\\left(t \\right)} \\right)} \\frac{d^{2}}{d t^{2}} \\theta_{1}{\\left(t \\right)} + 6 l_{2} m_{2} \\frac{d^{2}}{d t^{2}} \\theta_{2}{\\left(t \\right)} = 0$"
     },
     "metadata": {},
     "output_type": "display_data"
    }
   ],
   "source": [
    "print(type(eq2))\n",
    "display(eq2)"
   ]
  },
  {
   "cell_type": "markdown",
   "id": "63780e157ab7d634",
   "metadata": {},
   "source": [
    "#### Which are our coupled 2nd-order differential equations of motion"
   ]
  },
  {
   "cell_type": "markdown",
   "id": "cd1740e63f7ad574",
   "metadata": {},
   "source": [
    "----\n",
    "&nbsp;\n",
    "#### Rewrite E-L equations in form;\n",
    "\n",
    "$$\n",
    "\\begin{aligned}\n",
    "& \\ddot{\\theta}_1+\\alpha_1\\left(\\theta_1, \\theta_2\\right) \\ddot{\\theta}_2=f_1\\left(\\theta_1, \\theta_2, \\dot{\\theta}_1, \\dot{\\theta}_2\\right) \\\\\n",
    "& \\ddot{\\theta}_2+\\alpha_2\\left(\\theta_1, \\theta_2\\right) \\ddot{\\theta}_1=f_2\\left(\\theta_1, \\theta_2, \\dot{\\theta}_1, \\dot{\\theta}_2\\right)\n",
    "\\end{aligned}\n",
    "$$\n",
    "\n",
    "  "
   ]
  },
  {
   "cell_type": "markdown",
   "id": "94b6ca4fe1870604",
   "metadata": {},
   "source": [
    "#### Isolate the second derivative coefficients"
   ]
  },
  {
   "cell_type": "code",
   "execution_count": 135,
   "outputs": [],
   "source": [
    "def isolate_terms(equation):\n",
    "    \"\"\"\n",
    "    Returns the second derivative terms isolated from the given equation.\n",
    "    \n",
    "    Parameters:\n",
    "        equation (sympy.Eq): The equation from which to isolate the second derivative terms.\n",
    "    \n",
    "    Returns:\n",
    "        list: A list containing the isolated second derivative terms.\n",
    "    \"\"\"\n",
    "    # Define derivative terms\n",
    "    theta1ddot = sp.diff(theta1, t, 2)\n",
    "    theta2ddot = sp.diff(theta2, t, 2)\n",
    "    \n",
    "    terms = []\n",
    "\n",
    "    try:\n",
    "        th1 = sp.Eq(theta1ddot, sp.solve(equation, theta1ddot)[0])\n",
    "        rhs_eq = th1.rhs\n",
    "        alpha1 = sp.together(rhs_eq).as_numer_denom()[1]\n",
    "        eq_new = sp.Eq(th1.lhs * alpha1, th1.rhs * alpha1)\n",
    "        theta1_second = eq_new.lhs\n",
    "        terms.append(theta1_second)\n",
    "    except IndexError:\n",
    "        pass\n",
    "\n",
    "    try:\n",
    "        th2 = sp.Eq(theta2ddot, sp.solve(equation, theta2ddot)[0])\n",
    "        rhs_eq = th2.rhs\n",
    "        alpha2 = sp.together(rhs_eq).as_numer_denom()[1]\n",
    "        eq_new = sp.Eq(th2.lhs * alpha2, th2.rhs * alpha2)\n",
    "        theta2_second = eq_new.lhs\n",
    "        terms.append(theta2_second)\n",
    "    except IndexError:\n",
    "        pass\n",
    "\n",
    "    return terms"
   ],
   "metadata": {
    "collapsed": false,
    "ExecuteTime": {
     "end_time": "2023-12-07T13:55:39.275255Z",
     "start_time": "2023-12-07T13:55:39.271716Z"
    }
   },
   "id": "603798eb2795e9c"
  },
  {
   "cell_type": "markdown",
   "id": "4d54b4d8bf32d06e",
   "metadata": {},
   "source": [
    "#### Equation 1:"
   ]
  },
  {
   "cell_type": "code",
   "execution_count": 136,
   "id": "4f20a3b9ecab0939",
   "metadata": {
    "ExecuteTime": {
     "end_time": "2023-12-07T13:55:41.057071Z",
     "start_time": "2023-12-07T13:55:39.337302Z"
    }
   },
   "outputs": [
    {
     "data": {
      "text/plain": "Eq(2*l1*(M1 + 3*m1 + 3*m2)*Derivative(theta1(t), (t, 2)) + 6*l2*m2*cos(theta1(t) - theta2(t))*Derivative(theta2(t), (t, 2)), -3*M1*g*sin(theta1(t)) + 6*g*m1*sin(theta1(t)) + 6*g*m2*sin(theta1(t)) + 6*l2*m2*sin(theta1(t) - theta2(t))*Derivative(theta2(t), t)**2)",
      "text/latex": "$\\displaystyle 2 l_{1} \\left(M_{1} + 3 m_{1} + 3 m_{2}\\right) \\frac{d^{2}}{d t^{2}} \\theta_{1}{\\left(t \\right)} + 6 l_{2} m_{2} \\cos{\\left(\\theta_{1}{\\left(t \\right)} - \\theta_{2}{\\left(t \\right)} \\right)} \\frac{d^{2}}{d t^{2}} \\theta_{2}{\\left(t \\right)} = - 3 M_{1} g \\sin{\\left(\\theta_{1}{\\left(t \\right)} \\right)} + 6 g m_{1} \\sin{\\left(\\theta_{1}{\\left(t \\right)} \\right)} + 6 g m_{2} \\sin{\\left(\\theta_{1}{\\left(t \\right)} \\right)} + 6 l_{2} m_{2} \\sin{\\left(\\theta_{1}{\\left(t \\right)} - \\theta_{2}{\\left(t \\right)} \\right)} \\left(\\frac{d}{d t} \\theta_{2}{\\left(t \\right)}\\right)^{2}$"
     },
     "metadata": {},
     "output_type": "display_data"
    }
   ],
   "source": [
    "second_derivatives_1 = isolate_terms(eq1)\n",
    "\n",
    "lhs_1 = second_derivatives_1[0] + second_derivatives_1[1]\n",
    "rhs_1 = sp.simplify(eq1.lhs - lhs_1) \n",
    "\n",
    "eqn1 = sp.Eq(lhs_1, rhs_1)\n",
    "display(eqn1)"
   ]
  },
  {
   "cell_type": "markdown",
   "id": "6adaf78b9cb8c14a",
   "metadata": {},
   "source": [
    "#### Equation 2:"
   ]
  },
  {
   "cell_type": "code",
   "execution_count": 137,
   "id": "f2c591622c8ff3a4",
   "metadata": {
    "ExecuteTime": {
     "end_time": "2023-12-07T13:55:42.274579Z",
     "start_time": "2023-12-07T13:55:41.074549Z"
    }
   },
   "outputs": [
    {
     "data": {
      "text/plain": "Eq(6*l1*m2*cos(theta1(t) - theta2(t))*Derivative(theta1(t), (t, 2)) + 2*l2*(M2 + 3*m2)*Derivative(theta2(t), (t, 2)), -3*M2*g*sin(theta2(t)) + 6*g*m2*sin(theta2(t)) - 6*l1*m2*sin(theta1(t) - theta2(t))*Derivative(theta1(t), t)**2)",
      "text/latex": "$\\displaystyle 6 l_{1} m_{2} \\cos{\\left(\\theta_{1}{\\left(t \\right)} - \\theta_{2}{\\left(t \\right)} \\right)} \\frac{d^{2}}{d t^{2}} \\theta_{1}{\\left(t \\right)} + 2 l_{2} \\left(M_{2} + 3 m_{2}\\right) \\frac{d^{2}}{d t^{2}} \\theta_{2}{\\left(t \\right)} = - 3 M_{2} g \\sin{\\left(\\theta_{2}{\\left(t \\right)} \\right)} + 6 g m_{2} \\sin{\\left(\\theta_{2}{\\left(t \\right)} \\right)} - 6 l_{1} m_{2} \\sin{\\left(\\theta_{1}{\\left(t \\right)} - \\theta_{2}{\\left(t \\right)} \\right)} \\left(\\frac{d}{d t} \\theta_{1}{\\left(t \\right)}\\right)^{2}$"
     },
     "metadata": {},
     "output_type": "display_data"
    }
   ],
   "source": [
    "second_derivatives_2 = isolate_terms(eq2)\n",
    "\n",
    "lhs_2 = second_derivatives_2[0] + second_derivatives_2[1]\n",
    "rhs_2 = sp.simplify(eq2.lhs - lhs_2)\n",
    "\n",
    "eqn2 = sp.Eq(lhs_2, rhs_2)\n",
    "display(eqn2)"
   ]
  },
  {
   "cell_type": "markdown",
   "id": "9985bb4d730c62fc",
   "metadata": {},
   "source": [
    "----\n",
    "&nbsp;\n",
    "Divide; \n",
    "- `eqn1` by $2 l_1 (M_1 + 3 m_1 + 3 m_2)$ \n",
    "- `eqn2` by $2 l_2 (M_2 + 3 m_2)$"
   ]
  },
  {
   "cell_type": "code",
   "execution_count": 138,
   "id": "39fa04154a1f8279",
   "metadata": {
    "ExecuteTime": {
     "end_time": "2023-12-07T13:55:47.121013Z",
     "start_time": "2023-12-07T13:55:45.696845Z"
    }
   },
   "outputs": [
    {
     "data": {
      "text/plain": "Eq((l1*(M1 + 3*m1 + 3*m2)*Derivative(theta1(t), (t, 2)) + 3*l2*m2*cos(theta1(t) - theta2(t))*Derivative(theta2(t), (t, 2)))/(l1*(M1 + 3*m1 + 3*m2)), 3*(-M1*g*sin(theta1(t)) + 2*g*m1*sin(theta1(t)) + 2*g*m2*sin(theta1(t)) + 2*l2*m2*sin(theta1(t) - theta2(t))*Derivative(theta2(t), t)**2)/(2*l1*(M1 + 3*m1 + 3*m2)))",
      "text/latex": "$\\displaystyle \\frac{l_{1} \\left(M_{1} + 3 m_{1} + 3 m_{2}\\right) \\frac{d^{2}}{d t^{2}} \\theta_{1}{\\left(t \\right)} + 3 l_{2} m_{2} \\cos{\\left(\\theta_{1}{\\left(t \\right)} - \\theta_{2}{\\left(t \\right)} \\right)} \\frac{d^{2}}{d t^{2}} \\theta_{2}{\\left(t \\right)}}{l_{1} \\left(M_{1} + 3 m_{1} + 3 m_{2}\\right)} = \\frac{3 \\left(- M_{1} g \\sin{\\left(\\theta_{1}{\\left(t \\right)} \\right)} + 2 g m_{1} \\sin{\\left(\\theta_{1}{\\left(t \\right)} \\right)} + 2 g m_{2} \\sin{\\left(\\theta_{1}{\\left(t \\right)} \\right)} + 2 l_{2} m_{2} \\sin{\\left(\\theta_{1}{\\left(t \\right)} - \\theta_{2}{\\left(t \\right)} \\right)} \\left(\\frac{d}{d t} \\theta_{2}{\\left(t \\right)}\\right)^{2}\\right)}{2 l_{1} \\left(M_{1} + 3 m_{1} + 3 m_{2}\\right)}$"
     },
     "metadata": {},
     "output_type": "display_data"
    }
   ],
   "source": [
    "eqn1_lhs = sp.simplify(eqn1.lhs / (2 * l1 * (M1 + 3 * m1 + 3 * m2)))\n",
    "eqn1_lhs = sp.simplify(eqn1_lhs)\n",
    "\n",
    "eqn1_rhs = sp.simplify(eqn1.rhs / (2 * l1 * (M1 + 3 * m1 + 3 * m2)))\n",
    "eqn1_rhs = sp.simplify(eqn1_rhs)\n",
    "\n",
    "eqn1 = sp.Eq(eqn1_lhs, eqn1_rhs)\n",
    "display(eqn1)"
   ]
  },
  {
   "cell_type": "code",
   "execution_count": 139,
   "id": "498bfac5b25014d8",
   "metadata": {
    "ExecuteTime": {
     "end_time": "2023-12-07T13:56:04.490933Z",
     "start_time": "2023-12-07T13:56:03.515187Z"
    }
   },
   "outputs": [
    {
     "data": {
      "text/plain": "Eq((3*l1*m2*cos(theta1(t) - theta2(t))*Derivative(theta1(t), (t, 2)) + l2*(M2 + 3*m2)*Derivative(theta2(t), (t, 2)))/(l2*(M2 + 3*m2)), 3*(-M2*g*sin(theta2(t)) + 2*g*m2*sin(theta2(t)) - 2*l1*m2*sin(theta1(t) - theta2(t))*Derivative(theta1(t), t)**2)/(2*l2*(M2 + 3*m2)))",
      "text/latex": "$\\displaystyle \\frac{3 l_{1} m_{2} \\cos{\\left(\\theta_{1}{\\left(t \\right)} - \\theta_{2}{\\left(t \\right)} \\right)} \\frac{d^{2}}{d t^{2}} \\theta_{1}{\\left(t \\right)} + l_{2} \\left(M_{2} + 3 m_{2}\\right) \\frac{d^{2}}{d t^{2}} \\theta_{2}{\\left(t \\right)}}{l_{2} \\left(M_{2} + 3 m_{2}\\right)} = \\frac{3 \\left(- M_{2} g \\sin{\\left(\\theta_{2}{\\left(t \\right)} \\right)} + 2 g m_{2} \\sin{\\left(\\theta_{2}{\\left(t \\right)} \\right)} - 2 l_{1} m_{2} \\sin{\\left(\\theta_{1}{\\left(t \\right)} - \\theta_{2}{\\left(t \\right)} \\right)} \\left(\\frac{d}{d t} \\theta_{1}{\\left(t \\right)}\\right)^{2}\\right)}{2 l_{2} \\left(M_{2} + 3 m_{2}\\right)}$"
     },
     "metadata": {},
     "output_type": "display_data"
    }
   ],
   "source": [
    "eqn2_lhs = sp.simplify(eqn2.lhs / (2 * l2 * (M2 + 3 * m2))) \n",
    "eqn2_lhs = sp.simplify(eqn2_lhs)\n",
    "\n",
    "eqn2_rhs = sp.simplify(eqn2.rhs / (2 * l2 * (M2 + 3 * m2)))\n",
    "eqn2_rhs = sp.simplify(eqn2_rhs)\n",
    "\n",
    "eqn2 = sp.Eq(eqn2_lhs, eqn2_rhs)\n",
    "display(eqn2)"
   ]
  },
  {
   "cell_type": "markdown",
   "id": "800441001cc2740f",
   "metadata": {},
   "source": [
    "----\n",
    "&nbsp;\n",
    "## Extract coefficients from above equations"
   ]
  },
  {
   "cell_type": "code",
   "execution_count": 140,
   "id": "af152af6feb7820d",
   "metadata": {
    "ExecuteTime": {
     "end_time": "2023-12-07T13:56:20.295945Z",
     "start_time": "2023-12-07T13:56:20.281815Z"
    }
   },
   "outputs": [],
   "source": [
    "def extract_coefficient(equation, derivative_term):\n",
    "    \"\"\"\n",
    "    Extracts the coefficient, including the denominator, of the specified derivative term from the left-hand side of the equation.\n",
    "\n",
    "    Parameters:\n",
    "        equation (sympy.Expr): The equation to extract the coefficient from.\n",
    "        derivative_term (sympy.Expr): The derivative term to extract the coefficient of.\n",
    "\n",
    "    Returns:\n",
    "        coeff (sympy.Expr): The coefficient, including the denominator, of the derivative term in the equation.\n",
    "    \"\"\"\n",
    "    lhs_parts = sp.fraction(equation.lhs)\n",
    "    lhs_coeff_term = lhs_parts[0]\n",
    "    lhs_denominator_term = lhs_parts[1]\n",
    "    coeff = lhs_coeff_term.coeff(derivative_term) / lhs_denominator_term\n",
    "\n",
    "    return coeff"
   ]
  },
  {
   "cell_type": "markdown",
   "id": "9c89312b57bab41d",
   "metadata": {},
   "source": [
    "We can now rewrite in the desired form\n",
    "\n",
    "$$\n",
    "\\begin{aligned}\n",
    "& \\ddot{\\theta}_1+\\alpha_1\\left(\\theta_1, \\theta_2\\right) \\ddot{\\theta}_2=f_1\\left(\\theta_1, \\theta_2, \\dot{\\theta}_1, \\dot{\\theta}_2\\right) \\\\\n",
    "& \\ddot{\\theta}_2+\\alpha_2\\left(\\theta_1, \\theta_2\\right) \\ddot{\\theta}_1=f_2\\left(\\theta_1, \\theta_2, \\dot{\\theta}_1, \\dot{\\theta}_2\\right)\n",
    "\\end{aligned}\n",
    "$$"
   ]
  },
  {
   "cell_type": "code",
   "execution_count": 141,
   "id": "cca59a287e40eeac",
   "metadata": {
    "ExecuteTime": {
     "end_time": "2023-12-07T13:56:23.322527Z",
     "start_time": "2023-12-07T13:56:23.294538Z"
    }
   },
   "outputs": [
    {
     "name": "stdout",
     "output_type": "stream",
     "text": [
      "<class 'sympy.core.mul.Mul'>\n"
     ]
    },
    {
     "data": {
      "text/plain": "3*l2*m2*cos(theta1(t) - theta2(t))/(l1*(M1 + 3*m1 + 3*m2))",
      "text/latex": "$\\displaystyle \\frac{3 l_{2} m_{2} \\cos{\\left(\\theta_{1}{\\left(t \\right)} - \\theta_{2}{\\left(t \\right)} \\right)}}{l_{1} \\left(M_{1} + 3 m_{1} + 3 m_{2}\\right)}$"
     },
     "metadata": {},
     "output_type": "display_data"
    }
   ],
   "source": [
    "# Let alpha1 be 2nd derivative coefficient of theta2 from eqn1\n",
    "alpha1 = extract_coefficient(eqn1, sp.diff(theta2, t, 2))\n",
    "print(type(alpha1))\n",
    "display(alpha1)"
   ]
  },
  {
   "cell_type": "code",
   "execution_count": 142,
   "id": "e9fc75eb0a271c5a",
   "metadata": {
    "ExecuteTime": {
     "end_time": "2023-12-07T13:56:37.604770Z",
     "start_time": "2023-12-07T13:56:37.594920Z"
    }
   },
   "outputs": [
    {
     "name": "stdout",
     "output_type": "stream",
     "text": [
      "<class 'sympy.core.mul.Mul'>\n"
     ]
    },
    {
     "data": {
      "text/plain": "3*l1*m2*cos(theta1(t) - theta2(t))/(l2*(M2 + 3*m2))",
      "text/latex": "$\\displaystyle \\frac{3 l_{1} m_{2} \\cos{\\left(\\theta_{1}{\\left(t \\right)} - \\theta_{2}{\\left(t \\right)} \\right)}}{l_{2} \\left(M_{2} + 3 m_{2}\\right)}$"
     },
     "metadata": {},
     "output_type": "display_data"
    }
   ],
   "source": [
    "# Let alpha2 be 2nd derivative coefficient of theta1 from eqn2\n",
    "alpha2 = extract_coefficient(eqn2, sp.diff(theta1, t, 2))\n",
    "print(type(alpha2))\n",
    "display(alpha2)"
   ]
  },
  {
   "cell_type": "markdown",
   "id": "90ee182009397850",
   "metadata": {},
   "source": [
    "Declare RHS as expressions"
   ]
  },
  {
   "cell_type": "code",
   "execution_count": 143,
   "id": "33d22d562323e1b",
   "metadata": {
    "ExecuteTime": {
     "end_time": "2023-12-07T13:56:48.180101Z",
     "start_time": "2023-12-07T13:56:48.149400Z"
    }
   },
   "outputs": [
    {
     "name": "stdout",
     "output_type": "stream",
     "text": [
      "<class 'sympy.core.mul.Mul'>\n"
     ]
    },
    {
     "data": {
      "text/plain": "3*(-M1*g*sin(theta1(t)) + 2*g*m1*sin(theta1(t)) + 2*g*m2*sin(theta1(t)) + 2*l2*m2*sin(theta1(t) - theta2(t))*Derivative(theta2(t), t)**2)/(2*l1*(M1 + 3*m1 + 3*m2))",
      "text/latex": "$\\displaystyle \\frac{3 \\left(- M_{1} g \\sin{\\left(\\theta_{1}{\\left(t \\right)} \\right)} + 2 g m_{1} \\sin{\\left(\\theta_{1}{\\left(t \\right)} \\right)} + 2 g m_{2} \\sin{\\left(\\theta_{1}{\\left(t \\right)} \\right)} + 2 l_{2} m_{2} \\sin{\\left(\\theta_{1}{\\left(t \\right)} - \\theta_{2}{\\left(t \\right)} \\right)} \\left(\\frac{d}{d t} \\theta_{2}{\\left(t \\right)}\\right)^{2}\\right)}{2 l_{1} \\left(M_{1} + 3 m_{1} + 3 m_{2}\\right)}$"
     },
     "metadata": {},
     "output_type": "display_data"
    }
   ],
   "source": [
    "function_1 = eqn1.rhs\n",
    "print(type(function_1))\n",
    "display(function_1)"
   ]
  },
  {
   "cell_type": "code",
   "execution_count": 144,
   "id": "f8ac46d10ad943bf",
   "metadata": {
    "ExecuteTime": {
     "end_time": "2023-12-07T13:56:51.899455Z",
     "start_time": "2023-12-07T13:56:51.863050Z"
    }
   },
   "outputs": [
    {
     "name": "stdout",
     "output_type": "stream",
     "text": [
      "<class 'sympy.core.mul.Mul'>\n"
     ]
    },
    {
     "data": {
      "text/plain": "3*(-M2*g*sin(theta2(t)) + 2*g*m2*sin(theta2(t)) - 2*l1*m2*sin(theta1(t) - theta2(t))*Derivative(theta1(t), t)**2)/(2*l2*(M2 + 3*m2))",
      "text/latex": "$\\displaystyle \\frac{3 \\left(- M_{2} g \\sin{\\left(\\theta_{2}{\\left(t \\right)} \\right)} + 2 g m_{2} \\sin{\\left(\\theta_{2}{\\left(t \\right)} \\right)} - 2 l_{1} m_{2} \\sin{\\left(\\theta_{1}{\\left(t \\right)} - \\theta_{2}{\\left(t \\right)} \\right)} \\left(\\frac{d}{d t} \\theta_{1}{\\left(t \\right)}\\right)^{2}\\right)}{2 l_{2} \\left(M_{2} + 3 m_{2}\\right)}$"
     },
     "metadata": {},
     "output_type": "display_data"
    }
   ],
   "source": [
    "function_2 = eqn2.rhs\n",
    "print(type(function_2))\n",
    "display(function_2)"
   ]
  },
  {
   "cell_type": "markdown",
   "id": "fd0662376beed6ad",
   "metadata": {},
   "source": [
    "----\n",
    "&nbsp;\n",
    "## Define symbolic matrix equations"
   ]
  },
  {
   "cell_type": "markdown",
   "id": "9568adcd747d787f",
   "metadata": {},
   "source": [
    "Define dummy functions"
   ]
  },
  {
   "cell_type": "code",
   "execution_count": 145,
   "id": "a61dd1e44eddee8d",
   "metadata": {
    "ExecuteTime": {
     "end_time": "2023-12-07T13:56:59.625825Z",
     "start_time": "2023-12-07T13:56:59.609395Z"
    }
   },
   "outputs": [],
   "source": [
    "alpha1_func = sp.Function('alpha1')(theta1, theta2)\n",
    "alpha2_func = sp.Function('alpha2')(theta1, theta2)\n",
    "function1 = sp.Function('f1')(theta1, theta2, sp.diff(theta1, t), sp.diff(theta2, t))\n",
    "function2 = sp.Function('f2')(theta1, theta2, sp.diff(theta1, t), sp.diff(theta2, t))"
   ]
  },
  {
   "cell_type": "markdown",
   "id": "c21cc74b777559dd",
   "metadata": {},
   "source": [
    "Define matrices"
   ]
  },
  {
   "cell_type": "code",
   "execution_count": 146,
   "id": "a6af31c490c12742",
   "metadata": {
    "ExecuteTime": {
     "end_time": "2023-12-07T13:57:02.257198Z",
     "start_time": "2023-12-07T13:57:02.243033Z"
    }
   },
   "outputs": [
    {
     "data": {
      "text/plain": "Matrix([\n[Derivative(theta1(t), (t, 2))],\n[Derivative(theta2(t), (t, 2))]])",
      "text/latex": "$\\displaystyle \\left[\\begin{matrix}\\frac{d^{2}}{d t^{2}} \\theta_{1}{\\left(t \\right)}\\\\\\frac{d^{2}}{d t^{2}} \\theta_{2}{\\left(t \\right)}\\end{matrix}\\right]$"
     },
     "metadata": {},
     "output_type": "display_data"
    }
   ],
   "source": [
    "# Differential operators\n",
    "LHS = sp.Matrix([[sp.diff(theta1, t, 2)], [sp.diff(theta2, t, 2)]])\n",
    "display(LHS)"
   ]
  },
  {
   "cell_type": "code",
   "execution_count": 147,
   "id": "859aad72efad9d23",
   "metadata": {
    "ExecuteTime": {
     "end_time": "2023-12-07T13:57:04.958242Z",
     "start_time": "2023-12-07T13:57:04.941457Z"
    }
   },
   "outputs": [
    {
     "data": {
      "text/plain": "Matrix([\n[                           1, alpha1(theta1(t), theta2(t))],\n[alpha2(theta1(t), theta2(t)),                            1]])",
      "text/latex": "$\\displaystyle \\left[\\begin{matrix}1 & \\alpha_{1}{\\left(\\theta_{1}{\\left(t \\right)},\\theta_{2}{\\left(t \\right)} \\right)}\\\\\\alpha_{2}{\\left(\\theta_{1}{\\left(t \\right)},\\theta_{2}{\\left(t \\right)} \\right)} & 1\\end{matrix}\\right]$"
     },
     "metadata": {},
     "output_type": "display_data"
    }
   ],
   "source": [
    "# Coefficients\n",
    "A = sp.Matrix([[1, alpha1_func], [alpha2_func, 1]])\n",
    "display(A)"
   ]
  },
  {
   "cell_type": "code",
   "execution_count": 148,
   "id": "58812d9b53262ac2",
   "metadata": {
    "ExecuteTime": {
     "end_time": "2023-12-07T13:57:09.108488Z",
     "start_time": "2023-12-07T13:57:09.090148Z"
    }
   },
   "outputs": [
    {
     "data": {
      "text/plain": "Matrix([\n[f1(theta1(t), theta2(t), Derivative(theta1(t), t), Derivative(theta2(t), t))],\n[f2(theta1(t), theta2(t), Derivative(theta1(t), t), Derivative(theta2(t), t))]])",
      "text/latex": "$\\displaystyle \\left[\\begin{matrix}\\operatorname{f_{1}}{\\left(\\theta_{1}{\\left(t \\right)},\\theta_{2}{\\left(t \\right)},\\frac{d}{d t} \\theta_{1}{\\left(t \\right)},\\frac{d}{d t} \\theta_{2}{\\left(t \\right)} \\right)}\\\\\\operatorname{f_{2}}{\\left(\\theta_{1}{\\left(t \\right)},\\theta_{2}{\\left(t \\right)},\\frac{d}{d t} \\theta_{1}{\\left(t \\right)},\\frac{d}{d t} \\theta_{2}{\\left(t \\right)} \\right)}\\end{matrix}\\right]$"
     },
     "metadata": {},
     "output_type": "display_data"
    }
   ],
   "source": [
    "RHS = sp.Matrix([[function1], [function2]])\n",
    "display(RHS)"
   ]
  },
  {
   "cell_type": "markdown",
   "id": "8a83491194e716fb",
   "metadata": {},
   "source": [
    "Matrix equations"
   ]
  },
  {
   "cell_type": "code",
   "execution_count": 149,
   "id": "209d35d332641e79",
   "metadata": {
    "ExecuteTime": {
     "end_time": "2023-12-07T13:57:12.174862Z",
     "start_time": "2023-12-07T13:57:12.141122Z"
    }
   },
   "outputs": [
    {
     "data": {
      "text/plain": "Eq(Matrix([\n[alpha1(theta1(t), theta2(t))*Derivative(theta2(t), (t, 2)) + Derivative(theta1(t), (t, 2))],\n[alpha2(theta1(t), theta2(t))*Derivative(theta1(t), (t, 2)) + Derivative(theta2(t), (t, 2))]]), Matrix([\n[f1(theta1(t), theta2(t), Derivative(theta1(t), t), Derivative(theta2(t), t))],\n[f2(theta1(t), theta2(t), Derivative(theta1(t), t), Derivative(theta2(t), t))]]))",
      "text/latex": "$\\displaystyle \\left[\\begin{matrix}\\alpha_{1}{\\left(\\theta_{1}{\\left(t \\right)},\\theta_{2}{\\left(t \\right)} \\right)} \\frac{d^{2}}{d t^{2}} \\theta_{2}{\\left(t \\right)} + \\frac{d^{2}}{d t^{2}} \\theta_{1}{\\left(t \\right)}\\\\\\alpha_{2}{\\left(\\theta_{1}{\\left(t \\right)},\\theta_{2}{\\left(t \\right)} \\right)} \\frac{d^{2}}{d t^{2}} \\theta_{1}{\\left(t \\right)} + \\frac{d^{2}}{d t^{2}} \\theta_{2}{\\left(t \\right)}\\end{matrix}\\right] = \\left[\\begin{matrix}\\operatorname{f_{1}}{\\left(\\theta_{1}{\\left(t \\right)},\\theta_{2}{\\left(t \\right)},\\frac{d}{d t} \\theta_{1}{\\left(t \\right)},\\frac{d}{d t} \\theta_{2}{\\left(t \\right)} \\right)}\\\\\\operatorname{f_{2}}{\\left(\\theta_{1}{\\left(t \\right)},\\theta_{2}{\\left(t \\right)},\\frac{d}{d t} \\theta_{1}{\\left(t \\right)},\\frac{d}{d t} \\theta_{2}{\\left(t \\right)} \\right)}\\end{matrix}\\right]$"
     },
     "execution_count": 149,
     "metadata": {},
     "output_type": "execute_result"
    }
   ],
   "source": [
    "sp.Eq(A*LHS, RHS)"
   ]
  },
  {
   "cell_type": "markdown",
   "id": "1bb6c67aec6ead82",
   "metadata": {},
   "source": [
    "----\n",
    "&nbsp;\n",
    "### Inverting the coefficient matrix $\\textbf{A}$"
   ]
  },
  {
   "cell_type": "code",
   "execution_count": 150,
   "id": "591fc56dff286118",
   "metadata": {
    "ExecuteTime": {
     "end_time": "2023-12-07T13:57:52.541239Z",
     "start_time": "2023-12-07T13:57:52.373972Z"
    }
   },
   "outputs": [
    {
     "data": {
      "text/plain": "Matrix([\n[                            1/(-alpha1(theta1(t), theta2(t))*alpha2(theta1(t), theta2(t)) + 1), -alpha1(theta1(t), theta2(t))/(-alpha1(theta1(t), theta2(t))*alpha2(theta1(t), theta2(t)) + 1)],\n[-alpha2(theta1(t), theta2(t))/(-alpha1(theta1(t), theta2(t))*alpha2(theta1(t), theta2(t)) + 1),                             1/(-alpha1(theta1(t), theta2(t))*alpha2(theta1(t), theta2(t)) + 1)]])",
      "text/latex": "$\\displaystyle \\left[\\begin{matrix}\\frac{1}{- \\alpha_{1}{\\left(\\theta_{1}{\\left(t \\right)},\\theta_{2}{\\left(t \\right)} \\right)} \\alpha_{2}{\\left(\\theta_{1}{\\left(t \\right)},\\theta_{2}{\\left(t \\right)} \\right)} + 1} & - \\frac{\\alpha_{1}{\\left(\\theta_{1}{\\left(t \\right)},\\theta_{2}{\\left(t \\right)} \\right)}}{- \\alpha_{1}{\\left(\\theta_{1}{\\left(t \\right)},\\theta_{2}{\\left(t \\right)} \\right)} \\alpha_{2}{\\left(\\theta_{1}{\\left(t \\right)},\\theta_{2}{\\left(t \\right)} \\right)} + 1}\\\\- \\frac{\\alpha_{2}{\\left(\\theta_{1}{\\left(t \\right)},\\theta_{2}{\\left(t \\right)} \\right)}}{- \\alpha_{1}{\\left(\\theta_{1}{\\left(t \\right)},\\theta_{2}{\\left(t \\right)} \\right)} \\alpha_{2}{\\left(\\theta_{1}{\\left(t \\right)},\\theta_{2}{\\left(t \\right)} \\right)} + 1} & \\frac{1}{- \\alpha_{1}{\\left(\\theta_{1}{\\left(t \\right)},\\theta_{2}{\\left(t \\right)} \\right)} \\alpha_{2}{\\left(\\theta_{1}{\\left(t \\right)},\\theta_{2}{\\left(t \\right)} \\right)} + 1}\\end{matrix}\\right]$"
     },
     "metadata": {},
     "output_type": "display_data"
    }
   ],
   "source": [
    "inverse = A.inv()\n",
    "display(inverse)"
   ]
  },
  {
   "cell_type": "markdown",
   "id": "3a110981da56ebb8",
   "metadata": {},
   "source": [
    "Is the determinant defined?"
   ]
  },
  {
   "cell_type": "code",
   "execution_count": 151,
   "id": "c2888f97225aedb0",
   "metadata": {
    "ExecuteTime": {
     "end_time": "2023-12-07T13:57:55.521269Z",
     "start_time": "2023-12-07T13:57:55.508847Z"
    }
   },
   "outputs": [
    {
     "data": {
      "text/plain": "-alpha1(theta1(t), theta2(t))*alpha2(theta1(t), theta2(t)) + 1",
      "text/latex": "$\\displaystyle - \\alpha_{1}{\\left(\\theta_{1}{\\left(t \\right)},\\theta_{2}{\\left(t \\right)} \\right)} \\alpha_{2}{\\left(\\theta_{1}{\\left(t \\right)},\\theta_{2}{\\left(t \\right)} \\right)} + 1$"
     },
     "metadata": {},
     "output_type": "display_data"
    }
   ],
   "source": [
    "determinant = A.det()\n",
    "display(determinant)"
   ]
  },
  {
   "cell_type": "code",
   "execution_count": 152,
   "id": "fee1c7579bad28d9",
   "metadata": {
    "ExecuteTime": {
     "end_time": "2023-12-07T13:57:59.606287Z",
     "start_time": "2023-12-07T13:57:59.594269Z"
    }
   },
   "outputs": [
    {
     "data": {
      "text/plain": "-9*m2**2*cos(theta1(t) - theta2(t))**2/((M2 + 3*m2)*(M1 + 3*m1 + 3*m2)) + 1",
      "text/latex": "$\\displaystyle - \\frac{9 m_{2}^{2} \\cos^{2}{\\left(\\theta_{1}{\\left(t \\right)} - \\theta_{2}{\\left(t \\right)} \\right)}}{\\left(M_{2} + 3 m_{2}\\right) \\left(M_{1} + 3 m_{1} + 3 m_{2}\\right)} + 1$"
     },
     "metadata": {},
     "output_type": "display_data"
    }
   ],
   "source": [
    "# Substituting values of alpha1 and alpha2\n",
    "det_subst = determinant.subs({alpha1_func: alpha1, alpha2_func: alpha2})\n",
    "display(det_subst)"
   ]
  },
  {
   "cell_type": "markdown",
   "id": "b6beb1f40eeda561",
   "metadata": {},
   "source": [
    "Given that $m_1$ and $m_2$ are strictly positive and $\\cos^2(x)$ is bounded between 0 and 1 for all $x \\in \\mathbb{R}$, $\\textbf{A}$ is always invertible"
   ]
  },
  {
   "cell_type": "markdown",
   "id": "9c2d33ccf16d4196",
   "metadata": {},
   "source": [
    "----\n",
    "&nbsp;\n",
    "#### Define NEW matrix equations"
   ]
  },
  {
   "cell_type": "code",
   "execution_count": 153,
   "id": "6a4389f12564c18c",
   "metadata": {
    "ExecuteTime": {
     "end_time": "2023-12-07T13:58:24.028690Z",
     "start_time": "2023-12-07T13:58:23.973188Z"
    }
   },
   "outputs": [
    {
     "data": {
      "text/plain": "Eq(Matrix([\n[Derivative(theta1(t), (t, 2))],\n[Derivative(theta2(t), (t, 2))]]), Matrix([\n[-(alpha1(theta1(t), theta2(t))*f2(theta1(t), theta2(t), Derivative(theta1(t), t), Derivative(theta2(t), t)) - f1(theta1(t), theta2(t), Derivative(theta1(t), t), Derivative(theta2(t), t)))/(alpha1(theta1(t), theta2(t))*alpha2(theta1(t), theta2(t)) - 1)],\n[-(alpha2(theta1(t), theta2(t))*f1(theta1(t), theta2(t), Derivative(theta1(t), t), Derivative(theta2(t), t)) - f2(theta1(t), theta2(t), Derivative(theta1(t), t), Derivative(theta2(t), t)))/(alpha1(theta1(t), theta2(t))*alpha2(theta1(t), theta2(t)) - 1)]]))",
      "text/latex": "$\\displaystyle \\left[\\begin{matrix}\\frac{d^{2}}{d t^{2}} \\theta_{1}{\\left(t \\right)}\\\\\\frac{d^{2}}{d t^{2}} \\theta_{2}{\\left(t \\right)}\\end{matrix}\\right] = \\left[\\begin{matrix}- \\frac{\\alpha_{1}{\\left(\\theta_{1}{\\left(t \\right)},\\theta_{2}{\\left(t \\right)} \\right)} \\operatorname{f_{2}}{\\left(\\theta_{1}{\\left(t \\right)},\\theta_{2}{\\left(t \\right)},\\frac{d}{d t} \\theta_{1}{\\left(t \\right)},\\frac{d}{d t} \\theta_{2}{\\left(t \\right)} \\right)} - \\operatorname{f_{1}}{\\left(\\theta_{1}{\\left(t \\right)},\\theta_{2}{\\left(t \\right)},\\frac{d}{d t} \\theta_{1}{\\left(t \\right)},\\frac{d}{d t} \\theta_{2}{\\left(t \\right)} \\right)}}{\\alpha_{1}{\\left(\\theta_{1}{\\left(t \\right)},\\theta_{2}{\\left(t \\right)} \\right)} \\alpha_{2}{\\left(\\theta_{1}{\\left(t \\right)},\\theta_{2}{\\left(t \\right)} \\right)} - 1}\\\\- \\frac{\\alpha_{2}{\\left(\\theta_{1}{\\left(t \\right)},\\theta_{2}{\\left(t \\right)} \\right)} \\operatorname{f_{1}}{\\left(\\theta_{1}{\\left(t \\right)},\\theta_{2}{\\left(t \\right)},\\frac{d}{d t} \\theta_{1}{\\left(t \\right)},\\frac{d}{d t} \\theta_{2}{\\left(t \\right)} \\right)} - \\operatorname{f_{2}}{\\left(\\theta_{1}{\\left(t \\right)},\\theta_{2}{\\left(t \\right)},\\frac{d}{d t} \\theta_{1}{\\left(t \\right)},\\frac{d}{d t} \\theta_{2}{\\left(t \\right)} \\right)}}{\\alpha_{1}{\\left(\\theta_{1}{\\left(t \\right)},\\theta_{2}{\\left(t \\right)} \\right)} \\alpha_{2}{\\left(\\theta_{1}{\\left(t \\right)},\\theta_{2}{\\left(t \\right)} \\right)} - 1}\\end{matrix}\\right]$"
     },
     "metadata": {},
     "output_type": "display_data"
    }
   ],
   "source": [
    "NewRHS = sp.simplify(inverse*RHS)\n",
    "\n",
    "# Multiplied by minus 1!! worked, but why???\n",
    "EQS = sp.Eq(LHS, (-1)*NewRHS)\n",
    "display(EQS)"
   ]
  },
  {
   "cell_type": "markdown",
   "source": [
    "Equations are of form, \n",
    "$$\n",
    "\\begin{aligned}\n",
    "& \\frac{d}{d t}\\left(\\begin{array}{c}\n",
    "\\theta_1 \\\\\n",
    "\\theta_2 \\\\\n",
    "\\omega_1 \\\\\n",
    "\\omega_2\n",
    "\\end{array}\\right)=\\left(\\begin{array}{c}\n",
    "\\omega_1 \\\\\n",
    "\\omega_2 \\\\\n",
    "g_1\\left(\\theta_1, \\theta_2, \\omega_1, \\omega_2\\right) \\\\\n",
    "g_2\\left(\\theta_1, \\theta_2, \\omega_1, \\omega_2\\right)\n",
    "\\end{array}\\right) \\\\\n",
    "\\end{aligned}\n",
    "$$"
   ],
   "metadata": {
    "collapsed": false
   },
   "id": "6bf8424ae70729cc"
  },
  {
   "cell_type": "markdown",
   "source": [
    "$$\n",
    "g_1:=\\frac{f_1-\\alpha_1 f_2}{1-\\alpha_1 \\alpha_2} \\quad g_2:=\\frac{-\\alpha_2 f_1+f_2}{1-\\alpha_1 \\alpha_2}\n",
    "$$"
   ],
   "metadata": {
    "collapsed": false
   },
   "id": "b137cc4cdb06dd0c"
  },
  {
   "cell_type": "code",
   "execution_count": 154,
   "id": "9bface919bcd06df",
   "metadata": {
    "ExecuteTime": {
     "end_time": "2023-12-07T13:58:51.992008Z",
     "start_time": "2023-12-07T13:58:51.983411Z"
    }
   },
   "outputs": [
    {
     "data": {
      "text/plain": "Eq(Matrix([\n[Derivative(theta1(t), (t, 2))],\n[Derivative(theta2(t), (t, 2))]]), Matrix([\n[-(9*m2*(-M2*g*sin(theta2(t)) + 2*g*m2*sin(theta2(t)) - 2*l1*m2*sin(theta1(t) - theta2(t))*Derivative(theta1(t), t)**2)*cos(theta1(t) - theta2(t))/(2*l1*(M2 + 3*m2)*(M1 + 3*m1 + 3*m2)) - 3*(-M1*g*sin(theta1(t)) + 2*g*m1*sin(theta1(t)) + 2*g*m2*sin(theta1(t)) + 2*l2*m2*sin(theta1(t) - theta2(t))*Derivative(theta2(t), t)**2)/(2*l1*(M1 + 3*m1 + 3*m2)))/(9*m2**2*cos(theta1(t) - theta2(t))**2/((M2 + 3*m2)*(M1 + 3*m1 + 3*m2)) - 1)],\n[       -(9*m2*(-M1*g*sin(theta1(t)) + 2*g*m1*sin(theta1(t)) + 2*g*m2*sin(theta1(t)) + 2*l2*m2*sin(theta1(t) - theta2(t))*Derivative(theta2(t), t)**2)*cos(theta1(t) - theta2(t))/(2*l2*(M2 + 3*m2)*(M1 + 3*m1 + 3*m2)) - 3*(-M2*g*sin(theta2(t)) + 2*g*m2*sin(theta2(t)) - 2*l1*m2*sin(theta1(t) - theta2(t))*Derivative(theta1(t), t)**2)/(2*l2*(M2 + 3*m2)))/(9*m2**2*cos(theta1(t) - theta2(t))**2/((M2 + 3*m2)*(M1 + 3*m1 + 3*m2)) - 1)]]))",
      "text/latex": "$\\displaystyle \\left[\\begin{matrix}\\frac{d^{2}}{d t^{2}} \\theta_{1}{\\left(t \\right)}\\\\\\frac{d^{2}}{d t^{2}} \\theta_{2}{\\left(t \\right)}\\end{matrix}\\right] = \\left[\\begin{matrix}- \\frac{\\frac{9 m_{2} \\left(- M_{2} g \\sin{\\left(\\theta_{2}{\\left(t \\right)} \\right)} + 2 g m_{2} \\sin{\\left(\\theta_{2}{\\left(t \\right)} \\right)} - 2 l_{1} m_{2} \\sin{\\left(\\theta_{1}{\\left(t \\right)} - \\theta_{2}{\\left(t \\right)} \\right)} \\left(\\frac{d}{d t} \\theta_{1}{\\left(t \\right)}\\right)^{2}\\right) \\cos{\\left(\\theta_{1}{\\left(t \\right)} - \\theta_{2}{\\left(t \\right)} \\right)}}{2 l_{1} \\left(M_{2} + 3 m_{2}\\right) \\left(M_{1} + 3 m_{1} + 3 m_{2}\\right)} - \\frac{3 \\left(- M_{1} g \\sin{\\left(\\theta_{1}{\\left(t \\right)} \\right)} + 2 g m_{1} \\sin{\\left(\\theta_{1}{\\left(t \\right)} \\right)} + 2 g m_{2} \\sin{\\left(\\theta_{1}{\\left(t \\right)} \\right)} + 2 l_{2} m_{2} \\sin{\\left(\\theta_{1}{\\left(t \\right)} - \\theta_{2}{\\left(t \\right)} \\right)} \\left(\\frac{d}{d t} \\theta_{2}{\\left(t \\right)}\\right)^{2}\\right)}{2 l_{1} \\left(M_{1} + 3 m_{1} + 3 m_{2}\\right)}}{\\frac{9 m_{2}^{2} \\cos^{2}{\\left(\\theta_{1}{\\left(t \\right)} - \\theta_{2}{\\left(t \\right)} \\right)}}{\\left(M_{2} + 3 m_{2}\\right) \\left(M_{1} + 3 m_{1} + 3 m_{2}\\right)} - 1}\\\\- \\frac{\\frac{9 m_{2} \\left(- M_{1} g \\sin{\\left(\\theta_{1}{\\left(t \\right)} \\right)} + 2 g m_{1} \\sin{\\left(\\theta_{1}{\\left(t \\right)} \\right)} + 2 g m_{2} \\sin{\\left(\\theta_{1}{\\left(t \\right)} \\right)} + 2 l_{2} m_{2} \\sin{\\left(\\theta_{1}{\\left(t \\right)} - \\theta_{2}{\\left(t \\right)} \\right)} \\left(\\frac{d}{d t} \\theta_{2}{\\left(t \\right)}\\right)^{2}\\right) \\cos{\\left(\\theta_{1}{\\left(t \\right)} - \\theta_{2}{\\left(t \\right)} \\right)}}{2 l_{2} \\left(M_{2} + 3 m_{2}\\right) \\left(M_{1} + 3 m_{1} + 3 m_{2}\\right)} - \\frac{3 \\left(- M_{2} g \\sin{\\left(\\theta_{2}{\\left(t \\right)} \\right)} + 2 g m_{2} \\sin{\\left(\\theta_{2}{\\left(t \\right)} \\right)} - 2 l_{1} m_{2} \\sin{\\left(\\theta_{1}{\\left(t \\right)} - \\theta_{2}{\\left(t \\right)} \\right)} \\left(\\frac{d}{d t} \\theta_{1}{\\left(t \\right)}\\right)^{2}\\right)}{2 l_{2} \\left(M_{2} + 3 m_{2}\\right)}}{\\frac{9 m_{2}^{2} \\cos^{2}{\\left(\\theta_{1}{\\left(t \\right)} - \\theta_{2}{\\left(t \\right)} \\right)}}{\\left(M_{2} + 3 m_{2}\\right) \\left(M_{1} + 3 m_{1} + 3 m_{2}\\right)} - 1}\\end{matrix}\\right]$"
     },
     "metadata": {},
     "output_type": "display_data"
    }
   ],
   "source": [
    "# Substitute values of the functions\n",
    "EQS_subst = EQS.subs({alpha1_func: alpha1, alpha2_func: alpha2, function1: function_1, function2: function_2})\n",
    "display(EQS_subst)"
   ]
  },
  {
   "cell_type": "code",
   "execution_count": 155,
   "id": "6aa9e780f8f94f23",
   "metadata": {
    "ExecuteTime": {
     "end_time": "2023-12-07T13:59:06.821068Z",
     "start_time": "2023-12-07T13:59:06.806650Z"
    }
   },
   "outputs": [
    {
     "name": "stdout",
     "output_type": "stream",
     "text": [
      "Type of System:\n",
      "<class 'sympy.core.relational.Equality'>\n",
      "\n",
      "Type of RHS:\n",
      "<class 'sympy.matrices.immutable.ImmutableDenseMatrix'>\n"
     ]
    }
   ],
   "source": [
    "print(f\"Type of System:\\n{type(EQS_subst)}\\n\")\n",
    "\n",
    "RHS_subst = EQS_subst.rhs \n",
    "print(f\"Type of RHS:\\n{type(RHS_subst)}\")"
   ]
  },
  {
   "cell_type": "markdown",
   "source": [
    "The RHS of `EQS_subst` contains complex expressions. \n",
    "- Simplify. \n",
    "- Unpack using index notation"
   ],
   "metadata": {
    "collapsed": false
   },
   "id": "e979493d9a24cbad"
  },
  {
   "cell_type": "code",
   "execution_count": 156,
   "id": "59be8967ce7abadc",
   "metadata": {
    "ExecuteTime": {
     "end_time": "2023-12-07T13:59:15.144827Z",
     "start_time": "2023-12-07T13:59:12.117307Z"
    }
   },
   "outputs": [
    {
     "name": "stdout",
     "output_type": "stream",
     "text": [
      "Type of RHS[0]:\n",
      "<class 'sympy.core.mul.Mul'>\n"
     ]
    },
    {
     "data": {
      "text/plain": "3*(3*m2*(M2*g*sin(theta2(t)) - 2*g*m2*sin(theta2(t)) + 2*l1*m2*sin(theta1(t) - theta2(t))*Derivative(theta1(t), t)**2)*cos(theta1(t) - theta2(t)) + (M2 + 3*m2)*(-M1*g*sin(theta1(t)) + 2*g*m1*sin(theta1(t)) + 2*g*m2*sin(theta1(t)) + 2*l2*m2*sin(theta1(t) - theta2(t))*Derivative(theta2(t), t)**2))/(2*l1*(9*m2**2*cos(theta1(t) - theta2(t))**2 - (M2 + 3*m2)*(M1 + 3*m1 + 3*m2)))",
      "text/latex": "$\\displaystyle \\frac{3 \\cdot \\left(3 m_{2} \\left(M_{2} g \\sin{\\left(\\theta_{2}{\\left(t \\right)} \\right)} - 2 g m_{2} \\sin{\\left(\\theta_{2}{\\left(t \\right)} \\right)} + 2 l_{1} m_{2} \\sin{\\left(\\theta_{1}{\\left(t \\right)} - \\theta_{2}{\\left(t \\right)} \\right)} \\left(\\frac{d}{d t} \\theta_{1}{\\left(t \\right)}\\right)^{2}\\right) \\cos{\\left(\\theta_{1}{\\left(t \\right)} - \\theta_{2}{\\left(t \\right)} \\right)} + \\left(M_{2} + 3 m_{2}\\right) \\left(- M_{1} g \\sin{\\left(\\theta_{1}{\\left(t \\right)} \\right)} + 2 g m_{1} \\sin{\\left(\\theta_{1}{\\left(t \\right)} \\right)} + 2 g m_{2} \\sin{\\left(\\theta_{1}{\\left(t \\right)} \\right)} + 2 l_{2} m_{2} \\sin{\\left(\\theta_{1}{\\left(t \\right)} - \\theta_{2}{\\left(t \\right)} \\right)} \\left(\\frac{d}{d t} \\theta_{2}{\\left(t \\right)}\\right)^{2}\\right)\\right)}{2 l_{1} \\cdot \\left(9 m_{2}^{2} \\cos^{2}{\\left(\\theta_{1}{\\left(t \\right)} - \\theta_{2}{\\left(t \\right)} \\right)} - \\left(M_{2} + 3 m_{2}\\right) \\left(M_{1} + 3 m_{1} + 3 m_{2}\\right)\\right)}$"
     },
     "metadata": {},
     "output_type": "display_data"
    }
   ],
   "source": [
    "# Value of second derivative of theta1 w.r.t time\n",
    "print(f\"Type of RHS[0]:\\n{type(RHS_subst[0])}\")\n",
    "theta1ddot_eqn = RHS_subst[0]\n",
    "\n",
    "# Simplify the complex expression\n",
    "RHS_1 = sp.simplify(theta1ddot_eqn)\n",
    "display(RHS_1)"
   ]
  },
  {
   "cell_type": "code",
   "execution_count": 157,
   "id": "3a8727babfe571a8",
   "metadata": {
    "ExecuteTime": {
     "end_time": "2023-12-07T13:59:28.979231Z",
     "start_time": "2023-12-07T13:59:25.516052Z"
    }
   },
   "outputs": [
    {
     "name": "stdout",
     "output_type": "stream",
     "text": [
      "Type of RHS[1]:\n",
      "<class 'sympy.core.mul.Mul'>\n"
     ]
    },
    {
     "data": {
      "text/plain": "3*(-3*m2*(-M1*g*sin(theta1(t)) + 2*g*m1*sin(theta1(t)) + 2*g*m2*sin(theta1(t)) + 2*l2*m2*sin(theta1(t) - theta2(t))*Derivative(theta2(t), t)**2)*cos(theta1(t) - theta2(t)) + (-M1 - 3*m1 - 3*m2)*(M2*g*sin(theta2(t)) - 2*g*m2*sin(theta2(t)) + 2*l1*m2*sin(theta1(t) - theta2(t))*Derivative(theta1(t), t)**2))/(2*l2*(9*m2**2*cos(theta1(t) - theta2(t))**2 - (M2 + 3*m2)*(M1 + 3*m1 + 3*m2)))",
      "text/latex": "$\\displaystyle \\frac{3 \\left(- 3 m_{2} \\left(- M_{1} g \\sin{\\left(\\theta_{1}{\\left(t \\right)} \\right)} + 2 g m_{1} \\sin{\\left(\\theta_{1}{\\left(t \\right)} \\right)} + 2 g m_{2} \\sin{\\left(\\theta_{1}{\\left(t \\right)} \\right)} + 2 l_{2} m_{2} \\sin{\\left(\\theta_{1}{\\left(t \\right)} - \\theta_{2}{\\left(t \\right)} \\right)} \\left(\\frac{d}{d t} \\theta_{2}{\\left(t \\right)}\\right)^{2}\\right) \\cos{\\left(\\theta_{1}{\\left(t \\right)} - \\theta_{2}{\\left(t \\right)} \\right)} + \\left(- M_{1} - 3 m_{1} - 3 m_{2}\\right) \\left(M_{2} g \\sin{\\left(\\theta_{2}{\\left(t \\right)} \\right)} - 2 g m_{2} \\sin{\\left(\\theta_{2}{\\left(t \\right)} \\right)} + 2 l_{1} m_{2} \\sin{\\left(\\theta_{1}{\\left(t \\right)} - \\theta_{2}{\\left(t \\right)} \\right)} \\left(\\frac{d}{d t} \\theta_{1}{\\left(t \\right)}\\right)^{2}\\right)\\right)}{2 l_{2} \\cdot \\left(9 m_{2}^{2} \\cos^{2}{\\left(\\theta_{1}{\\left(t \\right)} - \\theta_{2}{\\left(t \\right)} \\right)} - \\left(M_{2} + 3 m_{2}\\right) \\left(M_{1} + 3 m_{1} + 3 m_{2}\\right)\\right)}$"
     },
     "metadata": {},
     "output_type": "display_data"
    }
   ],
   "source": [
    "# Value of second derivative of theta2 w.r.t time\n",
    "print(f\"Type of RHS[1]:\\n{type(RHS_subst[1])}\")\n",
    "theta2ddot_eqn = RHS_subst[1]\n",
    "\n",
    "# Simplify the complex expression\n",
    "RHS_2 = sp.simplify(theta2ddot_eqn)\n",
    "display(RHS_2)"
   ]
  },
  {
   "cell_type": "markdown",
   "id": "c1ac15d58954cc73",
   "metadata": {},
   "source": [
    "----\n",
    "&nbsp;\n",
    "## Rewrite as first order system\n",
    "\n",
    "Declare new variables $\\omega_1$ and $\\omega_2$"
   ]
  },
  {
   "cell_type": "code",
   "execution_count": 158,
   "outputs": [],
   "source": [
    "omega1 = sp.Function('omega1')(t)\n",
    "omega2 = sp.Function('omega2')(t)"
   ],
   "metadata": {
    "collapsed": false,
    "ExecuteTime": {
     "end_time": "2023-12-07T13:59:46.956019Z",
     "start_time": "2023-12-07T13:59:46.939505Z"
    }
   },
   "id": "878b504dc5bc55cf"
  },
  {
   "cell_type": "code",
   "execution_count": 159,
   "id": "f4fe754e52474667",
   "metadata": {
    "ExecuteTime": {
     "end_time": "2023-12-07T13:59:49.003139Z",
     "start_time": "2023-12-07T13:59:48.994484Z"
    }
   },
   "outputs": [],
   "source": [
    "# Cast as first order system\n",
    "eq1 = sp.Eq(omega1, sp.diff(theta1, t))\n",
    "eq2 = sp.Eq(omega2, sp.diff(theta2, t))\n",
    "eq3 = sp.Eq(sp.diff(omega1, t), RHS_1)\n",
    "eq4 = sp.Eq(sp.diff(omega2, t), RHS_2)"
   ]
  },
  {
   "cell_type": "code",
   "execution_count": 160,
   "outputs": [],
   "source": [
    "# Substitute omega for derivative of theta\n",
    "derivative_subs = {sp.Derivative(theta1, t): omega1, sp.Derivative(theta2, t): omega2}\n",
    "\n",
    "# Isolate rhs of equations\n",
    "eqn1 = eq1.rhs.subs(derivative_subs)\n",
    "eqn2 = eq2.rhs.subs(derivative_subs)\n",
    "eqn3 = eq3.rhs.subs(derivative_subs)\n",
    "eqn4 = eq4.rhs.subs(derivative_subs)"
   ],
   "metadata": {
    "collapsed": false,
    "ExecuteTime": {
     "end_time": "2023-12-07T13:59:51.179504Z",
     "start_time": "2023-12-07T13:59:51.140895Z"
    }
   },
   "id": "9e7c3612b58ad25d"
  },
  {
   "cell_type": "markdown",
   "id": "74d276a8d5686ccb",
   "metadata": {},
   "source": [
    "Define system as matrix equations"
   ]
  },
  {
   "cell_type": "code",
   "execution_count": 161,
   "id": "733aecea8d9f92e5",
   "metadata": {
    "ExecuteTime": {
     "end_time": "2023-12-07T13:59:53.961596Z",
     "start_time": "2023-12-07T13:59:53.953176Z"
    }
   },
   "outputs": [
    {
     "data": {
      "text/plain": "Eq(Matrix([\n[               omega1(t)],\n[               omega2(t)],\n[Derivative(omega1(t), t)],\n[Derivative(omega2(t), t)]]), Matrix([\n[                                                                                                                                                                                                                                                                                                                                                                         Derivative(theta1(t), t)],\n[                                                                                                                                                                                                                                                                                                                                                                         Derivative(theta2(t), t)],\n[         3*(3*m2*(M2*g*sin(theta2(t)) - 2*g*m2*sin(theta2(t)) + 2*l1*m2*sin(theta1(t) - theta2(t))*Derivative(theta1(t), t)**2)*cos(theta1(t) - theta2(t)) + (M2 + 3*m2)*(-M1*g*sin(theta1(t)) + 2*g*m1*sin(theta1(t)) + 2*g*m2*sin(theta1(t)) + 2*l2*m2*sin(theta1(t) - theta2(t))*Derivative(theta2(t), t)**2))/(2*l1*(9*m2**2*cos(theta1(t) - theta2(t))**2 - (M2 + 3*m2)*(M1 + 3*m1 + 3*m2)))],\n[3*(-3*m2*(-M1*g*sin(theta1(t)) + 2*g*m1*sin(theta1(t)) + 2*g*m2*sin(theta1(t)) + 2*l2*m2*sin(theta1(t) - theta2(t))*Derivative(theta2(t), t)**2)*cos(theta1(t) - theta2(t)) + (-M1 - 3*m1 - 3*m2)*(M2*g*sin(theta2(t)) - 2*g*m2*sin(theta2(t)) + 2*l1*m2*sin(theta1(t) - theta2(t))*Derivative(theta1(t), t)**2))/(2*l2*(9*m2**2*cos(theta1(t) - theta2(t))**2 - (M2 + 3*m2)*(M1 + 3*m1 + 3*m2)))]]))",
      "text/latex": "$\\displaystyle \\left[\\begin{matrix}\\omega_{1}{\\left(t \\right)}\\\\\\omega_{2}{\\left(t \\right)}\\\\\\frac{d}{d t} \\omega_{1}{\\left(t \\right)}\\\\\\frac{d}{d t} \\omega_{2}{\\left(t \\right)}\\end{matrix}\\right] = \\left[\\begin{matrix}\\frac{d}{d t} \\theta_{1}{\\left(t \\right)}\\\\\\frac{d}{d t} \\theta_{2}{\\left(t \\right)}\\\\\\frac{3 \\cdot \\left(3 m_{2} \\left(M_{2} g \\sin{\\left(\\theta_{2}{\\left(t \\right)} \\right)} - 2 g m_{2} \\sin{\\left(\\theta_{2}{\\left(t \\right)} \\right)} + 2 l_{1} m_{2} \\sin{\\left(\\theta_{1}{\\left(t \\right)} - \\theta_{2}{\\left(t \\right)} \\right)} \\left(\\frac{d}{d t} \\theta_{1}{\\left(t \\right)}\\right)^{2}\\right) \\cos{\\left(\\theta_{1}{\\left(t \\right)} - \\theta_{2}{\\left(t \\right)} \\right)} + \\left(M_{2} + 3 m_{2}\\right) \\left(- M_{1} g \\sin{\\left(\\theta_{1}{\\left(t \\right)} \\right)} + 2 g m_{1} \\sin{\\left(\\theta_{1}{\\left(t \\right)} \\right)} + 2 g m_{2} \\sin{\\left(\\theta_{1}{\\left(t \\right)} \\right)} + 2 l_{2} m_{2} \\sin{\\left(\\theta_{1}{\\left(t \\right)} - \\theta_{2}{\\left(t \\right)} \\right)} \\left(\\frac{d}{d t} \\theta_{2}{\\left(t \\right)}\\right)^{2}\\right)\\right)}{2 l_{1} \\cdot \\left(9 m_{2}^{2} \\cos^{2}{\\left(\\theta_{1}{\\left(t \\right)} - \\theta_{2}{\\left(t \\right)} \\right)} - \\left(M_{2} + 3 m_{2}\\right) \\left(M_{1} + 3 m_{1} + 3 m_{2}\\right)\\right)}\\\\\\frac{3 \\left(- 3 m_{2} \\left(- M_{1} g \\sin{\\left(\\theta_{1}{\\left(t \\right)} \\right)} + 2 g m_{1} \\sin{\\left(\\theta_{1}{\\left(t \\right)} \\right)} + 2 g m_{2} \\sin{\\left(\\theta_{1}{\\left(t \\right)} \\right)} + 2 l_{2} m_{2} \\sin{\\left(\\theta_{1}{\\left(t \\right)} - \\theta_{2}{\\left(t \\right)} \\right)} \\left(\\frac{d}{d t} \\theta_{2}{\\left(t \\right)}\\right)^{2}\\right) \\cos{\\left(\\theta_{1}{\\left(t \\right)} - \\theta_{2}{\\left(t \\right)} \\right)} + \\left(- M_{1} - 3 m_{1} - 3 m_{2}\\right) \\left(M_{2} g \\sin{\\left(\\theta_{2}{\\left(t \\right)} \\right)} - 2 g m_{2} \\sin{\\left(\\theta_{2}{\\left(t \\right)} \\right)} + 2 l_{1} m_{2} \\sin{\\left(\\theta_{1}{\\left(t \\right)} - \\theta_{2}{\\left(t \\right)} \\right)} \\left(\\frac{d}{d t} \\theta_{1}{\\left(t \\right)}\\right)^{2}\\right)\\right)}{2 l_{2} \\cdot \\left(9 m_{2}^{2} \\cos^{2}{\\left(\\theta_{1}{\\left(t \\right)} - \\theta_{2}{\\left(t \\right)} \\right)} - \\left(M_{2} + 3 m_{2}\\right) \\left(M_{1} + 3 m_{1} + 3 m_{2}\\right)\\right)}\\end{matrix}\\right]$"
     },
     "metadata": {},
     "output_type": "display_data"
    }
   ],
   "source": [
    "LHS_FIRST = sp.Matrix([[eq1.lhs], [eq2.lhs], [eq3.lhs], [eq4.lhs]])\n",
    "RHS_FIRST = sp.Matrix([[eq1.rhs], [eq2.rhs], [eq3.rhs], [eq4.rhs]])\n",
    "\n",
    "MAT_EQ = sp.Eq(LHS_FIRST, RHS_FIRST)\n",
    "display(MAT_EQ)"
   ]
  },
  {
   "cell_type": "markdown",
   "id": "7a4c42935ce25cc4",
   "metadata": {},
   "source": [
    "----\n",
    "&nbsp;\n",
    "### Numerical Integration in [DoublePendulum Class](https://github.com/pineapple-bois/Double_Pendulum/blob/master/Compound_Double_Pendulum/DoublePendulum_Moments.py)"
   ]
  }
 ],
 "metadata": {
  "kernelspec": {
   "display_name": "Python 3 (ipykernel)",
   "language": "python",
   "name": "python3"
  },
  "language_info": {
   "codemirror_mode": {
    "name": "ipython",
    "version": 3
   },
   "file_extension": ".py",
   "mimetype": "text/x-python",
   "name": "python",
   "nbconvert_exporter": "python",
   "pygments_lexer": "ipython3",
   "version": "3.9.12"
  },
  "toc": {
   "base_numbering": 1,
   "nav_menu": {},
   "number_sections": true,
   "sideBar": true,
   "skip_h1_title": false,
   "title_cell": "Table of Contents",
   "title_sidebar": "Contents",
   "toc_cell": false,
   "toc_position": {},
   "toc_section_display": true,
   "toc_window_display": false
  }
 },
 "nbformat": 4,
 "nbformat_minor": 5
}
